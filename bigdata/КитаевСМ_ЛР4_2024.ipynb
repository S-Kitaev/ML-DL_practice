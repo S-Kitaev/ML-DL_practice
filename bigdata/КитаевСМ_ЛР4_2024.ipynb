{
  "nbformat": 4,
  "nbformat_minor": 0,
  "metadata": {
    "colab": {
      "provenance": []
    },
    "kernelspec": {
      "name": "python3",
      "display_name": "Python 3"
    },
    "language_info": {
      "name": "python"
    }
  },
  "cells": [
    {
      "cell_type": "markdown",
      "source": [
        "# Задание 1\n",
        "\n",
        "Сгенерируйте 3 матрицы NUMPY из 1 млн. строк, содержащих 4 столбца – пол, возраст (от 16 до 66 лет), доход (от 10 тыр до 200 тыр), профессия. В категориальной переменной профессия сделайте 3-4 категории, в переменной пол – 2, возраст и доход сделайте количественными, с типом INT. Для генерации этих столбцов используйте методы NP.RANDOM.NORMAL, NP.RANDOM.CHOICE. Перед генерацией каждой матрицы установите новые параметры генератора случайных чисел, с помощью NP.RANDOM.SEED(100), NP.RANDOM.SEED(200), NP.RANDOM.SEED(300)."
      ],
      "metadata": {
        "id": "Es3ZRDU3DE2a"
      }
    },
    {
      "cell_type": "code",
      "execution_count": null,
      "metadata": {
        "id": "ktBEiMUq5w4q",
        "colab": {
          "base_uri": "https://localhost:8080/"
        },
        "outputId": "6dc75ce6-6404-4c1e-e48b-cff1be55dbb9"
      },
      "outputs": [
        {
          "output_type": "execute_result",
          "data": {
            "text/plain": [
              "(array([['Жен', 32, 115351, 'дворник'],\n",
              "        ['Жен', 33, 73212, 'кассир'],\n",
              "        ['Жен', 36, 112725, 'дворник'],\n",
              "        ['Жен', 40, 66860, 'кассир'],\n",
              "        ['Муж', 31, 80346, 'кассир']], dtype=object),\n",
              " array([['Муж', 41, 70710, 'уборщик'],\n",
              "        ['Жен', 31, 128525, 'уборщик'],\n",
              "        ['Муж', 29, 90205, 'дворник'],\n",
              "        ['Жен', 34, 48126, 'няня'],\n",
              "        ['Муж', 42, 113343, 'кассир']], dtype=object),\n",
              " array([['Жен', 54, 133447, 'кассир'],\n",
              "        ['Муж', 37, 63196, 'дворник'],\n",
              "        ['Жен', 39, 108064, 'няня'],\n",
              "        ['Муж', 44, 113736, 'кассир'],\n",
              "        ['Жен', 37, 186892, 'кассир']], dtype=object))"
            ]
          },
          "metadata": {},
          "execution_count": 1
        }
      ],
      "source": [
        "import numpy as np\n",
        "import pandas as pd\n",
        "\n",
        "n = 1_000_000\n",
        "\n",
        "matrix1 = pd.DataFrame({\n",
        "    'sex': np.random.choice(['Муж', 'Жен'], size = n),\n",
        "    'age': np.array(np.random.normal(41, 8, size=1000000), dtype=np.int8),\n",
        "    'income': np.array(np.random.normal(105000, 31000, size=1000000), dtype=np.uint32),\n",
        "    'professions': np.random.choice(['дворник', 'уборщик', 'няня', 'кассир'], size=n)\n",
        "}).to_numpy()\n",
        "\n",
        "matrix2 = pd.DataFrame({\n",
        "    'sex': np.random.choice(['Муж', 'Жен'], size = n),\n",
        "    'age': np.array(np.random.normal(41, 8, size=1000000), dtype=np.int8),\n",
        "    'income': np.array(np.random.normal(105000, 31000, size=1000000), dtype=np.uint32),\n",
        "    'professions': np.random.choice(['дворник', 'уборщик', 'няня', 'кассир'], size=n)\n",
        "}).to_numpy()\n",
        "\n",
        "matrix3 = pd.DataFrame({\n",
        "    'sex': np.random.choice(['Муж', 'Жен'], size = n),\n",
        "    'age': np.array(np.random.normal(41, 8, size=1000000), dtype=np.int8),\n",
        "    'income': np.array(np.random.normal(105000, 31000, size=1000000), dtype=np.uint32),\n",
        "    'professions': np.random.choice(['дворник', 'уборщик', 'няня', 'кассир'], size=n)\n",
        "}).to_numpy()\n",
        "\n",
        "matrix1[:5], matrix2[:5], matrix3[:5]"
      ]
    },
    {
      "cell_type": "markdown",
      "source": [
        "# Задание 2\n",
        "\n",
        "Установите PySpark и подключитесь к локальному кластеру Spark."
      ],
      "metadata": {
        "id": "T8X_COQXERUW"
      }
    },
    {
      "cell_type": "code",
      "source": [
        "!apt-get install openjdk-8-jdk-headless -qq > /dev/null\n",
        "!wget -q https://downloads.apache.org/spark/spark-3.5.3/spark-3.5.3-bin-hadoop3.tgz\n",
        "!tar xf spark-3.5.3-bin-hadoop3.tgz"
      ],
      "metadata": {
        "id": "Ny_wcyUyHe4K"
      },
      "execution_count": null,
      "outputs": []
    },
    {
      "cell_type": "code",
      "source": [
        "import os\n",
        "os.environ[\"JAVA_HOME\"] = \"/usr/lib/jvm/java-8-openjdk-amd64\"\n",
        "os.environ[\"SPARK_HOME\"] = \"/content/spark-3.5.3-bin-hadoop3\""
      ],
      "metadata": {
        "id": "KYEvv73nHoI5"
      },
      "execution_count": null,
      "outputs": []
    },
    {
      "cell_type": "code",
      "source": [
        "!pip install -q findspark"
      ],
      "metadata": {
        "id": "0Hx7cTHzHtxH"
      },
      "execution_count": null,
      "outputs": []
    },
    {
      "cell_type": "code",
      "source": [
        "import findspark\n",
        "findspark.init()\n",
        "from pyspark.sql import SparkSession\n",
        "spark = SparkSession.builder.master(\"local[*]\").getOrCreate()"
      ],
      "metadata": {
        "id": "k6osnNfdH4Xr"
      },
      "execution_count": null,
      "outputs": []
    },
    {
      "cell_type": "markdown",
      "source": [
        "#3 Задание\n",
        "\n",
        "На основе матриц создайте RDD, Dataset, Dataframe и запишите их на диск, в форматах CSV, JSON, PARQUET. Код создания этих структур данных и сохранения в каждом формате, поместите в отдельные ячейки кода Jupiter и замерьте время записи на диск с помощью команды %t%timeit."
      ],
      "metadata": {
        "id": "Lef9tXwfQDPu"
      }
    },
    {
      "cell_type": "code",
      "source": [
        "columns = ['sex', 'age', 'income', 'professions']"
      ],
      "metadata": {
        "id": "KvStqSjUQq0h"
      },
      "execution_count": null,
      "outputs": []
    },
    {
      "cell_type": "code",
      "source": [
        "rdd1 = spark.sparkContext.parallelize([tuple(row) for row in matrix1])\n",
        "rdd_df1 = rdd1.toDF(columns)\n",
        "%timeit rdd_df1.write.csv('csv_rdd/rdd_1.csv', mode='overwrite')\n",
        "%timeit rdd_df1.write.json('output_rdd/rdd_1.json', mode='overwrite')\n",
        "%timeit rdd_df1.write.parquet('output_rdd/rdd_1.parquet', mode='overwrite')\n",
        "del rdd1, rdd_df1"
      ],
      "metadata": {
        "colab": {
          "base_uri": "https://localhost:8080/"
        },
        "id": "fhptI4soQGTE",
        "outputId": "600ee90f-bdbc-499a-feee-717d5ae90c6e"
      },
      "execution_count": null,
      "outputs": [
        {
          "output_type": "stream",
          "name": "stdout",
          "text": [
            "5.27 s ± 728 ms per loop (mean ± std. dev. of 7 runs, 1 loop each)\n",
            "5.03 s ± 558 ms per loop (mean ± std. dev. of 7 runs, 1 loop each)\n",
            "5.75 s ± 936 ms per loop (mean ± std. dev. of 7 runs, 1 loop each)\n"
          ]
        }
      ]
    },
    {
      "cell_type": "code",
      "source": [
        "rdd2 = spark.sparkContext.parallelize([tuple(row) for row in matrix2])\n",
        "rdd_df2 = rdd2.toDF(columns)\n",
        "%timeit rdd_df2.write.csv('csv_rdd/rdd_2.csv', mode='overwrite')\n",
        "%timeit rdd_df2.write.json('output_rdd/rdd_2.json', mode='overwrite')\n",
        "%timeit rdd_df2.write.parquet('output_rdd/rdd_2.parquet', mode='overwrite')\n",
        "del rdd2, rdd_df2"
      ],
      "metadata": {
        "colab": {
          "base_uri": "https://localhost:8080/"
        },
        "id": "jIP3Xz4SQ5XF",
        "outputId": "c4ec6408-f92a-4641-b3b9-2f857c2acf1d"
      },
      "execution_count": null,
      "outputs": [
        {
          "output_type": "stream",
          "name": "stdout",
          "text": [
            "5.8 s ± 785 ms per loop (mean ± std. dev. of 7 runs, 1 loop each)\n",
            "5.39 s ± 1.04 s per loop (mean ± std. dev. of 7 runs, 1 loop each)\n",
            "4.65 s ± 701 ms per loop (mean ± std. dev. of 7 runs, 1 loop each)\n"
          ]
        }
      ]
    },
    {
      "cell_type": "code",
      "source": [
        "rdd3 = spark.sparkContext.parallelize([tuple(row) for row in matrix3])\n",
        "rdd_df3 = rdd3.toDF(columns)\n",
        "%timeit rdd_df3.write.csv('csv_rdd/rdd_3.csv', mode='overwrite')\n",
        "%timeit rdd_df3.write.json('output_rdd/rdd_3.json', mode='overwrite')\n",
        "%timeit rdd_df3.write.parquet('output_rdd/rdd_3.parquet', mode='overwrite')\n",
        "del rdd3, rdd_df3"
      ],
      "metadata": {
        "colab": {
          "base_uri": "https://localhost:8080/"
        },
        "id": "a-BhIFM4REfR",
        "outputId": "aa733f7a-cb9a-4db4-de0e-586e032d24b0"
      },
      "execution_count": null,
      "outputs": [
        {
          "output_type": "stream",
          "name": "stdout",
          "text": [
            "4.96 s ± 628 ms per loop (mean ± std. dev. of 7 runs, 1 loop each)\n",
            "4.91 s ± 580 ms per loop (mean ± std. dev. of 7 runs, 1 loop each)\n",
            "5.06 s ± 533 ms per loop (mean ± std. dev. of 7 runs, 1 loop each)\n"
          ]
        }
      ]
    },
    {
      "cell_type": "code",
      "source": [
        "df1 = spark.createDataFrame(matrix1, columns)\n",
        "%timeit df1.write.csv('csv_df/df1_output.csv', mode='overwrite')\n",
        "%timeit df1.write.json('output_df/df1_output.json', mode='overwrite')\n",
        "%timeit df1.write.parquet('output_df/df1_output.parquet', mode='overwrite')\n",
        "del df1"
      ],
      "metadata": {
        "colab": {
          "base_uri": "https://localhost:8080/"
        },
        "id": "-fDqgNJWYvue",
        "outputId": "27017bd5-302a-4cf9-9ad6-a86d8a2ece46"
      },
      "execution_count": null,
      "outputs": [
        {
          "output_type": "stream",
          "name": "stdout",
          "text": [
            "4.36 s ± 1.12 s per loop (mean ± std. dev. of 7 runs, 1 loop each)\n",
            "3.97 s ± 555 ms per loop (mean ± std. dev. of 7 runs, 1 loop each)\n",
            "3.8 s ± 489 ms per loop (mean ± std. dev. of 7 runs, 1 loop each)\n"
          ]
        }
      ]
    },
    {
      "cell_type": "code",
      "source": [
        "df2 = spark.createDataFrame(matrix2, columns)\n",
        "%timeit df2.write.csv('csv_df/df2_output.csv', mode='overwrite')\n",
        "%timeit df2.write.json('output_df/df2_output.json', mode='overwrite')\n",
        "%timeit df2.write.parquet('output_df/df2_output.parquet', mode='overwrite')\n",
        "del df2"
      ],
      "metadata": {
        "colab": {
          "base_uri": "https://localhost:8080/"
        },
        "id": "32k_KwmsaB-H",
        "outputId": "f0ad6fac-1ed1-43c3-97b8-71ebcb2fe178"
      },
      "execution_count": null,
      "outputs": [
        {
          "output_type": "stream",
          "name": "stdout",
          "text": [
            "3.97 s ± 496 ms per loop (mean ± std. dev. of 7 runs, 1 loop each)\n",
            "4 s ± 500 ms per loop (mean ± std. dev. of 7 runs, 1 loop each)\n",
            "3.69 s ± 576 ms per loop (mean ± std. dev. of 7 runs, 1 loop each)\n"
          ]
        }
      ]
    },
    {
      "cell_type": "code",
      "source": [
        "df3 = spark.createDataFrame(matrix3, columns)\n",
        "%timeit df3.write.csv('csv_df/df3_output.csv', mode='overwrite')\n",
        "%timeit df3.write.json('output_df/df3_output.json', mode='overwrite')\n",
        "%timeit df3.write.parquet('output_df/df3_output.parquet', mode='overwrite')\n",
        "del df3"
      ],
      "metadata": {
        "colab": {
          "base_uri": "https://localhost:8080/"
        },
        "id": "th3EKvaaaCiL",
        "outputId": "b30d4897-2e8c-42c3-f40c-791b7b3bac6d"
      },
      "execution_count": null,
      "outputs": [
        {
          "output_type": "stream",
          "name": "stdout",
          "text": [
            "4.02 s ± 597 ms per loop (mean ± std. dev. of 7 runs, 1 loop each)\n",
            "3.9 s ± 611 ms per loop (mean ± std. dev. of 7 runs, 1 loop each)\n",
            "3.71 s ± 439 ms per loop (mean ± std. dev. of 7 runs, 1 loop each)\n"
          ]
        }
      ]
    },
    {
      "cell_type": "markdown",
      "source": [
        "#4 Задание\n",
        "\n",
        "Считайте полученные файлы с диска в новые RDD, Dataset, Dataframe в отдельных ячейках кода Jupiter и замерьте время чтения для каждой комбинации (формат файластруктура данных) с помощью команды %t%timeit."
      ],
      "metadata": {
        "id": "isgyOccb5tcI"
      }
    },
    {
      "cell_type": "code",
      "source": [
        "%timeit rdd = spark.read.csv('output_df/df1_output.csv').rdd\n",
        "%timeit rdd = spark.read.csv('output_df/df1_output.csv').rdd\n",
        "%timeit rdd = spark.read.csv('output_df/df1_output.csv').rdd\n",
        "print()\n",
        "%timeit rdd = spark.read.json('output_rdd/rdd_1.json').rdd\n",
        "%timeit rdd = spark.read.json('output_rdd/rdd_2.json').rdd\n",
        "%timeit rdd = spark.read.json('output_rdd/rdd_3.json').rdd\n",
        "print()\n",
        "%timeit rdd = spark.read.parquet('output_rdd/rdd_1.parquet').rdd\n",
        "%timeit rdd = spark.read.parquet('output_rdd/rdd_2.parquet').rdd\n",
        "%timeit rdd = spark.read.parquet('output_rdd/rdd_3.parquet').rdd"
      ],
      "metadata": {
        "colab": {
          "base_uri": "https://localhost:8080/"
        },
        "id": "uswi31Qk5vwx",
        "outputId": "32660e6d-3526-4088-c08b-ff4f19c17044"
      },
      "execution_count": null,
      "outputs": [
        {
          "output_type": "stream",
          "name": "stdout",
          "text": [
            "417 ms ± 46.5 ms per loop (mean ± std. dev. of 7 runs, 1 loop each)\n",
            "224 ms ± 57.8 ms per loop (mean ± std. dev. of 7 runs, 1 loop each)\n",
            "158 ms ± 36.4 ms per loop (mean ± std. dev. of 7 runs, 10 loops each)\n",
            "\n",
            "1.64 s ± 474 ms per loop (mean ± std. dev. of 7 runs, 1 loop each)\n",
            "1.53 s ± 330 ms per loop (mean ± std. dev. of 7 runs, 1 loop each)\n",
            "1.39 s ± 144 ms per loop (mean ± std. dev. of 7 runs, 1 loop each)\n",
            "\n",
            "143 ms ± 32.4 ms per loop (mean ± std. dev. of 7 runs, 1 loop each)\n",
            "90.8 ms ± 5.15 ms per loop (mean ± std. dev. of 7 runs, 10 loops each)\n",
            "105 ms ± 20.4 ms per loop (mean ± std. dev. of 7 runs, 10 loops each)\n"
          ]
        }
      ]
    },
    {
      "cell_type": "code",
      "source": [
        "%timeit df = spark.read.csv('output_df/df1_output.csv')\n",
        "%timeit df = spark.read.csv('output_df/df2_output.csv')\n",
        "%timeit df = spark.read.csv('output_df/df3_output.csv')\n",
        "print()\n",
        "%timeit df = spark.read.json('output_df/df1_output.json')\n",
        "%timeit df = spark.read.json('output_df/df2_output.json')\n",
        "%timeit df = spark.read.json('output_df/df3_output.json')\n",
        "print()\n",
        "%timeit df = spark.read.parquet('output_df/df1_output.parquet')\n",
        "%timeit df = spark.read.parquet('output_df/df2_output.parquet')\n",
        "%timeit df = spark.read.parquet('output_df/df3_output.parquet')"
      ],
      "metadata": {
        "colab": {
          "base_uri": "https://localhost:8080/"
        },
        "id": "8WSxdg-c_2jX",
        "outputId": "91e99e46-a8f5-4baf-ba73-04a39b2d67a6"
      },
      "execution_count": null,
      "outputs": [
        {
          "output_type": "stream",
          "name": "stdout",
          "text": [
            "97.9 ms ± 12 ms per loop (mean ± std. dev. of 7 runs, 1 loop each)\n",
            "104 ms ± 16.7 ms per loop (mean ± std. dev. of 7 runs, 10 loops each)\n",
            "85.9 ms ± 5.06 ms per loop (mean ± std. dev. of 7 runs, 10 loops each)\n",
            "\n",
            "1.49 s ± 309 ms per loop (mean ± std. dev. of 7 runs, 1 loop each)\n",
            "1.48 s ± 270 ms per loop (mean ± std. dev. of 7 runs, 1 loop each)\n",
            "1.57 s ± 336 ms per loop (mean ± std. dev. of 7 runs, 1 loop each)\n",
            "\n",
            "61.4 ms ± 1.61 ms per loop (mean ± std. dev. of 7 runs, 10 loops each)\n",
            "75.5 ms ± 14.7 ms per loop (mean ± std. dev. of 7 runs, 10 loops each)\n",
            "63.3 ms ± 6.14 ms per loop (mean ± std. dev. of 7 runs, 10 loops each)\n"
          ]
        }
      ]
    },
    {
      "cell_type": "markdown",
      "source": [
        "#5 Задание\n",
        "\n",
        "Заполните сравнительную таблицу:"
      ],
      "metadata": {
        "id": "L9b7VM047_NY"
      }
    },
    {
      "cell_type": "markdown",
      "source": [
        "![image.png](data:image/png;base64,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)"
      ],
      "metadata": {
        "id": "SBsCrDJ6BrHw"
      }
    },
    {
      "cell_type": "markdown",
      "source": [
        "п.с. ячейки перезапускал несколько раз, поэтому значения могут отличаться, но они сходятся по порядку величины и лежат в пределах погрешности."
      ],
      "metadata": {
        "id": "vwRXNrJ3alCx"
      }
    },
    {
      "cell_type": "markdown",
      "source": [
        "#6 Задание\n",
        "\n",
        "Задания на I/O и создание структур данных"
      ],
      "metadata": {
        "id": "9Wx_lGc5B8jd"
      }
    },
    {
      "cell_type": "markdown",
      "source": [
        "6.1 Cчитайте все файлы CSV одной командой и получите файл RDD."
      ],
      "metadata": {
        "id": "k9D7NGSGCEfD"
      }
    },
    {
      "cell_type": "code",
      "source": [
        "from pyspark.sql.types import StructType, StructField, StringType, IntegerType\n",
        "\n",
        "schema = StructType([\n",
        "    StructField(\"sex\", StringType(), True),\n",
        "    StructField(\"age\", IntegerType(), True),\n",
        "    StructField(\"income\", IntegerType(), True),\n",
        "    StructField(\"professions\", StringType(), True)\n",
        "])"
      ],
      "metadata": {
        "id": "EczakyvGmKAm"
      },
      "execution_count": null,
      "outputs": []
    },
    {
      "cell_type": "code",
      "source": [
        "rdd = spark.sparkContext.textFile('csv_rdd/*')\n",
        "rdd_tuples = rdd.map(lambda x: tuple(x.split(\",\")))"
      ],
      "metadata": {
        "id": "qM5lnwdcB8NK"
      },
      "execution_count": null,
      "outputs": []
    },
    {
      "cell_type": "markdown",
      "source": [
        "6.2 Создайте датафрейм из полученного RDD. Здесь и далее задания относятся к нему."
      ],
      "metadata": {
        "id": "1gQ8pY6TCNx_"
      }
    },
    {
      "cell_type": "code",
      "source": [
        "df = rdd_tuples.toDF(columns)"
      ],
      "metadata": {
        "id": "vp8-mgX5BvkD"
      },
      "execution_count": null,
      "outputs": []
    },
    {
      "cell_type": "markdown",
      "source": [
        "#7 Задание\n",
        "\n",
        "Задания на просмотр содержимого и фильтрацию Dataframe"
      ],
      "metadata": {
        "id": "G1aD5dlZCUN-"
      }
    },
    {
      "cell_type": "markdown",
      "source": [
        "7.1 Выведите схему датафрейма"
      ],
      "metadata": {
        "id": "tmX1Z8TUCaZW"
      }
    },
    {
      "cell_type": "code",
      "source": [
        "df.printSchema()"
      ],
      "metadata": {
        "id": "VYdylBK6D4-J",
        "colab": {
          "base_uri": "https://localhost:8080/"
        },
        "outputId": "420af871-1a8e-4586-8839-0cf813c04ed8"
      },
      "execution_count": null,
      "outputs": [
        {
          "output_type": "stream",
          "name": "stdout",
          "text": [
            "root\n",
            " |-- sex: string (nullable = true)\n",
            " |-- age: string (nullable = true)\n",
            " |-- income: string (nullable = true)\n",
            " |-- professions: string (nullable = true)\n",
            "\n"
          ]
        }
      ]
    },
    {
      "cell_type": "markdown",
      "source": [
        "7.2 Выведите топ 10 записей датафрейма"
      ],
      "metadata": {
        "id": "vb2hf2XzCax2"
      }
    },
    {
      "cell_type": "code",
      "source": [
        "df.show(10)"
      ],
      "metadata": {
        "id": "Hphc5l3YD5fh",
        "colab": {
          "base_uri": "https://localhost:8080/"
        },
        "outputId": "e705e3f9-5cb6-4b6e-b72d-645ad6a8d5be"
      },
      "execution_count": null,
      "outputs": [
        {
          "output_type": "stream",
          "name": "stdout",
          "text": [
            "+---+---+------+-----------+\n",
            "|sex|age|income|professions|\n",
            "+---+---+------+-----------+\n",
            "|Жен| 34|109327|       няня|\n",
            "|Муж| 37|115216|     кассир|\n",
            "|Жен| 35|107683|     кассир|\n",
            "|Муж| 49|135768|     кассир|\n",
            "|Жен| 46| 97503|       няня|\n",
            "|Жен| 48| 96279|    дворник|\n",
            "|Муж| 27| 72351|     кассир|\n",
            "|Жен| 46| 93684|    дворник|\n",
            "|Жен| 35|157692|     кассир|\n",
            "|Жен| 51|120668|       няня|\n",
            "+---+---+------+-----------+\n",
            "only showing top 10 rows\n",
            "\n"
          ]
        }
      ]
    },
    {
      "cell_type": "markdown",
      "source": [
        "7.3 Отберите строки c возрастом от 25 до 50."
      ],
      "metadata": {
        "id": "qcQYHYbOCbIq"
      }
    },
    {
      "cell_type": "code",
      "source": [
        "df.filter((df.age > 25)&(df.age <= 50)).show()"
      ],
      "metadata": {
        "id": "IoIsGA0lD6EK",
        "colab": {
          "base_uri": "https://localhost:8080/"
        },
        "outputId": "e7518431-5b5f-4401-d9c1-b68c2e28ef17"
      },
      "execution_count": null,
      "outputs": [
        {
          "output_type": "stream",
          "name": "stdout",
          "text": [
            "+---+---+------+-----------+\n",
            "|sex|age|income|professions|\n",
            "+---+---+------+-----------+\n",
            "|Жен| 34|109327|       няня|\n",
            "|Муж| 37|115216|     кассир|\n",
            "|Жен| 35|107683|     кассир|\n",
            "|Муж| 49|135768|     кассир|\n",
            "|Жен| 46| 97503|       няня|\n",
            "|Жен| 48| 96279|    дворник|\n",
            "|Муж| 27| 72351|     кассир|\n",
            "|Жен| 46| 93684|    дворник|\n",
            "|Жен| 35|157692|     кассир|\n",
            "|Жен| 42|141531|     кассир|\n",
            "|Муж| 44|156274|     кассир|\n",
            "|Жен| 32| 59437|    уборщик|\n",
            "|Муж| 32| 62040|    дворник|\n",
            "|Муж| 39| 78967|    дворник|\n",
            "|Жен| 37| 68964|       няня|\n",
            "|Жен| 50| 99727|     кассир|\n",
            "|Жен| 32| 97205|    дворник|\n",
            "|Жен| 31|101230|       няня|\n",
            "|Жен| 31| 23166|     кассир|\n",
            "|Муж| 41| 66521|     кассир|\n",
            "+---+---+------+-----------+\n",
            "only showing top 20 rows\n",
            "\n"
          ]
        }
      ]
    },
    {
      "cell_type": "markdown",
      "source": [
        "7.4 Отберите столбцы Возраст и Профессия."
      ],
      "metadata": {
        "id": "PrXHxKAnCbgU"
      }
    },
    {
      "cell_type": "code",
      "source": [
        "df.select('age','professions').show()"
      ],
      "metadata": {
        "id": "-zNsNAhyD6rc",
        "colab": {
          "base_uri": "https://localhost:8080/"
        },
        "outputId": "2ccf9557-a6bd-4a84-fff1-878912d65a0b"
      },
      "execution_count": null,
      "outputs": [
        {
          "output_type": "stream",
          "name": "stdout",
          "text": [
            "+---+-----------+\n",
            "|age|professions|\n",
            "+---+-----------+\n",
            "| 34|       няня|\n",
            "| 37|     кассир|\n",
            "| 35|     кассир|\n",
            "| 49|     кассир|\n",
            "| 46|       няня|\n",
            "| 48|    дворник|\n",
            "| 27|     кассир|\n",
            "| 46|    дворник|\n",
            "| 35|     кассир|\n",
            "| 51|       няня|\n",
            "| 42|     кассир|\n",
            "| 44|     кассир|\n",
            "| 54|     кассир|\n",
            "| 32|    уборщик|\n",
            "| 32|    дворник|\n",
            "| 39|    дворник|\n",
            "| 24|     кассир|\n",
            "| 37|       няня|\n",
            "| 50|     кассир|\n",
            "| 32|    дворник|\n",
            "+---+-----------+\n",
            "only showing top 20 rows\n",
            "\n"
          ]
        }
      ]
    },
    {
      "cell_type": "markdown",
      "source": [
        "#8 Задание\n",
        "\n",
        "Задания на статистику и агрегацию"
      ],
      "metadata": {
        "id": "Ptolf5aXCcE1"
      }
    },
    {
      "cell_type": "markdown",
      "source": [
        "8.1  Рассчитайте среднее по столбцу Доход, и максимум по столбцу Возраст"
      ],
      "metadata": {
        "id": "31q5zSBeCci4"
      }
    },
    {
      "cell_type": "code",
      "source": [
        "from pyspark.sql import functions as f\n",
        "df = df.withColumn(\"income\", df[\"income\"].cast(IntegerType()))\n",
        "df = df.withColumn(\"age\", df[\"age\"].cast(IntegerType()))\n",
        "df.select(f.mean(\"income\"), f.max(\"age\")).show()"
      ],
      "metadata": {
        "id": "MEUQOhtRD7i4",
        "colab": {
          "base_uri": "https://localhost:8080/"
        },
        "outputId": "c339c065-b4eb-4e54-e0d3-009eefa111c6"
      },
      "execution_count": null,
      "outputs": [
        {
          "output_type": "stream",
          "name": "stdout",
          "text": [
            "+------------------+--------+\n",
            "|       avg(income)|max(age)|\n",
            "+------------------+--------+\n",
            "|105029.22400040548|      80|\n",
            "+------------------+--------+\n",
            "\n"
          ]
        }
      ]
    },
    {
      "cell_type": "markdown",
      "source": [
        "8.2  Сгруппируйте датафрейм по столбцам Пол и Профессия и рассчитайте максимальный доход в каждой группе"
      ],
      "metadata": {
        "id": "kVOnbz_-Cc4O"
      }
    },
    {
      "cell_type": "code",
      "source": [
        "df.groupby('sex','professions').agg(f.max(\"income\")).show()"
      ],
      "metadata": {
        "id": "w1tvxEloD76_",
        "colab": {
          "base_uri": "https://localhost:8080/"
        },
        "outputId": "65295c8b-12a3-4f98-c593-d4afcf8462cb"
      },
      "execution_count": null,
      "outputs": [
        {
          "output_type": "stream",
          "name": "stdout",
          "text": [
            "+---+-----------+-----------+\n",
            "|sex|professions|max(income)|\n",
            "+---+-----------+-----------+\n",
            "|Жен|    дворник|     251367|\n",
            "|Жен|     кассир|     242342|\n",
            "|Муж|    уборщик|     253324|\n",
            "|Муж|     кассир|     256393|\n",
            "|Муж|    дворник|     246638|\n",
            "|Жен|       няня|     250572|\n",
            "|Жен|    уборщик|     248421|\n",
            "|Муж|       няня|     253787|\n",
            "+---+-----------+-----------+\n",
            "\n"
          ]
        }
      ]
    },
    {
      "cell_type": "markdown",
      "source": [
        "8.3 Постройте сводную таблицу Пол, Профессия с частотами респондентов в ячейках."
      ],
      "metadata": {
        "id": "LY7FSykRCdNO"
      }
    },
    {
      "cell_type": "code",
      "source": [
        "df.groupby('professions').pivot('sex').agg(f.count('sex') / df.count()).show()"
      ],
      "metadata": {
        "id": "pMBgzYUvD8Wl",
        "colab": {
          "base_uri": "https://localhost:8080/"
        },
        "outputId": "b0556292-19f8-4d29-a296-48b9e6119bde"
      },
      "execution_count": null,
      "outputs": [
        {
          "output_type": "stream",
          "name": "stdout",
          "text": [
            "+-----------+-------------------+-------------------+\n",
            "|professions|                Жен|                Муж|\n",
            "+-----------+-------------------+-------------------+\n",
            "|     кассир|           0.125041|0.12498433333333334|\n",
            "|    дворник|0.12491966666666666|            0.12507|\n",
            "|       няня|           0.124891|0.12487033333333333|\n",
            "|    уборщик|           0.125193|0.12503066666666668|\n",
            "+-----------+-------------------+-------------------+\n",
            "\n"
          ]
        }
      ]
    },
    {
      "cell_type": "markdown",
      "source": [
        "#9 Задание\n",
        "\n",
        "Задания на преобразования"
      ],
      "metadata": {
        "id": "ld753aGYCdiK"
      }
    },
    {
      "cell_type": "markdown",
      "source": [
        "9.1 Добавьте производный столбец Доход/Возраст"
      ],
      "metadata": {
        "id": "GhldHv3qCd8p"
      }
    },
    {
      "cell_type": "code",
      "source": [
        "df2 = df.withColumn('Доход/Возраст', df.income / df.age)\n",
        "df2.show(5)"
      ],
      "metadata": {
        "id": "vX4tNmbrD8-a",
        "colab": {
          "base_uri": "https://localhost:8080/"
        },
        "outputId": "9bb8ca78-a69f-4301-81d2-e71b59bf72c8"
      },
      "execution_count": null,
      "outputs": [
        {
          "output_type": "stream",
          "name": "stdout",
          "text": [
            "+---+---+------+-----------+------------------+\n",
            "|sex|age|income|professions|     Доход/Возраст|\n",
            "+---+---+------+-----------+------------------+\n",
            "|Жен| 34|109327|       няня|            3215.5|\n",
            "|Муж| 37|115216|     кассир| 3113.945945945946|\n",
            "|Жен| 35|107683|     кассир| 3076.657142857143|\n",
            "|Муж| 49|135768|     кассир|2770.7755102040815|\n",
            "|Жен| 46| 97503|       няня|2119.6304347826085|\n",
            "+---+---+------+-----------+------------------+\n",
            "only showing top 5 rows\n",
            "\n"
          ]
        }
      ]
    },
    {
      "cell_type": "markdown",
      "source": [
        "9.2 Переименуйте новый столбец в Руб/лет"
      ],
      "metadata": {
        "id": "xaRC_ssmCeSg"
      }
    },
    {
      "cell_type": "code",
      "source": [
        "df2 = df2.withColumnRenamed('Доход/Возраст', \"Руб/лет\")\n",
        "df2.show(5)"
      ],
      "metadata": {
        "id": "u7hzkpC2D9iA",
        "colab": {
          "base_uri": "https://localhost:8080/"
        },
        "outputId": "b2876522-9b58-4dd1-a510-57f37074ad98"
      },
      "execution_count": null,
      "outputs": [
        {
          "output_type": "stream",
          "name": "stdout",
          "text": [
            "+---+---+------+-----------+------------------+\n",
            "|sex|age|income|professions|           Руб/лет|\n",
            "+---+---+------+-----------+------------------+\n",
            "|Жен| 34|109327|       няня|            3215.5|\n",
            "|Муж| 37|115216|     кассир| 3113.945945945946|\n",
            "|Жен| 35|107683|     кассир| 3076.657142857143|\n",
            "|Муж| 49|135768|     кассир|2770.7755102040815|\n",
            "|Жен| 46| 97503|       няня|2119.6304347826085|\n",
            "+---+---+------+-----------+------------------+\n",
            "only showing top 5 rows\n",
            "\n"
          ]
        }
      ]
    },
    {
      "cell_type": "markdown",
      "source": [
        "9.3 Удалите новый столбец"
      ],
      "metadata": {
        "id": "-8hYSwFmCeng"
      }
    },
    {
      "cell_type": "code",
      "source": [
        "df2 = df2.drop('Руб/лет')\n",
        "df2.show(5)"
      ],
      "metadata": {
        "id": "iJwcT-8YD-Aj",
        "colab": {
          "base_uri": "https://localhost:8080/"
        },
        "outputId": "b25d4319-70da-4436-d879-0417f3f3402d"
      },
      "execution_count": null,
      "outputs": [
        {
          "output_type": "stream",
          "name": "stdout",
          "text": [
            "+---+---+------+-----------+\n",
            "|sex|age|income|professions|\n",
            "+---+---+------+-----------+\n",
            "|Жен| 34|109327|       няня|\n",
            "|Муж| 37|115216|     кассир|\n",
            "|Жен| 35|107683|     кассир|\n",
            "|Муж| 49|135768|     кассир|\n",
            "|Жен| 46| 97503|       няня|\n",
            "+---+---+------+-----------+\n",
            "only showing top 5 rows\n",
            "\n"
          ]
        }
      ]
    },
    {
      "cell_type": "markdown",
      "source": [
        "9.4 Удалите строки с возрастом респондентов меньше 18 лет."
      ],
      "metadata": {
        "id": "G_2FWDgDDfr2"
      }
    },
    {
      "cell_type": "code",
      "source": [
        "df2 = df2.filter(df2.age >= 18)\n",
        "df2.show(5)\n",
        "print(df2.count())"
      ],
      "metadata": {
        "id": "TnVJ7ej4D-b-",
        "colab": {
          "base_uri": "https://localhost:8080/"
        },
        "outputId": "2c2d5b8a-0747-46f2-e2c5-9130ad12c529"
      },
      "execution_count": null,
      "outputs": [
        {
          "output_type": "stream",
          "name": "stdout",
          "text": [
            "+---+---+------+-----------+\n",
            "|sex|age|income|professions|\n",
            "+---+---+------+-----------+\n",
            "|Жен| 34|109327|       няня|\n",
            "|Муж| 37|115216|     кассир|\n",
            "|Жен| 35|107683|     кассир|\n",
            "|Муж| 49|135768|     кассир|\n",
            "|Жен| 46| 97503|       няня|\n",
            "+---+---+------+-----------+\n",
            "only showing top 5 rows\n",
            "\n",
            "2993946\n"
          ]
        }
      ]
    },
    {
      "cell_type": "markdown",
      "source": [
        "#10 Задание\n",
        "\n",
        "Задания на машинное обучение"
      ],
      "metadata": {
        "id": "DLmMYgUsDfXA"
      }
    },
    {
      "cell_type": "markdown",
      "source": [
        "10.1 Подготовьте исходные данные, в качестве признаков используя Пол, Возраст, Профессию, а в качестве отклика – Доход. Используйте объект VectorAssembler из модуля pyspark.ml.feature для создания схемы данных, и его метод transform для преобразования исходных данных."
      ],
      "metadata": {
        "id": "cRiSTpa-DfL0"
      }
    },
    {
      "cell_type": "code",
      "source": [
        "from pyspark.ml.regression import LinearRegression\n",
        "from pyspark.ml.feature import VectorAssembler\n",
        "from pyspark.ml.evaluation import RegressionEvaluator"
      ],
      "metadata": {
        "id": "IxRXGeMMqyT_"
      },
      "execution_count": null,
      "outputs": []
    },
    {
      "cell_type": "code",
      "source": [
        "df2 = df2.withColumn('sex_b', df.sex).replace('Жен', '1', 'sex_b').replace('Муж', '0', 'sex_b')\n",
        "df2 = df2.withColumn('sex_b', df2.sex_b.cast(IntegerType()))\n",
        "\n",
        "df2 = df2.withColumn('prof_n', df.professions).replace('няня', '1', 'prof_n').replace('кассир', '2', 'prof_n').replace('дворник', '3', 'prof_n').replace('уборщик', '0', 'prof_n')\n",
        "df2 = df2.withColumn('prof_n', df2.prof_n.cast(IntegerType()))\n",
        "\n",
        "assembler = VectorAssembler(inputCols=[\"sex_b\", \"prof_n\", \"age\"], outputCol=\"features\")\n",
        "data = df2.select('sex_b', 'prof_n', 'age', 'income')\n",
        "data = assembler.transform(data)"
      ],
      "metadata": {
        "id": "rwZbPUUPD_VN"
      },
      "execution_count": null,
      "outputs": []
    },
    {
      "cell_type": "markdown",
      "source": [
        "10.2 Разделите полученные данные на тестовую (20%) и обучающую (80%) выборки. Используйте метод randomSplit, относящийся к полученному объекту данных из п.10.1"
      ],
      "metadata": {
        "id": "cwGtHHydDe-u"
      }
    },
    {
      "cell_type": "code",
      "source": [
        "data2 = data2.withColumnRenamed('income', 'label')\n",
        "data2 = data2.select(\"features\", \"label\")\n",
        "data2 = data2.dropna()\n",
        "\n",
        "train_data, test_data = data2.randomSplit([0.8, 0.2], seed=1000)"
      ],
      "metadata": {
        "id": "AQWbaUbkD_uM"
      },
      "execution_count": null,
      "outputs": []
    },
    {
      "cell_type": "markdown",
      "source": [
        "10.3 Обучите модель множественной линейной регрессии. Используйте объект LinearRegression из модуля pyspark.ml.regression."
      ],
      "metadata": {
        "id": "iXO217OHDevy"
      }
    },
    {
      "cell_type": "code",
      "source": [
        "linear = LinearRegression()\n",
        "model = linear.fit(train_data)"
      ],
      "metadata": {
        "id": "2MgCI8ZKEAK3"
      },
      "execution_count": null,
      "outputs": []
    },
    {
      "cell_type": "markdown",
      "source": [
        "10.4 Рассчитайте метрики качества RMSE, MAE, R2 для тестовой выборки и выведите их на печать. Используйте объект RegressionEvaluator из модуля pyspark.ml.evaluation."
      ],
      "metadata": {
        "id": "gwx4kwTmD0uz"
      }
    },
    {
      "cell_type": "code",
      "source": [
        "from pyspark.ml.evaluation import RegressionEvaluator\n",
        "\n",
        "prediction = model.transform(test_data)\n",
        "\n",
        "evaluator_rmse = RegressionEvaluator(labelCol=\"label\", predictionCol=\"prediction\", metricName=\"rmse\")\n",
        "evaluator_mae = RegressionEvaluator(labelCol=\"label\", predictionCol=\"prediction\", metricName=\"mae\")\n",
        "evaluator_r2 = RegressionEvaluator(labelCol=\"label\", predictionCol=\"prediction\", metricName=\"r2\")\n",
        "\n",
        "rmse = evaluator_rmse.evaluate(prediction)\n",
        "mae = evaluator_mae.evaluate(prediction)\n",
        "r2 = evaluator_r2.evaluate(prediction)\n",
        "\n",
        "print(f\"RMSE: {rmse}\")\n",
        "print(f\"MAE: {mae}\")\n",
        "print(f\"R²: {r2}\")"
      ],
      "metadata": {
        "id": "Eyy8VahzEAjn",
        "colab": {
          "base_uri": "https://localhost:8080/"
        },
        "outputId": "43b1b85f-b1c3-4d8c-8af2-345af5723a32"
      },
      "execution_count": null,
      "outputs": [
        {
          "output_type": "stream",
          "name": "stdout",
          "text": [
            "RMSE: 30934.704073218032\n",
            "MAE: 24715.941077653963\n",
            "R²: -2.2800316299420587e-06\n"
          ]
        }
      ]
    }
  ]
}