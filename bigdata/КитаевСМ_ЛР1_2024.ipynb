{
  "nbformat": 4,
  "nbformat_minor": 0,
  "metadata": {
    "colab": {
      "provenance": []
    },
    "kernelspec": {
      "name": "python3",
      "display_name": "Python 3"
    },
    "language_info": {
      "name": "python"
    }
  },
  "cells": [
    {
      "cell_type": "markdown",
      "source": [
        "# 1 Задание\n",
        "\n",
        "\n",
        "C помощью PANDAS создайте датафрейм из 1 млн. строк, содержащий 4 столбца – пол, возраст, доход, профессия. В категориальной переменной профессия сделайте 3-4 категории, в переменной пол – 2, возраст и доход сделайте количественными, с типом INT."
      ],
      "metadata": {
        "id": "e_VRlExF6RE2"
      }
    },
    {
      "cell_type": "code",
      "execution_count": null,
      "metadata": {
        "colab": {
          "base_uri": "https://localhost:8080/",
          "height": 206
        },
        "id": "S7EYfdJtz1qW",
        "outputId": "ce500494-75f2-4841-d1ce-c55e857010c3"
      },
      "outputs": [
        {
          "output_type": "execute_result",
          "data": {
            "text/plain": [
              "   пол  возраст  доход профессия\n",
              "0  Муж       30  19245    кассир\n",
              "1  Жен       27  22498    кассир\n",
              "2  Жен       44  20463      няня\n",
              "3  Жен       44  18558   уборщик\n",
              "4  Жен       50  19994      няня"
            ],
            "text/html": [
              "\n",
              "  <div id=\"df-a3f55ff2-0881-4bda-990f-bd7043d81929\" class=\"colab-df-container\">\n",
              "    <div>\n",
              "<style scoped>\n",
              "    .dataframe tbody tr th:only-of-type {\n",
              "        vertical-align: middle;\n",
              "    }\n",
              "\n",
              "    .dataframe tbody tr th {\n",
              "        vertical-align: top;\n",
              "    }\n",
              "\n",
              "    .dataframe thead th {\n",
              "        text-align: right;\n",
              "    }\n",
              "</style>\n",
              "<table border=\"1\" class=\"dataframe\">\n",
              "  <thead>\n",
              "    <tr style=\"text-align: right;\">\n",
              "      <th></th>\n",
              "      <th>пол</th>\n",
              "      <th>возраст</th>\n",
              "      <th>доход</th>\n",
              "      <th>профессия</th>\n",
              "    </tr>\n",
              "  </thead>\n",
              "  <tbody>\n",
              "    <tr>\n",
              "      <th>0</th>\n",
              "      <td>Муж</td>\n",
              "      <td>30</td>\n",
              "      <td>19245</td>\n",
              "      <td>кассир</td>\n",
              "    </tr>\n",
              "    <tr>\n",
              "      <th>1</th>\n",
              "      <td>Жен</td>\n",
              "      <td>27</td>\n",
              "      <td>22498</td>\n",
              "      <td>кассир</td>\n",
              "    </tr>\n",
              "    <tr>\n",
              "      <th>2</th>\n",
              "      <td>Жен</td>\n",
              "      <td>44</td>\n",
              "      <td>20463</td>\n",
              "      <td>няня</td>\n",
              "    </tr>\n",
              "    <tr>\n",
              "      <th>3</th>\n",
              "      <td>Жен</td>\n",
              "      <td>44</td>\n",
              "      <td>18558</td>\n",
              "      <td>уборщик</td>\n",
              "    </tr>\n",
              "    <tr>\n",
              "      <th>4</th>\n",
              "      <td>Жен</td>\n",
              "      <td>50</td>\n",
              "      <td>19994</td>\n",
              "      <td>няня</td>\n",
              "    </tr>\n",
              "  </tbody>\n",
              "</table>\n",
              "</div>\n",
              "    <div class=\"colab-df-buttons\">\n",
              "\n",
              "  <div class=\"colab-df-container\">\n",
              "    <button class=\"colab-df-convert\" onclick=\"convertToInteractive('df-a3f55ff2-0881-4bda-990f-bd7043d81929')\"\n",
              "            title=\"Convert this dataframe to an interactive table.\"\n",
              "            style=\"display:none;\">\n",
              "\n",
              "  <svg xmlns=\"http://www.w3.org/2000/svg\" height=\"24px\" viewBox=\"0 -960 960 960\">\n",
              "    <path d=\"M120-120v-720h720v720H120Zm60-500h600v-160H180v160Zm220 220h160v-160H400v160Zm0 220h160v-160H400v160ZM180-400h160v-160H180v160Zm440 0h160v-160H620v160ZM180-180h160v-160H180v160Zm440 0h160v-160H620v160Z\"/>\n",
              "  </svg>\n",
              "    </button>\n",
              "\n",
              "  <style>\n",
              "    .colab-df-container {\n",
              "      display:flex;\n",
              "      gap: 12px;\n",
              "    }\n",
              "\n",
              "    .colab-df-convert {\n",
              "      background-color: #E8F0FE;\n",
              "      border: none;\n",
              "      border-radius: 50%;\n",
              "      cursor: pointer;\n",
              "      display: none;\n",
              "      fill: #1967D2;\n",
              "      height: 32px;\n",
              "      padding: 0 0 0 0;\n",
              "      width: 32px;\n",
              "    }\n",
              "\n",
              "    .colab-df-convert:hover {\n",
              "      background-color: #E2EBFA;\n",
              "      box-shadow: 0px 1px 2px rgba(60, 64, 67, 0.3), 0px 1px 3px 1px rgba(60, 64, 67, 0.15);\n",
              "      fill: #174EA6;\n",
              "    }\n",
              "\n",
              "    .colab-df-buttons div {\n",
              "      margin-bottom: 4px;\n",
              "    }\n",
              "\n",
              "    [theme=dark] .colab-df-convert {\n",
              "      background-color: #3B4455;\n",
              "      fill: #D2E3FC;\n",
              "    }\n",
              "\n",
              "    [theme=dark] .colab-df-convert:hover {\n",
              "      background-color: #434B5C;\n",
              "      box-shadow: 0px 1px 3px 1px rgba(0, 0, 0, 0.15);\n",
              "      filter: drop-shadow(0px 1px 2px rgba(0, 0, 0, 0.3));\n",
              "      fill: #FFFFFF;\n",
              "    }\n",
              "  </style>\n",
              "\n",
              "    <script>\n",
              "      const buttonEl =\n",
              "        document.querySelector('#df-a3f55ff2-0881-4bda-990f-bd7043d81929 button.colab-df-convert');\n",
              "      buttonEl.style.display =\n",
              "        google.colab.kernel.accessAllowed ? 'block' : 'none';\n",
              "\n",
              "      async function convertToInteractive(key) {\n",
              "        const element = document.querySelector('#df-a3f55ff2-0881-4bda-990f-bd7043d81929');\n",
              "        const dataTable =\n",
              "          await google.colab.kernel.invokeFunction('convertToInteractive',\n",
              "                                                    [key], {});\n",
              "        if (!dataTable) return;\n",
              "\n",
              "        const docLinkHtml = 'Like what you see? Visit the ' +\n",
              "          '<a target=\"_blank\" href=https://colab.research.google.com/notebooks/data_table.ipynb>data table notebook</a>'\n",
              "          + ' to learn more about interactive tables.';\n",
              "        element.innerHTML = '';\n",
              "        dataTable['output_type'] = 'display_data';\n",
              "        await google.colab.output.renderOutput(dataTable, element);\n",
              "        const docLink = document.createElement('div');\n",
              "        docLink.innerHTML = docLinkHtml;\n",
              "        element.appendChild(docLink);\n",
              "      }\n",
              "    </script>\n",
              "  </div>\n",
              "\n",
              "\n",
              "    <div id=\"df-758f7157-9568-4c8b-8627-c832f68a4c46\">\n",
              "      <button class=\"colab-df-quickchart\" onclick=\"quickchart('df-758f7157-9568-4c8b-8627-c832f68a4c46')\"\n",
              "                title=\"Suggest charts\"\n",
              "                style=\"display:none;\">\n",
              "\n",
              "<svg xmlns=\"http://www.w3.org/2000/svg\" height=\"24px\"viewBox=\"0 0 24 24\"\n",
              "     width=\"24px\">\n",
              "    <g>\n",
              "        <path d=\"M19 3H5c-1.1 0-2 .9-2 2v14c0 1.1.9 2 2 2h14c1.1 0 2-.9 2-2V5c0-1.1-.9-2-2-2zM9 17H7v-7h2v7zm4 0h-2V7h2v10zm4 0h-2v-4h2v4z\"/>\n",
              "    </g>\n",
              "</svg>\n",
              "      </button>\n",
              "\n",
              "<style>\n",
              "  .colab-df-quickchart {\n",
              "      --bg-color: #E8F0FE;\n",
              "      --fill-color: #1967D2;\n",
              "      --hover-bg-color: #E2EBFA;\n",
              "      --hover-fill-color: #174EA6;\n",
              "      --disabled-fill-color: #AAA;\n",
              "      --disabled-bg-color: #DDD;\n",
              "  }\n",
              "\n",
              "  [theme=dark] .colab-df-quickchart {\n",
              "      --bg-color: #3B4455;\n",
              "      --fill-color: #D2E3FC;\n",
              "      --hover-bg-color: #434B5C;\n",
              "      --hover-fill-color: #FFFFFF;\n",
              "      --disabled-bg-color: #3B4455;\n",
              "      --disabled-fill-color: #666;\n",
              "  }\n",
              "\n",
              "  .colab-df-quickchart {\n",
              "    background-color: var(--bg-color);\n",
              "    border: none;\n",
              "    border-radius: 50%;\n",
              "    cursor: pointer;\n",
              "    display: none;\n",
              "    fill: var(--fill-color);\n",
              "    height: 32px;\n",
              "    padding: 0;\n",
              "    width: 32px;\n",
              "  }\n",
              "\n",
              "  .colab-df-quickchart:hover {\n",
              "    background-color: var(--hover-bg-color);\n",
              "    box-shadow: 0 1px 2px rgba(60, 64, 67, 0.3), 0 1px 3px 1px rgba(60, 64, 67, 0.15);\n",
              "    fill: var(--button-hover-fill-color);\n",
              "  }\n",
              "\n",
              "  .colab-df-quickchart-complete:disabled,\n",
              "  .colab-df-quickchart-complete:disabled:hover {\n",
              "    background-color: var(--disabled-bg-color);\n",
              "    fill: var(--disabled-fill-color);\n",
              "    box-shadow: none;\n",
              "  }\n",
              "\n",
              "  .colab-df-spinner {\n",
              "    border: 2px solid var(--fill-color);\n",
              "    border-color: transparent;\n",
              "    border-bottom-color: var(--fill-color);\n",
              "    animation:\n",
              "      spin 1s steps(1) infinite;\n",
              "  }\n",
              "\n",
              "  @keyframes spin {\n",
              "    0% {\n",
              "      border-color: transparent;\n",
              "      border-bottom-color: var(--fill-color);\n",
              "      border-left-color: var(--fill-color);\n",
              "    }\n",
              "    20% {\n",
              "      border-color: transparent;\n",
              "      border-left-color: var(--fill-color);\n",
              "      border-top-color: var(--fill-color);\n",
              "    }\n",
              "    30% {\n",
              "      border-color: transparent;\n",
              "      border-left-color: var(--fill-color);\n",
              "      border-top-color: var(--fill-color);\n",
              "      border-right-color: var(--fill-color);\n",
              "    }\n",
              "    40% {\n",
              "      border-color: transparent;\n",
              "      border-right-color: var(--fill-color);\n",
              "      border-top-color: var(--fill-color);\n",
              "    }\n",
              "    60% {\n",
              "      border-color: transparent;\n",
              "      border-right-color: var(--fill-color);\n",
              "    }\n",
              "    80% {\n",
              "      border-color: transparent;\n",
              "      border-right-color: var(--fill-color);\n",
              "      border-bottom-color: var(--fill-color);\n",
              "    }\n",
              "    90% {\n",
              "      border-color: transparent;\n",
              "      border-bottom-color: var(--fill-color);\n",
              "    }\n",
              "  }\n",
              "</style>\n",
              "\n",
              "      <script>\n",
              "        async function quickchart(key) {\n",
              "          const quickchartButtonEl =\n",
              "            document.querySelector('#' + key + ' button');\n",
              "          quickchartButtonEl.disabled = true;  // To prevent multiple clicks.\n",
              "          quickchartButtonEl.classList.add('colab-df-spinner');\n",
              "          try {\n",
              "            const charts = await google.colab.kernel.invokeFunction(\n",
              "                'suggestCharts', [key], {});\n",
              "          } catch (error) {\n",
              "            console.error('Error during call to suggestCharts:', error);\n",
              "          }\n",
              "          quickchartButtonEl.classList.remove('colab-df-spinner');\n",
              "          quickchartButtonEl.classList.add('colab-df-quickchart-complete');\n",
              "        }\n",
              "        (() => {\n",
              "          let quickchartButtonEl =\n",
              "            document.querySelector('#df-758f7157-9568-4c8b-8627-c832f68a4c46 button');\n",
              "          quickchartButtonEl.style.display =\n",
              "            google.colab.kernel.accessAllowed ? 'block' : 'none';\n",
              "        })();\n",
              "      </script>\n",
              "    </div>\n",
              "    </div>\n",
              "  </div>\n"
            ],
            "application/vnd.google.colaboratory.intrinsic+json": {
              "type": "dataframe",
              "variable_name": "df",
              "summary": "{\n  \"name\": \"df\",\n  \"rows\": 1000,\n  \"fields\": [\n    {\n      \"column\": \"\\u043f\\u043e\\u043b\",\n      \"properties\": {\n        \"dtype\": \"category\",\n        \"num_unique_values\": 2,\n        \"samples\": [\n          \"\\u0416\\u0435\\u043d\",\n          \"\\u041c\\u0443\\u0436\"\n        ],\n        \"semantic_type\": \"\",\n        \"description\": \"\"\n      }\n    },\n    {\n      \"column\": \"\\u0432\\u043e\\u0437\\u0440\\u0430\\u0441\\u0442\",\n      \"properties\": {\n        \"dtype\": \"number\",\n        \"std\": 10,\n        \"min\": 2,\n        \"max\": 69,\n        \"num_unique_values\": 60,\n        \"samples\": [\n          30,\n          40\n        ],\n        \"semantic_type\": \"\",\n        \"description\": \"\"\n      }\n    },\n    {\n      \"column\": \"\\u0434\\u043e\\u0445\\u043e\\u0434\",\n      \"properties\": {\n        \"dtype\": \"number\",\n        \"std\": 1561,\n        \"min\": 15029,\n        \"max\": 24490,\n        \"num_unique_values\": 912,\n        \"samples\": [\n          18763,\n          19709\n        ],\n        \"semantic_type\": \"\",\n        \"description\": \"\"\n      }\n    },\n    {\n      \"column\": \"\\u043f\\u0440\\u043e\\u0444\\u0435\\u0441\\u0441\\u0438\\u044f\",\n      \"properties\": {\n        \"dtype\": \"category\",\n        \"num_unique_values\": 4,\n        \"samples\": [\n          \"\\u043d\\u044f\\u043d\\u044f\",\n          \"\\u0434\\u0432\\u043e\\u0440\\u043d\\u0438\\u043a\"\n        ],\n        \"semantic_type\": \"\",\n        \"description\": \"\"\n      }\n    }\n  ]\n}"
            }
          },
          "metadata": {},
          "execution_count": 1
        }
      ],
      "source": [
        "import pandas as pd\n",
        "import numpy as np\n",
        "import itertools\n",
        "from itertools import cycle\n",
        "\n",
        "n = 1_000_000\n",
        "\n",
        "sex = np.random.choice(['Муж', 'Жен'], size = n)\n",
        "ages = np.random.normal(loc=35, scale=10, size = n).astype(int)\n",
        "income = np.random.normal(loc=20000, scale=1500, size = n).astype(int)\n",
        "\n",
        "professions = ['дворник', 'уборщик', 'няня', 'кассир']\n",
        "profession = np.random.choice(professions, size=n)\n",
        "\n",
        "df = pd.DataFrame({\n",
        "    'пол': sex,\n",
        "    'возраст': ages,\n",
        "    'доход': income,\n",
        "    'профессия': profession\n",
        "})\n",
        "\n",
        "df.head()"
      ]
    },
    {
      "cell_type": "markdown",
      "source": [
        "# 2 задание\n",
        "Замерьте объем памяти датафрейма в памяти с помощью методов **DF.INFO()**,\n",
        "**DF.MEMORY_USAGE()**"
      ],
      "metadata": {
        "id": "rJwPDolG6cAX"
      }
    },
    {
      "cell_type": "code",
      "source": [
        "df.info()\n",
        "df.memory_usage()"
      ],
      "metadata": {
        "colab": {
          "base_uri": "https://localhost:8080/",
          "height": 444
        },
        "id": "4Fk5W_pl6i18",
        "outputId": "9eab21c1-67b8-4d22-b5b8-74f3e9880358"
      },
      "execution_count": null,
      "outputs": [
        {
          "output_type": "stream",
          "name": "stdout",
          "text": [
            "<class 'pandas.core.frame.DataFrame'>\n",
            "RangeIndex: 1000000 entries, 0 to 999999\n",
            "Data columns (total 4 columns):\n",
            " #   Column     Non-Null Count    Dtype \n",
            "---  ------     --------------    ----- \n",
            " 0   пол        1000000 non-null  object\n",
            " 1   возраст    1000000 non-null  int64 \n",
            " 2   доход      1000000 non-null  int64 \n",
            " 3   профессия  1000000 non-null  object\n",
            "dtypes: int64(2), object(2)\n",
            "memory usage: 30.5+ MB\n"
          ]
        },
        {
          "output_type": "execute_result",
          "data": {
            "text/plain": [
              "Index            128\n",
              "пол          8000000\n",
              "возраст      8000000\n",
              "доход        8000000\n",
              "профессия    8000000\n",
              "dtype: int64"
            ],
            "text/html": [
              "<div>\n",
              "<style scoped>\n",
              "    .dataframe tbody tr th:only-of-type {\n",
              "        vertical-align: middle;\n",
              "    }\n",
              "\n",
              "    .dataframe tbody tr th {\n",
              "        vertical-align: top;\n",
              "    }\n",
              "\n",
              "    .dataframe thead th {\n",
              "        text-align: right;\n",
              "    }\n",
              "</style>\n",
              "<table border=\"1\" class=\"dataframe\">\n",
              "  <thead>\n",
              "    <tr style=\"text-align: right;\">\n",
              "      <th></th>\n",
              "      <th>0</th>\n",
              "    </tr>\n",
              "  </thead>\n",
              "  <tbody>\n",
              "    <tr>\n",
              "      <th>Index</th>\n",
              "      <td>128</td>\n",
              "    </tr>\n",
              "    <tr>\n",
              "      <th>пол</th>\n",
              "      <td>8000000</td>\n",
              "    </tr>\n",
              "    <tr>\n",
              "      <th>возраст</th>\n",
              "      <td>8000000</td>\n",
              "    </tr>\n",
              "    <tr>\n",
              "      <th>доход</th>\n",
              "      <td>8000000</td>\n",
              "    </tr>\n",
              "    <tr>\n",
              "      <th>профессия</th>\n",
              "      <td>8000000</td>\n",
              "    </tr>\n",
              "  </tbody>\n",
              "</table>\n",
              "</div><br><label><b>dtype:</b> int64</label>"
            ]
          },
          "metadata": {},
          "execution_count": 2
        }
      ]
    },
    {
      "cell_type": "markdown",
      "source": [
        "# 3 задание\n",
        "Сохраните датафрейм в формате CSV, загрузите его в новый датафрейм и замерьте\n",
        "скорость записи и чтения, с помощью «магической» команды %%TIMEIT."
      ],
      "metadata": {
        "id": "Nmlzh35c7w3d"
      }
    },
    {
      "cell_type": "code",
      "source": [
        "%%timeit\n",
        "df.to_csv('data.csv', index=False)"
      ],
      "metadata": {
        "colab": {
          "base_uri": "https://localhost:8080/"
        },
        "id": "MBkRQ3QC7wTs",
        "outputId": "e73e37cf-79c0-4b1a-81f7-8c3dfd40c822"
      },
      "execution_count": null,
      "outputs": [
        {
          "output_type": "stream",
          "name": "stdout",
          "text": [
            "1.91 s ± 506 ms per loop (mean ± std. dev. of 7 runs, 1 loop each)\n"
          ]
        }
      ]
    },
    {
      "cell_type": "code",
      "source": [
        "%%timeit\n",
        "new_df = pd.read_csv('data.csv')"
      ],
      "metadata": {
        "colab": {
          "base_uri": "https://localhost:8080/"
        },
        "id": "9a_fZw1H8pJu",
        "outputId": "3e94860d-b110-4b7a-8c65-5fbb36cb385c"
      },
      "execution_count": null,
      "outputs": [
        {
          "output_type": "stream",
          "name": "stdout",
          "text": [
            "580 ms ± 9.3 ms per loop (mean ± std. dev. of 7 runs, 1 loop each)\n"
          ]
        }
      ]
    },
    {
      "cell_type": "code",
      "source": [
        "new_df = pd.read_csv('data.csv')"
      ],
      "metadata": {
        "id": "fDFfA6vD3int"
      },
      "execution_count": null,
      "outputs": []
    },
    {
      "cell_type": "markdown",
      "source": [
        "# 4 задание\n",
        "В качестве агрегации надо рассчитать средний возраст, максимальный доход, самый\n",
        "частый пол, самый редкий тип профессии. Замерьте время выполнения этих операций с\n",
        "помощью «магической» команды %%TIMEIT."
      ],
      "metadata": {
        "id": "2kTFdmw8-Mlq"
      }
    },
    {
      "cell_type": "code",
      "source": [
        "%%timeit\n",
        "average_age = df['возраст'].mean()"
      ],
      "metadata": {
        "colab": {
          "base_uri": "https://localhost:8080/"
        },
        "id": "QxQfG6IO-cau",
        "outputId": "84cff95c-1ffd-4355-d287-9e772a0265e6"
      },
      "execution_count": null,
      "outputs": [
        {
          "output_type": "stream",
          "name": "stdout",
          "text": [
            "3.1 ms ± 348 µs per loop (mean ± std. dev. of 7 runs, 100 loops each)\n"
          ]
        }
      ]
    },
    {
      "cell_type": "code",
      "source": [
        "%%timeit\n",
        "max_income = df['доход'].max()"
      ],
      "metadata": {
        "colab": {
          "base_uri": "https://localhost:8080/"
        },
        "id": "WJIA-2Rb3zwe",
        "outputId": "78b469bd-b672-459f-e985-cdf294ff63da"
      },
      "execution_count": null,
      "outputs": [
        {
          "output_type": "stream",
          "name": "stdout",
          "text": [
            "386 µs ± 14.5 µs per loop (mean ± std. dev. of 7 runs, 1000 loops each)\n"
          ]
        }
      ]
    },
    {
      "cell_type": "code",
      "source": [
        "%%timeit\n",
        "most_frequent_gender = df['пол'].mode()[0]"
      ],
      "metadata": {
        "colab": {
          "base_uri": "https://localhost:8080/"
        },
        "id": "kX7ptg4t30Cl",
        "outputId": "0a8e1332-86fe-40e9-eb0c-a15f72f78d79"
      },
      "execution_count": null,
      "outputs": [
        {
          "output_type": "stream",
          "name": "stdout",
          "text": [
            "120 ms ± 22.4 ms per loop (mean ± std. dev. of 7 runs, 10 loops each)\n"
          ]
        }
      ]
    },
    {
      "cell_type": "code",
      "source": [
        "%%timeit\n",
        "least_common_profession = df['профессия'].value_counts().idxmin()"
      ],
      "metadata": {
        "colab": {
          "base_uri": "https://localhost:8080/"
        },
        "id": "CtIczzO130XV",
        "outputId": "bc2ffff0-5334-418b-f9ed-97b0247a3caf"
      },
      "execution_count": null,
      "outputs": [
        {
          "output_type": "stream",
          "name": "stdout",
          "text": [
            "79 ms ± 642 µs per loop (mean ± std. dev. of 7 runs, 10 loops each)\n"
          ]
        }
      ]
    },
    {
      "cell_type": "code",
      "source": [
        "average_age = df['возраст'].mean()\n",
        "max_income = df['доход'].max()\n",
        "most_frequent_gender = df['пол'].mode()[0]\n",
        "least_common_profession = df['профессия'].value_counts().idxmin()\n",
        "\n",
        "print(average_age)\n",
        "print(max_income)\n",
        "print(most_frequent_gender)\n",
        "print(least_common_profession)"
      ],
      "metadata": {
        "colab": {
          "base_uri": "https://localhost:8080/"
        },
        "id": "70MkNFbp4AUw",
        "outputId": "d2446895-ea34-4c84-f35b-78c6975d99f5"
      },
      "execution_count": null,
      "outputs": [
        {
          "output_type": "stream",
          "name": "stdout",
          "text": [
            "34.49794\n",
            "26958\n",
            "Муж\n",
            "няня\n"
          ]
        }
      ]
    },
    {
      "cell_type": "markdown",
      "source": [
        "# 5 задание\n",
        "Увеличьте число строк в датафрейме до 10 млн. строк, и выполните пункты 1-4, с\n",
        "помощью библиотеки ITERTOOLS. Замерьте время выполнения этих операций с\n",
        "помощью «магической» команды %%TIMEIT."
      ],
      "metadata": {
        "id": "evLWPaOy_dUv"
      }
    },
    {
      "cell_type": "code",
      "source": [
        "n = 10_000_000\n",
        "\n",
        "sex = np.random.choice(['Муж', 'Жен'], size = n)\n",
        "ages = np.random.normal(loc=35, scale=10, size = n).astype(int)\n",
        "income = np.random.normal(loc=20000, scale=1500, size = n).astype(int)\n",
        "\n",
        "professions = ['дворник', 'уборщик', 'няня', 'кассир']\n",
        "profession = np.random.choice(professions, size=n)\n",
        "\n",
        "df = pd.DataFrame({\n",
        "    'пол': sex,\n",
        "    'возраст': ages,\n",
        "    'доход': income,\n",
        "    'профессия': profession\n",
        "})"
      ],
      "metadata": {
        "id": "QGcgG-2A_Y2P"
      },
      "execution_count": null,
      "outputs": []
    },
    {
      "cell_type": "code",
      "source": [
        "df.info()"
      ],
      "metadata": {
        "colab": {
          "base_uri": "https://localhost:8080/"
        },
        "id": "lOAS_XVd5DX6",
        "outputId": "fce409f4-744e-4747-d858-2bdb7a97232a"
      },
      "execution_count": null,
      "outputs": [
        {
          "output_type": "stream",
          "name": "stdout",
          "text": [
            "<class 'pandas.core.frame.DataFrame'>\n",
            "RangeIndex: 10000000 entries, 0 to 9999999\n",
            "Data columns (total 4 columns):\n",
            " #   Column     Dtype \n",
            "---  ------     ----- \n",
            " 0   пол        object\n",
            " 1   возраст    int64 \n",
            " 2   доход      int64 \n",
            " 3   профессия  object\n",
            "dtypes: int64(2), object(2)\n",
            "memory usage: 305.2+ MB\n"
          ]
        }
      ]
    },
    {
      "cell_type": "code",
      "source": [
        "%%timeit\n",
        "df.to_csv('data1.csv', index=False)"
      ],
      "metadata": {
        "id": "ovwRZa5GEFxP",
        "colab": {
          "base_uri": "https://localhost:8080/"
        },
        "outputId": "e69dc515-4758-418b-da18-b1a64219b4c1"
      },
      "execution_count": null,
      "outputs": [
        {
          "output_type": "stream",
          "name": "stdout",
          "text": [
            "17.9 s ± 796 ms per loop (mean ± std. dev. of 7 runs, 1 loop each)\n"
          ]
        }
      ]
    },
    {
      "cell_type": "code",
      "source": [
        "%%timeit\n",
        "dd = pd.read_csv('data1.csv')"
      ],
      "metadata": {
        "id": "fvsb0x1SEGBI",
        "colab": {
          "base_uri": "https://localhost:8080/"
        },
        "outputId": "7e7f1ddb-99eb-42f3-a0a6-b72b76d3ca83"
      },
      "execution_count": null,
      "outputs": [
        {
          "output_type": "stream",
          "name": "stdout",
          "text": [
            "6.87 s ± 1.02 s per loop (mean ± std. dev. of 7 runs, 1 loop each)\n"
          ]
        }
      ]
    },
    {
      "cell_type": "code",
      "source": [
        "%%timeit\n",
        "average_age = df['возраст'].mean()"
      ],
      "metadata": {
        "id": "s50N-Qj2EGOW",
        "colab": {
          "base_uri": "https://localhost:8080/"
        },
        "outputId": "09343471-d55a-440a-c4fd-511688676b20"
      },
      "execution_count": null,
      "outputs": [
        {
          "output_type": "stream",
          "name": "stdout",
          "text": [
            "25.6 ms ± 419 µs per loop (mean ± std. dev. of 7 runs, 10 loops each)\n"
          ]
        }
      ]
    },
    {
      "cell_type": "code",
      "source": [
        "%%timeit\n",
        "max_income = df['доход'].max()"
      ],
      "metadata": {
        "id": "uIfmrRweEGfg",
        "colab": {
          "base_uri": "https://localhost:8080/"
        },
        "outputId": "60e7661e-f94e-4ce2-c30e-830cd28b473e"
      },
      "execution_count": null,
      "outputs": [
        {
          "output_type": "stream",
          "name": "stdout",
          "text": [
            "7.86 ms ± 124 µs per loop (mean ± std. dev. of 7 runs, 100 loops each)\n"
          ]
        }
      ]
    },
    {
      "cell_type": "code",
      "source": [
        "%%timeit\n",
        "most_frequent_gender = df['пол'].mode()[0]"
      ],
      "metadata": {
        "colab": {
          "base_uri": "https://localhost:8080/"
        },
        "id": "Er-rwsBx5YZL",
        "outputId": "6f7ed0bf-ebae-4473-9c6b-02db6b1abdb0"
      },
      "execution_count": null,
      "outputs": [
        {
          "output_type": "stream",
          "name": "stdout",
          "text": [
            "892 ms ± 203 ms per loop (mean ± std. dev. of 7 runs, 1 loop each)\n"
          ]
        }
      ]
    },
    {
      "cell_type": "code",
      "source": [
        "%%timeit\n",
        "least_common_profession = df['профессия'].value_counts().idxmin()"
      ],
      "metadata": {
        "colab": {
          "base_uri": "https://localhost:8080/"
        },
        "id": "tCasirK85bgS",
        "outputId": "886ca802-0e7a-4ddf-b681-d349b7ac2886"
      },
      "execution_count": null,
      "outputs": [
        {
          "output_type": "stream",
          "name": "stdout",
          "text": [
            "939 ms ± 283 ms per loop (mean ± std. dev. of 7 runs, 1 loop each)\n"
          ]
        }
      ]
    },
    {
      "cell_type": "code",
      "source": [
        "average_age = df['возраст'].mean()\n",
        "max_income = df['доход'].max()\n",
        "most_frequent_gender = df['пол'].mode()[0]\n",
        "mode_count = df['пол'][df['пол'] == most_frequent_gender].count()\n",
        "least_common_profession = df['профессия'].value_counts().idxmin()\n",
        "\n",
        "print(average_age)\n",
        "print(max_income)\n",
        "print(most_frequent_gender, f'{mode_count} раз')\n",
        "print(least_common_profession)"
      ],
      "metadata": {
        "colab": {
          "base_uri": "https://localhost:8080/"
        },
        "id": "eMC08YbK9c8c",
        "outputId": "c909b55b-ee36-44e3-8538-b5004f1fb6c7"
      },
      "execution_count": null,
      "outputs": [
        {
          "output_type": "stream",
          "name": "stdout",
          "text": [
            "34.4992118\n",
            "27794\n",
            "Муж 5000981 раз\n",
            "няня\n"
          ]
        }
      ]
    },
    {
      "cell_type": "markdown",
      "source": [
        "**ITERTOOLS**"
      ],
      "metadata": {
        "id": "SX93Ku8k-EYj"
      }
    },
    {
      "cell_type": "code",
      "source": [
        "%%timeit\n",
        "for age in itertools.accumulate(df['возраст']):\n",
        "  last = age\n",
        "\n",
        "age_mean = last / n"
      ],
      "metadata": {
        "colab": {
          "base_uri": "https://localhost:8080/"
        },
        "id": "uZurFa3d-GOe",
        "outputId": "dcf96633-2b05-4a9f-e332-876d359f6bbc"
      },
      "execution_count": null,
      "outputs": [
        {
          "output_type": "stream",
          "name": "stdout",
          "text": [
            "1.2 s ± 19.5 ms per loop (mean ± std. dev. of 7 runs, 1 loop each)\n"
          ]
        }
      ]
    },
    {
      "cell_type": "code",
      "source": [
        "%%timeit\n",
        "for salary in itertools.accumulate(df['доход'], max):\n",
        "  max_salary = salary"
      ],
      "metadata": {
        "colab": {
          "base_uri": "https://localhost:8080/"
        },
        "id": "XKQdS6zn-IOo",
        "outputId": "182e8315-f271-4686-f6dd-8a04a89d0f28"
      },
      "execution_count": null,
      "outputs": [
        {
          "output_type": "stream",
          "name": "stdout",
          "text": [
            "2.74 s ± 562 ms per loop (mean ± std. dev. of 7 runs, 1 loop each)\n"
          ]
        }
      ]
    },
    {
      "cell_type": "code",
      "source": [
        "from collections import Counter"
      ],
      "metadata": {
        "id": "wUaOEU5u-Ibi"
      },
      "execution_count": null,
      "outputs": []
    },
    {
      "cell_type": "code",
      "source": [
        "%%timeit\n",
        "counter = Counter(df['пол'])\n",
        "mode_sex, count = counter.most_common(1)[0]"
      ],
      "metadata": {
        "colab": {
          "base_uri": "https://localhost:8080/"
        },
        "id": "5lvLTTOq-IpF",
        "outputId": "2c92c9d2-c359-40c5-e442-40583d9139cf"
      },
      "execution_count": null,
      "outputs": [
        {
          "output_type": "stream",
          "name": "stdout",
          "text": [
            "1.84 s ± 524 ms per loop (mean ± std. dev. of 7 runs, 1 loop each)\n"
          ]
        }
      ]
    },
    {
      "cell_type": "code",
      "source": [
        "%%timeit\n",
        "counter = Counter(df['профессия'])\n",
        "rare_proffesion, count = min(counter.items(), key=lambda x: x[1])"
      ],
      "metadata": {
        "colab": {
          "base_uri": "https://localhost:8080/"
        },
        "id": "rnCgZsG6-I1l",
        "outputId": "3d797a8c-a4d9-4f30-859a-9457e78adc45"
      },
      "execution_count": null,
      "outputs": [
        {
          "output_type": "stream",
          "name": "stdout",
          "text": [
            "2.09 s ± 588 ms per loop (mean ± std. dev. of 7 runs, 1 loop each)\n"
          ]
        }
      ]
    },
    {
      "cell_type": "code",
      "source": [
        "for age in itertools.accumulate(df['возраст']):\n",
        "  last = age\n",
        "age_mean = last / n\n",
        "print(age_mean)\n",
        "\n",
        "for salary in itertools.accumulate(df['доход'], max):\n",
        "  max_salary = salary\n",
        "print(max_salary)\n",
        "\n",
        "counter = Counter(df['пол'])\n",
        "mode_sex, count = counter.most_common(1)[0]\n",
        "print(mode_sex, f'{count} раз')\n",
        "\n",
        "counter = Counter(df['профессия'])\n",
        "rare_proffesion, count = min(counter.items(), key=lambda x: x[1])\n",
        "print(rare_proffesion)"
      ],
      "metadata": {
        "colab": {
          "base_uri": "https://localhost:8080/"
        },
        "id": "1wnlKS5d_ZeK",
        "outputId": "007ea4ed-4c95-4111-fc30-01d4ae9b3acb"
      },
      "execution_count": null,
      "outputs": [
        {
          "output_type": "stream",
          "name": "stdout",
          "text": [
            "34.4948971\n",
            "27705\n",
            "Жен 5000663 раз\n",
            "дворник\n"
          ]
        }
      ]
    },
    {
      "cell_type": "markdown",
      "source": [
        "# 6 задание\n",
        "Увеличьте число строк в датафрейме до 10 млн. строк, и выполните пункты 1-4, с\n",
        "помощью библиотеки **THREADING**. Замерьте время выполнения этих операций с\n",
        "помощью «магической» команды **%%TIMEIT**."
      ],
      "metadata": {
        "id": "uRgH6_f8_vMi"
      }
    },
    {
      "cell_type": "code",
      "source": [
        "import threading as thr"
      ],
      "metadata": {
        "id": "GOnnLIwv_wbO"
      },
      "execution_count": null,
      "outputs": []
    },
    {
      "cell_type": "code",
      "source": [
        "def average_age(df):\n",
        "    df[\"возраст\"].mean()\n",
        "def max_income(df):\n",
        "    df[\"доход\"].max()\n",
        "def most_frequent_gender(df):\n",
        "    df[\"пол\"].value_counts().idxmax()\n",
        "def least_common_profession(df):\n",
        "    df[\"профессия\"].value_counts().idxmin()\n",
        "def write(df):\n",
        "    df.to_csv('data_out.csv')\n",
        "def read_data():\n",
        "    df = pd.read_csv('data_out.csv')\n",
        "\n",
        "def threads_methods(func, df):\n",
        "  t1 = thr.Thread(func(df))\n",
        "  t1.start()\n",
        "  t1.join()"
      ],
      "metadata": {
        "id": "-kMBEnM-_03s"
      },
      "execution_count": null,
      "outputs": []
    },
    {
      "cell_type": "code",
      "source": [
        "%%timeit\n",
        "threads_methods(write, df)"
      ],
      "metadata": {
        "colab": {
          "base_uri": "https://localhost:8080/"
        },
        "id": "Ch7hOSx-AHB1",
        "outputId": "d5936e06-b002-45db-b452-66e0ef4b409b"
      },
      "execution_count": null,
      "outputs": [
        {
          "output_type": "stream",
          "name": "stdout",
          "text": [
            "24.5 s ± 2.73 s per loop (mean ± std. dev. of 7 runs, 1 loop each)\n"
          ]
        }
      ]
    },
    {
      "cell_type": "code",
      "source": [
        "%%timeit\n",
        "t1 = thr.Thread(target = read_data)\n",
        "t1.start()\n",
        "t1.join()"
      ],
      "metadata": {
        "colab": {
          "base_uri": "https://localhost:8080/"
        },
        "id": "khlmBvBlAG7h",
        "outputId": "1158bb6c-f10d-4803-91c8-e7a1ea8c2738"
      },
      "execution_count": null,
      "outputs": [
        {
          "output_type": "stream",
          "name": "stdout",
          "text": [
            "8.66 s ± 965 ms per loop (mean ± std. dev. of 7 runs, 1 loop each)\n"
          ]
        }
      ]
    },
    {
      "cell_type": "code",
      "source": [
        "%%timeit\n",
        "threads_methods(average_age, df)"
      ],
      "metadata": {
        "id": "d8q-OM5aAG03",
        "colab": {
          "base_uri": "https://localhost:8080/"
        },
        "outputId": "ff23d884-8841-4bb3-f6aa-12d9b9d09c34"
      },
      "execution_count": null,
      "outputs": [
        {
          "output_type": "stream",
          "name": "stdout",
          "text": [
            "25.5 ms ± 2.86 ms per loop (mean ± std. dev. of 7 runs, 10 loops each)\n"
          ]
        }
      ]
    },
    {
      "cell_type": "code",
      "source": [
        "%%timeit\n",
        "threads_methods(max_income, df)"
      ],
      "metadata": {
        "colab": {
          "base_uri": "https://localhost:8080/"
        },
        "id": "x_yFUWzuAGtx",
        "outputId": "ab70bf2e-ab9d-4439-db8c-af588a62dff6"
      },
      "execution_count": null,
      "outputs": [
        {
          "output_type": "stream",
          "name": "stdout",
          "text": [
            "8.4 ms ± 52.9 µs per loop (mean ± std. dev. of 7 runs, 100 loops each)\n"
          ]
        }
      ]
    },
    {
      "cell_type": "code",
      "source": [
        "%%timeit\n",
        "threads_methods(most_frequent_gender, df)"
      ],
      "metadata": {
        "id": "RRrRRCeMAGnR",
        "colab": {
          "base_uri": "https://localhost:8080/"
        },
        "outputId": "6578c824-ca1a-4206-83b8-809b50fb73ba"
      },
      "execution_count": null,
      "outputs": [
        {
          "output_type": "stream",
          "name": "stdout",
          "text": [
            "781 ms ± 8.64 ms per loop (mean ± std. dev. of 7 runs, 1 loop each)\n"
          ]
        }
      ]
    },
    {
      "cell_type": "code",
      "source": [
        "%%timeit\n",
        "threads_methods(least_common_profession, df)"
      ],
      "metadata": {
        "id": "o0QXEMYPAGfC",
        "colab": {
          "base_uri": "https://localhost:8080/"
        },
        "outputId": "9b06a9cb-91de-4ac9-c741-03bca651f6e8"
      },
      "execution_count": null,
      "outputs": [
        {
          "output_type": "stream",
          "name": "stdout",
          "text": [
            "801 ms ± 110 ms per loop (mean ± std. dev. of 7 runs, 1 loop each)\n"
          ]
        }
      ]
    },
    {
      "cell_type": "markdown",
      "source": [
        "# 7 задание\n",
        "Увеличьте число строк в датафрейме до 10 млн. строк, и выполните пункты 1-4, с\n",
        "помощью библиотеки CSV. Замерьте время выполнения этих операций с помощью\n",
        "«магической» команды %%TIMEIT."
      ],
      "metadata": {
        "id": "rOifpMO-S1ba"
      }
    },
    {
      "cell_type": "code",
      "source": [
        "import csv"
      ],
      "metadata": {
        "id": "D5YXBfPIlECu"
      },
      "execution_count": null,
      "outputs": []
    },
    {
      "cell_type": "code",
      "source": [
        "def csv_write(df):\n",
        "    with open('out_file.csv', mode='w', newline='') as file:\n",
        "        writer = csv.writer(file)\n",
        "        writer.writerow(df.columns)\n",
        "        writer.writerows(df.values)\n",
        "def csv_read(path):\n",
        "    data = []\n",
        "    with open(path, mode='r') as file:\n",
        "        reader = csv.reader(file)\n",
        "        header = next(reader)\n",
        "        for row in reader:\n",
        "            data.append(row)\n",
        "    return data"
      ],
      "metadata": {
        "id": "BZ2v-k1GS3Qs"
      },
      "execution_count": null,
      "outputs": []
    },
    {
      "cell_type": "code",
      "source": [
        "%%timeit\n",
        "csv_write(df)"
      ],
      "metadata": {
        "id": "m3B9zegWS6PH",
        "colab": {
          "base_uri": "https://localhost:8080/"
        },
        "outputId": "7e213c6f-0739-46d0-927c-9157b1d4f81d"
      },
      "execution_count": null,
      "outputs": [
        {
          "output_type": "stream",
          "name": "stdout",
          "text": [
            "26.9 s ± 921 ms per loop (mean ± std. dev. of 7 runs, 1 loop each)\n"
          ]
        }
      ]
    },
    {
      "cell_type": "code",
      "source": [
        "%%timeit\n",
        "csv_read('out_file.csv')"
      ],
      "metadata": {
        "id": "3AJtLK6FS7_F",
        "colab": {
          "base_uri": "https://localhost:8080/"
        },
        "outputId": "be88b542-53c1-44ea-9eed-5d61a06706d1"
      },
      "execution_count": null,
      "outputs": [
        {
          "output_type": "stream",
          "name": "stdout",
          "text": [
            "15.1 s ± 3.99 s per loop (mean ± std. dev. of 7 runs, 1 loop each)\n"
          ]
        }
      ]
    },
    {
      "cell_type": "code",
      "source": [
        "csv_write(df)"
      ],
      "metadata": {
        "id": "p1KK82N-S-mv"
      },
      "execution_count": null,
      "outputs": []
    },
    {
      "cell_type": "code",
      "source": [
        "data = csv_read('out_file.csv')\n",
        "max_salary = float('-inf')\n",
        "sex_counter = Counter()\n",
        "profession_counter = Counter()\n",
        "row_count = len(data)"
      ],
      "metadata": {
        "id": "SC16yc_cTB5W"
      },
      "execution_count": null,
      "outputs": []
    },
    {
      "cell_type": "code",
      "source": [
        "%%timeit\n",
        "total_age = 0\n",
        "for row in data:\n",
        "    age = int(row[1])\n",
        "    total_age += age\n",
        "\n",
        "average_age = total_age / row_count"
      ],
      "metadata": {
        "id": "qCg3dBEzTH7z",
        "colab": {
          "base_uri": "https://localhost:8080/"
        },
        "outputId": "bbc3ad64-ff3f-496f-c64e-1ac195b384db"
      },
      "execution_count": null,
      "outputs": [
        {
          "output_type": "stream",
          "name": "stdout",
          "text": [
            "2.64 s ± 686 ms per loop (mean ± std. dev. of 7 runs, 1 loop each)\n"
          ]
        }
      ]
    },
    {
      "cell_type": "code",
      "source": [
        "%%timeit\n",
        "max_salary = float('-inf')\n",
        "for row in data:\n",
        "    salary_value = int(row[2])\n",
        "    if salary_value > max_salary:\n",
        "        max_salary = salary_value"
      ],
      "metadata": {
        "id": "ElucfAQZTJUI",
        "colab": {
          "base_uri": "https://localhost:8080/"
        },
        "outputId": "8f2cbea9-d208-424a-c972-0e853c42a199"
      },
      "execution_count": null,
      "outputs": [
        {
          "output_type": "stream",
          "name": "stdout",
          "text": [
            "2.54 s ± 682 ms per loop (mean ± std. dev. of 7 runs, 1 loop each)\n"
          ]
        }
      ]
    },
    {
      "cell_type": "code",
      "source": [
        "%%timeit\n",
        "sex_counter = Counter()\n",
        "for row in data:\n",
        "    sex_counter[row[0]] += 1\n",
        "most_common_sex = sex_counter.most_common(1)[0][0]"
      ],
      "metadata": {
        "id": "swnhLPZZTLPR",
        "colab": {
          "base_uri": "https://localhost:8080/"
        },
        "outputId": "4d09ee54-e084-47ff-ffa3-dfc2bfb58d08"
      },
      "execution_count": null,
      "outputs": [
        {
          "output_type": "stream",
          "name": "stdout",
          "text": [
            "3.6 s ± 913 ms per loop (mean ± std. dev. of 7 runs, 1 loop each)\n"
          ]
        }
      ]
    },
    {
      "cell_type": "code",
      "source": [
        "%%timeit\n",
        "profession_counter = Counter()\n",
        "for row in data:\n",
        "    profession_counter[row[3]] += 1\n",
        "least_common_profession = profession_counter.most_common()[-1][0]"
      ],
      "metadata": {
        "id": "YGW6wO1-TNUz",
        "colab": {
          "base_uri": "https://localhost:8080/"
        },
        "outputId": "5bdbca1f-f579-46d2-b1fa-277fdb1badce"
      },
      "execution_count": null,
      "outputs": [
        {
          "output_type": "stream",
          "name": "stdout",
          "text": [
            "3.57 s ± 848 ms per loop (mean ± std. dev. of 7 runs, 1 loop each)\n"
          ]
        }
      ]
    },
    {
      "cell_type": "markdown",
      "source": [
        "#8 Задание\n",
        "Увеличьте число строк в датафрейме до 10 млн. строк, и выполните пункты 1-4, с\n",
        "помощью циклов, базового контекста записи файлов WITH open(). Замерьте время\n",
        "выполнения этих операций с помощью «магической» команды %%TIMEIT."
      ],
      "metadata": {
        "id": "BXOykptXTQWR"
      }
    },
    {
      "cell_type": "code",
      "source": [
        "%%timeit\n",
        "with open('out_file.csv', 'w', newline='') as f:\n",
        "    writer = csv.writer(f)\n",
        "    writer.writerow(['пол', 'возраст', 'доход', 'профессия'])\n",
        "    for s, a, sy, p in zip(df['пол'].values, df['возраст'].values, df['доход'].values, df['профессия'].values):\n",
        "        writer.writerow([s, a, sy, p])"
      ],
      "metadata": {
        "colab": {
          "base_uri": "https://localhost:8080/"
        },
        "id": "d5b5WXyjpN-W",
        "outputId": "b2d6d266-6441-41e4-d14f-10315db8311d"
      },
      "execution_count": null,
      "outputs": [
        {
          "output_type": "stream",
          "name": "stdout",
          "text": [
            "17.8 s ± 1.31 s per loop (mean ± std. dev. of 7 runs, 1 loop each)\n"
          ]
        }
      ]
    },
    {
      "cell_type": "code",
      "source": [
        "%%timeit\n",
        "data = []\n",
        "with open('out_file.csv', 'r') as f:\n",
        "    next(f)\n",
        "    for line in f:\n",
        "        data.append(line.strip().split(','))"
      ],
      "metadata": {
        "colab": {
          "base_uri": "https://localhost:8080/"
        },
        "id": "RaWNni-iqOYk",
        "outputId": "dcde2b1c-7035-48d5-c0ee-7996e6aee49f"
      },
      "execution_count": null,
      "outputs": [
        {
          "output_type": "stream",
          "name": "stdout",
          "text": [
            "12.5 s ± 852 ms per loop (mean ± std. dev. of 7 runs, 1 loop each)\n"
          ]
        }
      ]
    },
    {
      "cell_type": "code",
      "source": [
        "data = []\n",
        "with open('out_file.csv', 'r') as f:\n",
        "    next(f)\n",
        "    for line in f:\n",
        "        data.append(line.strip().split(','))\n",
        "\n",
        "sex_count = {}\n",
        "profession_count = {}\n",
        "sum_age = 0\n",
        "max_income = float('-inf')"
      ],
      "metadata": {
        "id": "Z5qmiPv2qXTI"
      },
      "execution_count": null,
      "outputs": []
    },
    {
      "cell_type": "code",
      "source": [
        "%%timeit\n",
        "sum_age = 0\n",
        "for row in data:\n",
        "    gender, age, income, profession = row\n",
        "    age = int(age)\n",
        "\n",
        "    sum_age += age\n",
        "\n",
        "average_age = sum_age / len(data)"
      ],
      "metadata": {
        "colab": {
          "base_uri": "https://localhost:8080/"
        },
        "id": "nfSMokaUsSp-",
        "outputId": "9f45c068-8a05-4ce9-ffde-a13b5a1c9579"
      },
      "execution_count": null,
      "outputs": [
        {
          "output_type": "stream",
          "name": "stdout",
          "text": [
            "2.94 s ± 989 ms per loop (mean ± std. dev. of 7 runs, 1 loop each)\n"
          ]
        }
      ]
    },
    {
      "cell_type": "code",
      "source": [
        "%%timeit\n",
        "max_income = float('-inf')\n",
        "for row in data:\n",
        "    gender, age, income, profession = row\n",
        "    income = int(income)\n",
        "    if income > max_income:\n",
        "        max_income = income"
      ],
      "metadata": {
        "colab": {
          "base_uri": "https://localhost:8080/"
        },
        "id": "tFXv92Uwsqte",
        "outputId": "b1640f57-6133-427d-bfa9-e8b477022342"
      },
      "execution_count": null,
      "outputs": [
        {
          "output_type": "stream",
          "name": "stdout",
          "text": [
            "2.84 s ± 654 ms per loop (mean ± std. dev. of 7 runs, 1 loop each)\n"
          ]
        }
      ]
    },
    {
      "cell_type": "code",
      "source": [
        "%%timeit\n",
        "gender_count = {}\n",
        "for row in data:\n",
        "    gender, age, income, profession = row\n",
        "    if gender in gender_count:\n",
        "        gender_count[gender] += 1\n",
        "    else:\n",
        "        gender_count[gender] = 1\n",
        "\n",
        "most_frequent_gender = max(gender_count, key=gender_count.get)"
      ],
      "metadata": {
        "colab": {
          "base_uri": "https://localhost:8080/"
        },
        "id": "w_bvpRiysqnf",
        "outputId": "800f8832-a01d-4883-f731-922b9a8428a5"
      },
      "execution_count": null,
      "outputs": [
        {
          "output_type": "stream",
          "name": "stdout",
          "text": [
            "2.33 s ± 637 ms per loop (mean ± std. dev. of 7 runs, 1 loop each)\n"
          ]
        }
      ]
    },
    {
      "cell_type": "code",
      "source": [
        "%%timeit\n",
        "profession_count = {}\n",
        "for row in data:\n",
        "    gender, age, income, profession = row\n",
        "    if profession in profession_count:\n",
        "        profession_count[profession] += 1\n",
        "    else:\n",
        "        profession_count[profession] = 1\n",
        "\n",
        "least_common_profession = min(profession_count, key=profession_count.get)"
      ],
      "metadata": {
        "colab": {
          "base_uri": "https://localhost:8080/"
        },
        "id": "QdqlXhtmsqf8",
        "outputId": "22ed6eda-e1e9-4e3c-d439-343b81ca388c"
      },
      "execution_count": null,
      "outputs": [
        {
          "output_type": "stream",
          "name": "stdout",
          "text": [
            "2.96 s ± 956 ms per loop (mean ± std. dev. of 7 runs, 1 loop each)\n"
          ]
        }
      ]
    },
    {
      "cell_type": "markdown",
      "source": [
        "#9 Задание\n",
        "Заполните таблицу (можно создать в excel, и скопировать в текстовую ячейку ноутбука,\n",
        "либо создать html код, с таблицей) значениями скоростей для каждого изученного\n",
        "метода.\n",
        "\n",
        "\n",
        "![image.png](data:image/png;base64,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)"
      ],
      "metadata": {
        "id": "abdI2QrXTWX5"
      }
    },
    {
      "cell_type": "markdown",
      "source": [
        "Наилучшая последовательность действий это производить запись и чтение файла при помощи pandas, вычислять среднее, максимум, моду и редкость при помощи threading"
      ],
      "metadata": {
        "id": "vbmm5xUb3on6"
      }
    },
    {
      "cell_type": "markdown",
      "source": [
        "# Задание 10\n",
        "На основании таблицы выберите способ (или их комбинацию) для максимально\n",
        "быстрой агрегации данных из датафрейма на диске, той же структуры, что и в п.1, но из\n",
        "400 млн. строк. Здесь необходимо и сохранить, и считать и обработать этот датафрейм,\n",
        "и замерить время выполнения этих операций."
      ],
      "metadata": {
        "id": "hZM-ttKEzM0t"
      }
    },
    {
      "cell_type": "code",
      "source": [
        "import pandas as pd\n",
        "import numpy as np\n",
        "import itertools\n",
        "from collections import Counter\n",
        "import threading as thr\n",
        "import csv\n",
        "import time\n",
        "\n",
        "n = 400_000_000\n",
        "\n",
        "def average_age(param, df):\n",
        "    param[\"возраст\"] = df[\"возраст\"].mean()\n",
        "def max_income(param, df):\n",
        "    param[\"доход\"] = df[\"доход\"].max()\n",
        "def most_frequent_gender(param, df):\n",
        "    param[\"пол\"] = df[\"пол\"].value_counts().idxmax()\n",
        "def least_common_profession(param, df):\n",
        "    param[\"профессия\"] = df[\"профессия\"].value_counts().idxmin()\n",
        "\n",
        "start_time = time.time()\n",
        "decode_sex = pd.Series(data=np.array([1, 2], dtype=np.int8), index=['муж', 'жен'], name='sex_code')\n",
        "\n",
        "decode_prof = pd.Series(data=np.array([1, 2, 3, 4], dtype=np.int8), index=['уборщик', 'кассир', 'дворник', 'няня'], name='prof_code')\n",
        "\n",
        "df = pd.DataFrame({\n",
        "    'пол': np.random.choice(decode_sex.to_numpy(), size=400000000),\n",
        "    'возраст': np.array(np.random.normal(30, 5, size=400000000), dtype=np.int8),\n",
        "    'доход': np.array(np.random.normal(20000, 1500, size=400000000), dtype=np.uint32),\n",
        "    'профессия': np.random.choice(decode_prof.to_numpy(), size=400000000)\n",
        "})\n",
        "\n",
        "df.to_csv('BigBig.csv', index=False, chunksize=1000000)\n",
        "df_new = pd.read_csv('BigBig.csv', dtype={'пол': np.int8, 'возраст': np.int8, 'доход': np.uint32, 'профессия': np.int8})\n",
        "\n",
        "\n",
        "params = {\n",
        "    'пол': 0,\n",
        "    'возраст': 0,\n",
        "    'доход': 0,\n",
        "    'профессия': 0\n",
        "}\n",
        "\n",
        "th_average_age = thr.Thread(target=average_age, args=(params, df))\n",
        "th_max_income = thr.Thread(target=max_income, args=(params, df))\n",
        "th_most_frequent_gender = thr.Thread(target=most_frequent_gender, args=(params, df))\n",
        "th_least_common_profession = thr.Thread(target=least_common_profession, args=(params, df))\n",
        "\n",
        "th_average_age.start()\n",
        "th_max_income.start()\n",
        "th_most_frequent_gender.start()\n",
        "th_least_common_profession.start()\n",
        "\n",
        "\n",
        "print(f\"average_age: {params['возраст']}, max_income: {params['доход']}, most_frequent_gender: {params['пол']}, least_common_profession: {params['профессия']}\")\n",
        "curr_time = time.time()\n",
        "print(\"Время выполнения\", curr_time - start_time)"
      ],
      "metadata": {
        "colab": {
          "base_uri": "https://localhost:8080/"
        },
        "id": "9DY4I7O640tf",
        "outputId": "57d78ed3-fd2c-45e4-83cc-51332e301d5e"
      },
      "execution_count": null,
      "outputs": [
        {
          "output_type": "stream",
          "name": "stdout",
          "text": [
            "average_age: 29.4998340075, max_income: 28599, most_frequent_gender: 2, least_common_professio: 0\n",
            "Время выполнения 813.7826693058014\n"
          ]
        }
      ]
    },
    {
      "cell_type": "code",
      "source": [
        "print(\"Время выполнения\", round(curr_time - start_time), \"секунд или\", int((curr_time - start_time) // 60), \"минут\", int((curr_time - start_time) - ((curr_time - start_time) // 60) * 60), \"секунды\")"
      ],
      "metadata": {
        "colab": {
          "base_uri": "https://localhost:8080/"
        },
        "id": "bi6I1uizt8pW",
        "outputId": "55870127-c219-4a16-c427-8b14cf6d89bb"
      },
      "execution_count": null,
      "outputs": [
        {
          "output_type": "stream",
          "name": "stdout",
          "text": [
            "Время выполнения 814 секунд или 13 минут 33 секунды\n"
          ]
        }
      ]
    }
  ]
}