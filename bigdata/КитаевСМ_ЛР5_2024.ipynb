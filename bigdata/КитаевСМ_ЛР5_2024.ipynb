{
  "metadata": {
    "kernelspec": {
      "display_name": "Python 3",
      "name": "python3"
    },
    "language_info": {
      "name": "python",
      "version": "3.10.14",
      "mimetype": "text/x-python",
      "codemirror_mode": {
        "name": "ipython",
        "version": 3
      },
      "pygments_lexer": "ipython3",
      "nbconvert_exporter": "python",
      "file_extension": ".py"
    },
    "kaggle": {
      "accelerator": "nvidiaTeslaT4",
      "dataSources": [],
      "isInternetEnabled": true,
      "language": "python",
      "sourceType": "notebook",
      "isGpuEnabled": true
    },
    "colab": {
      "provenance": [],
      "gpuType": "T4"
    },
    "accelerator": "GPU"
  },
  "nbformat_minor": 0,
  "nbformat": 4,
  "cells": [
    {
      "cell_type": "markdown",
      "source": [
        "# 1 Задание\n",
        "Для загрузки библиотек cuDF и cuML использовал собственный скрипт"
      ],
      "metadata": {
        "id": "kf3_rsDWNm-k"
      }
    },
    {
      "cell_type": "code",
      "source": [
        "import locale\n",
        "\n",
        "!conda install -c rapidsai -c nvidia -c conda-forge cudf=23.06 python=3.8 cudatoolkit=11.2\n",
        "\n",
        "def getpreferredencoding(do_setlocale = True):\n",
        "    return \"UTF-8\"\n",
        "locale.getpreferredencoding = getpreferredencoding\n",
        "print(locale.getpreferredencoding())\n",
        "\n",
        "!pip install --extra-index-url=https://pypi.nvidia.com cuml-cu12==24.4.*"
      ],
      "metadata": {
        "colab": {
          "base_uri": "https://localhost:8080/"
        },
        "id": "f-quIXUngFmO",
        "outputId": "ffc46d2a-6be3-483c-eba2-75144d719d25"
      },
      "execution_count": null,
      "outputs": [
        {
          "output_type": "stream",
          "name": "stdout",
          "text": [
            "/bin/bash: line 1: conda: command not found\n",
            "UTF-8\n",
            "Looking in indexes: https://pypi.org/simple, https://pypi.nvidia.com\n",
            "Collecting cuml-cu12==24.4.*\n",
            "  Downloading https://pypi.nvidia.com/cuml-cu12/cuml_cu12-24.4.0-cp310-cp310-manylinux_2_17_x86_64.manylinux2014_x86_64.whl (1200.7 MB)\n",
            "\u001b[2K     \u001b[90m━━━━━━━━━━━━━━━━━━━━━━━━━━━━━━━━━━━━━━━━\u001b[0m \u001b[32m1.2/1.2 GB\u001b[0m \u001b[31m811.9 kB/s\u001b[0m eta \u001b[36m0:00:00\u001b[0m\n",
            "\u001b[?25hCollecting cudf-cu12==24.4.* (from cuml-cu12==24.4.*)\n",
            "  Downloading https://pypi.nvidia.com/cudf-cu12/cudf_cu12-24.4.1-cp310-cp310-manylinux_2_28_x86_64.whl (473.3 MB)\n",
            "\u001b[2K     \u001b[90m━━━━━━━━━━━━━━━━━━━━━━━━━━━━━━━━━━━━━━━━\u001b[0m \u001b[32m473.3/473.3 MB\u001b[0m \u001b[31m3.5 MB/s\u001b[0m eta \u001b[36m0:00:00\u001b[0m\n",
            "\u001b[?25hRequirement already satisfied: cupy-cuda12x>=12.0.0 in /usr/local/lib/python3.10/dist-packages (from cuml-cu12==24.4.*) (12.2.0)\n",
            "Collecting dask-cuda==24.4.* (from cuml-cu12==24.4.*)\n",
            "  Downloading https://pypi.nvidia.com/dask-cuda/dask_cuda-24.4.0-py3-none-any.whl (126 kB)\n",
            "\u001b[2K     \u001b[90m━━━━━━━━━━━━━━━━━━━━━━━━━━━━━━━━━━━━━━━━\u001b[0m \u001b[32m126.6/126.6 kB\u001b[0m \u001b[31m12.7 MB/s\u001b[0m eta \u001b[36m0:00:00\u001b[0m\n",
            "\u001b[?25hCollecting dask-cudf-cu12==24.4.* (from cuml-cu12==24.4.*)\n",
            "  Downloading https://pypi.nvidia.com/dask-cudf-cu12/dask_cudf_cu12-24.4.1-py3-none-any.whl (48 kB)\n",
            "\u001b[2K     \u001b[90m━━━━━━━━━━━━━━━━━━━━━━━━━━━━━━━━━━━━━━━━\u001b[0m \u001b[32m48.9/48.9 kB\u001b[0m \u001b[31m5.0 MB/s\u001b[0m eta \u001b[36m0:00:00\u001b[0m\n",
            "\u001b[?25hRequirement already satisfied: joblib>=0.11 in /usr/local/lib/python3.10/dist-packages (from cuml-cu12==24.4.*) (1.4.2)\n",
            "Requirement already satisfied: numba>=0.57 in /usr/local/lib/python3.10/dist-packages (from cuml-cu12==24.4.*) (0.60.0)\n",
            "Collecting pylibraft-cu12==24.4.* (from cuml-cu12==24.4.*)\n",
            "  Downloading https://pypi.nvidia.com/pylibraft-cu12/pylibraft_cu12-24.4.0-cp310-cp310-manylinux_2_17_x86_64.manylinux2014_x86_64.whl (823.0 MB)\n",
            "\u001b[2K     \u001b[90m━━━━━━━━━━━━━━━━━━━━━━━━━━━━━━━━━━━━━━━━\u001b[0m \u001b[32m823.0/823.0 MB\u001b[0m \u001b[31m1.8 MB/s\u001b[0m eta \u001b[36m0:00:00\u001b[0m\n",
            "\u001b[?25hCollecting raft-dask-cu12==24.4.* (from cuml-cu12==24.4.*)\n",
            "  Downloading https://pypi.nvidia.com/raft-dask-cu12/raft_dask_cu12-24.4.0-cp310-cp310-manylinux_2_17_x86_64.manylinux2014_x86_64.whl (170.1 MB)\n",
            "\u001b[2K     \u001b[90m━━━━━━━━━━━━━━━━━━━━━━━━━━━━━━━━━━━━━━━━\u001b[0m \u001b[32m170.1/170.1 MB\u001b[0m \u001b[31m6.2 MB/s\u001b[0m eta \u001b[36m0:00:00\u001b[0m\n",
            "\u001b[?25hCollecting rapids-dask-dependency==24.4.* (from cuml-cu12==24.4.*)\n",
            "  Downloading https://pypi.nvidia.com/rapids-dask-dependency/rapids_dask_dependency-24.4.1-py3-none-any.whl (15 kB)\n",
            "Collecting rmm-cu12==24.4.* (from cuml-cu12==24.4.*)\n",
            "  Downloading https://pypi.nvidia.com/rmm-cu12/rmm_cu12-24.4.0-cp310-cp310-manylinux_2_17_x86_64.manylinux2014_x86_64.whl (1.7 MB)\n",
            "\u001b[2K     \u001b[90m━━━━━━━━━━━━━━━━━━━━━━━━━━━━━━━━━━━━━━━━\u001b[0m \u001b[32m1.7/1.7 MB\u001b[0m \u001b[31m80.7 MB/s\u001b[0m eta \u001b[36m0:00:00\u001b[0m\n",
            "\u001b[?25hRequirement already satisfied: scipy>=1.8.0 in /usr/local/lib/python3.10/dist-packages (from cuml-cu12==24.4.*) (1.13.1)\n",
            "Collecting treelite==4.1.2 (from cuml-cu12==24.4.*)\n",
            "  Downloading treelite-4.1.2-py3-none-manylinux2014_x86_64.whl.metadata (1.5 kB)\n",
            "Requirement already satisfied: cachetools in /usr/local/lib/python3.10/dist-packages (from cudf-cu12==24.4.*->cuml-cu12==24.4.*) (5.5.0)\n",
            "Requirement already satisfied: cuda-python<13.0a0,>=12.0 in /usr/local/lib/python3.10/dist-packages (from cudf-cu12==24.4.*->cuml-cu12==24.4.*) (12.2.1)\n",
            "Requirement already satisfied: fsspec>=0.6.0 in /usr/local/lib/python3.10/dist-packages (from cudf-cu12==24.4.*->cuml-cu12==24.4.*) (2024.10.0)\n",
            "Requirement already satisfied: numpy<2.0a0,>=1.23 in /usr/local/lib/python3.10/dist-packages (from cudf-cu12==24.4.*->cuml-cu12==24.4.*) (1.26.4)\n",
            "Requirement already satisfied: nvtx>=0.2.1 in /usr/local/lib/python3.10/dist-packages (from cudf-cu12==24.4.*->cuml-cu12==24.4.*) (0.2.10)\n",
            "Requirement already satisfied: packaging in /usr/local/lib/python3.10/dist-packages (from cudf-cu12==24.4.*->cuml-cu12==24.4.*) (24.2)\n",
            "Collecting pandas<2.2.2dev0,>=2.0 (from cudf-cu12==24.4.*->cuml-cu12==24.4.*)\n",
            "  Downloading pandas-2.2.1-cp310-cp310-manylinux_2_17_x86_64.manylinux2014_x86_64.whl.metadata (19 kB)\n",
            "Requirement already satisfied: protobuf<5,>=3.20 in /usr/local/lib/python3.10/dist-packages (from cudf-cu12==24.4.*->cuml-cu12==24.4.*) (4.25.5)\n",
            "Requirement already satisfied: pynvjitlink-cu12 in /usr/local/lib/python3.10/dist-packages (from cudf-cu12==24.4.*->cuml-cu12==24.4.*) (0.4.0)\n",
            "Collecting pyarrow<15.0.0a0,>=14.0.1 (from cudf-cu12==24.4.*->cuml-cu12==24.4.*)\n",
            "  Downloading pyarrow-14.0.2-cp310-cp310-manylinux_2_28_x86_64.whl.metadata (3.0 kB)\n",
            "Requirement already satisfied: rich in /usr/local/lib/python3.10/dist-packages (from cudf-cu12==24.4.*->cuml-cu12==24.4.*) (13.9.4)\n",
            "Requirement already satisfied: typing_extensions>=4.0.0 in /usr/local/lib/python3.10/dist-packages (from cudf-cu12==24.4.*->cuml-cu12==24.4.*) (4.12.2)\n",
            "Requirement already satisfied: click>=8.1 in /usr/local/lib/python3.10/dist-packages (from dask-cuda==24.4.*->cuml-cu12==24.4.*) (8.1.7)\n",
            "Collecting pynvml<11.5,>=11.0.0 (from dask-cuda==24.4.*->cuml-cu12==24.4.*)\n",
            "  Downloading pynvml-11.4.1-py3-none-any.whl.metadata (7.7 kB)\n",
            "Collecting zict>=2.0.0 (from dask-cuda==24.4.*->cuml-cu12==24.4.*)\n",
            "  Downloading zict-3.0.0-py2.py3-none-any.whl.metadata (899 bytes)\n",
            "Collecting ucx-py-cu12==0.37.* (from raft-dask-cu12==24.4.*->cuml-cu12==24.4.*)\n",
            "  Downloading https://pypi.nvidia.com/ucx-py-cu12/ucx_py_cu12-0.37.0-cp310-cp310-manylinux_2_17_x86_64.manylinux2014_x86_64.whl (7.7 MB)\n",
            "\u001b[2K     \u001b[90m━━━━━━━━━━━━━━━━━━━━━━━━━━━━━━━━━━━━━━━━\u001b[0m \u001b[32m7.7/7.7 MB\u001b[0m \u001b[31m79.5 MB/s\u001b[0m eta \u001b[36m0:00:00\u001b[0m\n",
            "\u001b[?25hCollecting dask==2024.1.1 (from rapids-dask-dependency==24.4.*->cuml-cu12==24.4.*)\n",
            "  Downloading dask-2024.1.1-py3-none-any.whl.metadata (3.7 kB)\n",
            "Collecting distributed==2024.1.1 (from rapids-dask-dependency==24.4.*->cuml-cu12==24.4.*)\n",
            "  Downloading distributed-2024.1.1-py3-none-any.whl.metadata (3.4 kB)\n",
            "Collecting dask-expr==0.4.0 (from rapids-dask-dependency==24.4.*->cuml-cu12==24.4.*)\n",
            "  Downloading dask_expr-0.4.0-py3-none-any.whl.metadata (2.5 kB)\n",
            "Requirement already satisfied: cloudpickle>=1.5.0 in /usr/local/lib/python3.10/dist-packages (from dask==2024.1.1->rapids-dask-dependency==24.4.*->cuml-cu12==24.4.*) (3.1.0)\n",
            "Requirement already satisfied: partd>=1.2.0 in /usr/local/lib/python3.10/dist-packages (from dask==2024.1.1->rapids-dask-dependency==24.4.*->cuml-cu12==24.4.*) (1.4.2)\n",
            "Requirement already satisfied: pyyaml>=5.3.1 in /usr/local/lib/python3.10/dist-packages (from dask==2024.1.1->rapids-dask-dependency==24.4.*->cuml-cu12==24.4.*) (6.0.2)\n",
            "Requirement already satisfied: toolz>=0.10.0 in /usr/local/lib/python3.10/dist-packages (from dask==2024.1.1->rapids-dask-dependency==24.4.*->cuml-cu12==24.4.*) (0.12.1)\n",
            "Requirement already satisfied: importlib-metadata>=4.13.0 in /usr/local/lib/python3.10/dist-packages (from dask==2024.1.1->rapids-dask-dependency==24.4.*->cuml-cu12==24.4.*) (8.5.0)\n",
            "Requirement already satisfied: jinja2>=2.10.3 in /usr/local/lib/python3.10/dist-packages (from distributed==2024.1.1->rapids-dask-dependency==24.4.*->cuml-cu12==24.4.*) (3.1.4)\n",
            "Requirement already satisfied: locket>=1.0.0 in /usr/local/lib/python3.10/dist-packages (from distributed==2024.1.1->rapids-dask-dependency==24.4.*->cuml-cu12==24.4.*) (1.0.0)\n",
            "Requirement already satisfied: msgpack>=1.0.0 in /usr/local/lib/python3.10/dist-packages (from distributed==2024.1.1->rapids-dask-dependency==24.4.*->cuml-cu12==24.4.*) (1.1.0)\n",
            "Requirement already satisfied: psutil>=5.7.2 in /usr/local/lib/python3.10/dist-packages (from distributed==2024.1.1->rapids-dask-dependency==24.4.*->cuml-cu12==24.4.*) (5.9.5)\n",
            "Collecting sortedcontainers>=2.0.5 (from distributed==2024.1.1->rapids-dask-dependency==24.4.*->cuml-cu12==24.4.*)\n",
            "  Downloading sortedcontainers-2.4.0-py2.py3-none-any.whl.metadata (10 kB)\n",
            "Collecting tblib>=1.6.0 (from distributed==2024.1.1->rapids-dask-dependency==24.4.*->cuml-cu12==24.4.*)\n",
            "  Downloading tblib-3.0.0-py3-none-any.whl.metadata (25 kB)\n",
            "Requirement already satisfied: tornado>=6.0.4 in /usr/local/lib/python3.10/dist-packages (from distributed==2024.1.1->rapids-dask-dependency==24.4.*->cuml-cu12==24.4.*) (6.3.3)\n",
            "Requirement already satisfied: urllib3>=1.24.3 in /usr/local/lib/python3.10/dist-packages (from distributed==2024.1.1->rapids-dask-dependency==24.4.*->cuml-cu12==24.4.*) (2.2.3)\n",
            "Requirement already satisfied: fastrlock>=0.5 in /usr/local/lib/python3.10/dist-packages (from cupy-cuda12x>=12.0.0->cuml-cu12==24.4.*) (0.8.2)\n",
            "Requirement already satisfied: llvmlite<0.44,>=0.43.0dev0 in /usr/local/lib/python3.10/dist-packages (from numba>=0.57->cuml-cu12==24.4.*) (0.43.0)\n",
            "Requirement already satisfied: cython in /usr/local/lib/python3.10/dist-packages (from cuda-python<13.0a0,>=12.0->cudf-cu12==24.4.*->cuml-cu12==24.4.*) (3.0.11)\n",
            "Requirement already satisfied: python-dateutil>=2.8.2 in /usr/local/lib/python3.10/dist-packages (from pandas<2.2.2dev0,>=2.0->cudf-cu12==24.4.*->cuml-cu12==24.4.*) (2.8.2)\n",
            "Requirement already satisfied: pytz>=2020.1 in /usr/local/lib/python3.10/dist-packages (from pandas<2.2.2dev0,>=2.0->cudf-cu12==24.4.*->cuml-cu12==24.4.*) (2024.2)\n",
            "Requirement already satisfied: tzdata>=2022.7 in /usr/local/lib/python3.10/dist-packages (from pandas<2.2.2dev0,>=2.0->cudf-cu12==24.4.*->cuml-cu12==24.4.*) (2024.2)\n",
            "Requirement already satisfied: markdown-it-py>=2.2.0 in /usr/local/lib/python3.10/dist-packages (from rich->cudf-cu12==24.4.*->cuml-cu12==24.4.*) (3.0.0)\n",
            "Requirement already satisfied: pygments<3.0.0,>=2.13.0 in /usr/local/lib/python3.10/dist-packages (from rich->cudf-cu12==24.4.*->cuml-cu12==24.4.*) (2.18.0)\n",
            "Requirement already satisfied: zipp>=3.20 in /usr/local/lib/python3.10/dist-packages (from importlib-metadata>=4.13.0->dask==2024.1.1->rapids-dask-dependency==24.4.*->cuml-cu12==24.4.*) (3.21.0)\n",
            "Requirement already satisfied: MarkupSafe>=2.0 in /usr/local/lib/python3.10/dist-packages (from jinja2>=2.10.3->distributed==2024.1.1->rapids-dask-dependency==24.4.*->cuml-cu12==24.4.*) (3.0.2)\n",
            "Requirement already satisfied: mdurl~=0.1 in /usr/local/lib/python3.10/dist-packages (from markdown-it-py>=2.2.0->rich->cudf-cu12==24.4.*->cuml-cu12==24.4.*) (0.1.2)\n",
            "Requirement already satisfied: six>=1.5 in /usr/local/lib/python3.10/dist-packages (from python-dateutil>=2.8.2->pandas<2.2.2dev0,>=2.0->cudf-cu12==24.4.*->cuml-cu12==24.4.*) (1.16.0)\n",
            "Downloading treelite-4.1.2-py3-none-manylinux2014_x86_64.whl (810 kB)\n",
            "\u001b[2K   \u001b[90m━━━━━━━━━━━━━━━━━━━━━━━━━━━━━━━━━━━━━━━━\u001b[0m \u001b[32m810.9/810.9 kB\u001b[0m \u001b[31m21.1 MB/s\u001b[0m eta \u001b[36m0:00:00\u001b[0m\n",
            "\u001b[?25hDownloading dask-2024.1.1-py3-none-any.whl (1.2 MB)\n",
            "\u001b[2K   \u001b[90m━━━━━━━━━━━━━━━━━━━━━━━━━━━━━━━━━━━━━━━━\u001b[0m \u001b[32m1.2/1.2 MB\u001b[0m \u001b[31m66.7 MB/s\u001b[0m eta \u001b[36m0:00:00\u001b[0m\n",
            "\u001b[?25hDownloading dask_expr-0.4.0-py3-none-any.whl (161 kB)\n",
            "\u001b[2K   \u001b[90m━━━━━━━━━━━━━━━━━━━━━━━━━━━━━━━━━━━━━━━━\u001b[0m \u001b[32m161.7/161.7 kB\u001b[0m \u001b[31m16.7 MB/s\u001b[0m eta \u001b[36m0:00:00\u001b[0m\n",
            "\u001b[?25hDownloading distributed-2024.1.1-py3-none-any.whl (1.0 MB)\n",
            "\u001b[2K   \u001b[90m━━━━━━━━━━━━━━━━━━━━━━━━━━━━━━━━━━━━━━━━\u001b[0m \u001b[32m1.0/1.0 MB\u001b[0m \u001b[31m66.2 MB/s\u001b[0m eta \u001b[36m0:00:00\u001b[0m\n",
            "\u001b[?25hDownloading pandas-2.2.1-cp310-cp310-manylinux_2_17_x86_64.manylinux2014_x86_64.whl (13.0 MB)\n",
            "\u001b[2K   \u001b[90m━━━━━━━━━━━━━━━━━━━━━━━━━━━━━━━━━━━━━━━━\u001b[0m \u001b[32m13.0/13.0 MB\u001b[0m \u001b[31m77.7 MB/s\u001b[0m eta \u001b[36m0:00:00\u001b[0m\n",
            "\u001b[?25hDownloading pyarrow-14.0.2-cp310-cp310-manylinux_2_28_x86_64.whl (38.0 MB)\n",
            "\u001b[2K   \u001b[90m━━━━━━━━━━━━━━━━━━━━━━━━━━━━━━━━━━━━━━━━\u001b[0m \u001b[32m38.0/38.0 MB\u001b[0m \u001b[31m14.9 MB/s\u001b[0m eta \u001b[36m0:00:00\u001b[0m\n",
            "\u001b[?25hDownloading pynvml-11.4.1-py3-none-any.whl (46 kB)\n",
            "\u001b[2K   \u001b[90m━━━━━━━━━━━━━━━━━━━━━━━━━━━━━━━━━━━━━━━━\u001b[0m \u001b[32m47.0/47.0 kB\u001b[0m \u001b[31m4.0 MB/s\u001b[0m eta \u001b[36m0:00:00\u001b[0m\n",
            "\u001b[?25hDownloading zict-3.0.0-py2.py3-none-any.whl (43 kB)\n",
            "\u001b[2K   \u001b[90m━━━━━━━━━━━━━━━━━━━━━━━━━━━━━━━━━━━━━━━━\u001b[0m \u001b[32m43.3/43.3 kB\u001b[0m \u001b[31m4.1 MB/s\u001b[0m eta \u001b[36m0:00:00\u001b[0m\n",
            "\u001b[?25hDownloading sortedcontainers-2.4.0-py2.py3-none-any.whl (29 kB)\n",
            "Downloading tblib-3.0.0-py3-none-any.whl (12 kB)\n",
            "Installing collected packages: sortedcontainers, zict, tblib, pynvml, pyarrow, ucx-py-cu12, treelite, rmm-cu12, pandas, dask, pylibraft-cu12, distributed, dask-expr, cudf-cu12, rapids-dask-dependency, dask-cudf-cu12, dask-cuda, raft-dask-cu12, cuml-cu12\n",
            "  Attempting uninstall: pyarrow\n",
            "    Found existing installation: pyarrow 17.0.0\n",
            "    Uninstalling pyarrow-17.0.0:\n",
            "      Successfully uninstalled pyarrow-17.0.0\n",
            "  Attempting uninstall: rmm-cu12\n",
            "    Found existing installation: rmm-cu12 24.10.0\n",
            "    Uninstalling rmm-cu12-24.10.0:\n",
            "      Successfully uninstalled rmm-cu12-24.10.0\n",
            "  Attempting uninstall: pandas\n",
            "    Found existing installation: pandas 2.2.2\n",
            "    Uninstalling pandas-2.2.2:\n",
            "      Successfully uninstalled pandas-2.2.2\n",
            "  Attempting uninstall: dask\n",
            "    Found existing installation: dask 2024.10.0\n",
            "    Uninstalling dask-2024.10.0:\n",
            "      Successfully uninstalled dask-2024.10.0\n",
            "  Attempting uninstall: pylibraft-cu12\n",
            "    Found existing installation: pylibraft-cu12 24.10.0\n",
            "    Uninstalling pylibraft-cu12-24.10.0:\n",
            "      Successfully uninstalled pylibraft-cu12-24.10.0\n",
            "  Attempting uninstall: cudf-cu12\n",
            "    Found existing installation: cudf-cu12 24.10.1\n",
            "    Uninstalling cudf-cu12-24.10.1:\n",
            "      Successfully uninstalled cudf-cu12-24.10.1\n",
            "\u001b[31mERROR: pip's dependency resolver does not currently take into account all the packages that are installed. This behaviour is the source of the following dependency conflicts.\n",
            "google-colab 1.0.0 requires pandas==2.2.2, but you have pandas 2.2.1 which is incompatible.\n",
            "pylibcudf-cu12 24.10.1 requires rmm-cu12==24.10.*, but you have rmm-cu12 24.4.0 which is incompatible.\n",
            "pylibcugraph-cu12 24.10.0 requires pylibraft-cu12==24.10.*, but you have pylibraft-cu12 24.4.0 which is incompatible.\n",
            "pylibcugraph-cu12 24.10.0 requires rmm-cu12==24.10.*, but you have rmm-cu12 24.4.0 which is incompatible.\u001b[0m\u001b[31m\n",
            "\u001b[0mSuccessfully installed cudf-cu12-24.4.1 cuml-cu12-24.4.0 dask-2024.1.1 dask-cuda-24.4.0 dask-cudf-cu12-24.4.1 dask-expr-0.4.0 distributed-2024.1.1 pandas-2.2.1 pyarrow-14.0.2 pylibraft-cu12-24.4.0 pynvml-11.4.1 raft-dask-cu12-24.4.0 rapids-dask-dependency-24.4.1 rmm-cu12-24.4.0 sortedcontainers-2.4.0 tblib-3.0.0 treelite-4.1.2 ucx-py-cu12-0.37.0 zict-3.0.0\n"
          ]
        }
      ]
    },
    {
      "cell_type": "code",
      "source": [
        "import cudf, cuml"
      ],
      "metadata": {
        "trusted": true,
        "execution": {
          "iopub.status.busy": "2024-11-26T20:31:05.128729Z",
          "iopub.execute_input": "2024-11-26T20:31:05.129552Z",
          "iopub.status.idle": "2024-11-26T20:31:05.133474Z",
          "shell.execute_reply.started": "2024-11-26T20:31:05.129517Z",
          "shell.execute_reply": "2024-11-26T20:31:05.132525Z"
        },
        "id": "l59UqjL7Nm-p"
      },
      "outputs": [],
      "execution_count": null
    },
    {
      "cell_type": "markdown",
      "source": [
        "# 2 Задание\n",
        "\n",
        "C помощью PANDAS создайте датафрейм df из 1 млн. строк, содержащий 4 столбца – пол, возраст, доход, профессия. В категориальной переменной профессия сделайте 3-4 категории, в переменной пол – 2, возраст и доход сделайте количественными, с типом INT. Для генерации этих столбцов используйте методы NP.RANDOM.NORMAL, NP.RANDOM.CHOICE. Сохраните этот датафрейм на диск, в виде файла  CSV, без индекса. Замерьте скорость создания датафрейма и скорость записи, с помощью «магической» команды  %%TIMEIT."
      ],
      "metadata": {
        "id": "9gCg96BcNm-r"
      }
    },
    {
      "cell_type": "code",
      "source": [
        "import numpy as np\n",
        "import pandas as pd"
      ],
      "metadata": {
        "trusted": true,
        "execution": {
          "iopub.status.busy": "2024-11-26T20:31:05.193980Z",
          "iopub.execute_input": "2024-11-26T20:31:05.194294Z",
          "iopub.status.idle": "2024-11-26T20:31:05.198120Z",
          "shell.execute_reply.started": "2024-11-26T20:31:05.194268Z",
          "shell.execute_reply": "2024-11-26T20:31:05.197214Z"
        },
        "id": "FN13NEHtNm-s"
      },
      "outputs": [],
      "execution_count": null
    },
    {
      "cell_type": "code",
      "source": [
        "%%timeit\n",
        "\n",
        "n = 1_000_000\n",
        "\n",
        "data = pd.DataFrame({\n",
        "    'sex': np.random.choice(['Муж', 'Жен'], size = n),\n",
        "    'age': np.random.normal(41, 8, size=n),\n",
        "    'income': np.random.normal(loc=20000, scale=1500, size = n),\n",
        "    'profession': np.random.choice(['дворник', 'уборщик', 'няня', 'кассир'], size=n)\n",
        "})"
      ],
      "metadata": {
        "trusted": true,
        "execution": {
          "iopub.status.busy": "2024-11-26T20:31:05.292574Z",
          "iopub.execute_input": "2024-11-26T20:31:05.292826Z",
          "iopub.status.idle": "2024-11-26T20:31:09.800222Z",
          "shell.execute_reply.started": "2024-11-26T20:31:05.292802Z",
          "shell.execute_reply": "2024-11-26T20:31:09.799231Z"
        },
        "id": "5HxnmrDdNm-s",
        "outputId": "2c8f70d6-863b-443d-e050-883f5026fca9",
        "colab": {
          "base_uri": "https://localhost:8080/"
        }
      },
      "outputs": [
        {
          "output_type": "stream",
          "name": "stdout",
          "text": [
            "505 ms ± 86.1 ms per loop (mean ± std. dev. of 7 runs, 1 loop each)\n"
          ]
        }
      ],
      "execution_count": null
    },
    {
      "cell_type": "code",
      "source": [
        "n = 1_000_000\n",
        "\n",
        "data = pd.DataFrame({\n",
        "    'sex': np.random.choice(['Муж', 'Жен'], size = n),\n",
        "    'age': np.random.normal(41, 8, size=n),\n",
        "    'income': np.random.normal(loc=20000, scale=1500, size = n),\n",
        "    'profession': np.random.choice(['дворник', 'уборщик', 'няня', 'кассир'], size=n)\n",
        "})"
      ],
      "metadata": {
        "trusted": true,
        "execution": {
          "iopub.status.busy": "2024-11-26T20:31:09.801787Z",
          "iopub.execute_input": "2024-11-26T20:31:09.802076Z",
          "iopub.status.idle": "2024-11-26T20:31:10.303085Z",
          "shell.execute_reply.started": "2024-11-26T20:31:09.802047Z",
          "shell.execute_reply": "2024-11-26T20:31:10.302314Z"
        },
        "id": "3mLDhtDWNm-t"
      },
      "outputs": [],
      "execution_count": null
    },
    {
      "cell_type": "code",
      "source": [
        "data.to_csv('data.csv', index=False, encoding='utf-8')"
      ],
      "metadata": {
        "trusted": true,
        "execution": {
          "iopub.status.busy": "2024-11-26T20:31:10.304051Z",
          "iopub.execute_input": "2024-11-26T20:31:10.304315Z",
          "iopub.status.idle": "2024-11-26T20:31:13.773593Z",
          "shell.execute_reply.started": "2024-11-26T20:31:10.304290Z",
          "shell.execute_reply": "2024-11-26T20:31:13.772603Z"
        },
        "id": "RBdKj5u-Nm-u"
      },
      "outputs": [],
      "execution_count": null
    },
    {
      "cell_type": "code",
      "source": [
        "%%timeit\n",
        "\n",
        "data.to_csv('data.csv', index=False)"
      ],
      "metadata": {
        "trusted": true,
        "execution": {
          "iopub.status.busy": "2024-11-26T20:31:13.775943Z",
          "iopub.execute_input": "2024-11-26T20:31:13.776272Z",
          "iopub.status.idle": "2024-11-26T20:31:41.979836Z",
          "shell.execute_reply.started": "2024-11-26T20:31:13.776245Z",
          "shell.execute_reply": "2024-11-26T20:31:41.978494Z"
        },
        "id": "aP78-Z1KNm-u",
        "outputId": "b4f3b9c6-0662-4b25-b73d-1548f99da289",
        "colab": {
          "base_uri": "https://localhost:8080/"
        }
      },
      "outputs": [
        {
          "output_type": "stream",
          "name": "stdout",
          "text": [
            "3.56 s ± 487 ms per loop (mean ± std. dev. of 7 runs, 1 loop each)\n"
          ]
        }
      ],
      "execution_count": null
    },
    {
      "cell_type": "code",
      "source": [
        "%%timeit\n",
        "\n",
        "data = pd.read_csv('data.csv')"
      ],
      "metadata": {
        "trusted": true,
        "execution": {
          "iopub.status.busy": "2024-11-26T20:31:41.981210Z",
          "iopub.execute_input": "2024-11-26T20:31:41.981869Z",
          "iopub.status.idle": "2024-11-26T20:31:47.520549Z",
          "shell.execute_reply.started": "2024-11-26T20:31:41.981825Z",
          "shell.execute_reply": "2024-11-26T20:31:47.519466Z"
        },
        "id": "TZqmjQrRNm-u",
        "outputId": "304b41a9-1756-46ed-9fea-198591632213",
        "colab": {
          "base_uri": "https://localhost:8080/"
        }
      },
      "outputs": [
        {
          "output_type": "stream",
          "name": "stdout",
          "text": [
            "913 ms ± 202 ms per loop (mean ± std. dev. of 7 runs, 1 loop each)\n"
          ]
        }
      ],
      "execution_count": null
    },
    {
      "cell_type": "markdown",
      "source": [
        "# 3 Задание\n",
        "\n",
        "Создайте датафрейм cdf1 с помощью библиотеки cuDF из полученного  CSV файла и замерьте скорость  чтения, с помощью «магической» команды  %%TIMEIT."
      ],
      "metadata": {
        "id": "wTtcQ5LuNm-v"
      }
    },
    {
      "cell_type": "code",
      "source": [
        "cdf1 = cudf.read_csv('data.csv')"
      ],
      "metadata": {
        "trusted": true,
        "execution": {
          "iopub.status.busy": "2024-11-26T20:31:47.522197Z",
          "iopub.execute_input": "2024-11-26T20:31:47.522596Z",
          "iopub.status.idle": "2024-11-26T20:31:47.576497Z",
          "shell.execute_reply.started": "2024-11-26T20:31:47.522555Z",
          "shell.execute_reply": "2024-11-26T20:31:47.575763Z"
        },
        "id": "ZjiA5KCDNm-v"
      },
      "outputs": [],
      "execution_count": null
    },
    {
      "cell_type": "code",
      "source": [
        "%%timeit\n",
        "cdf1 = cudf.read_csv('data.csv')"
      ],
      "metadata": {
        "trusted": true,
        "execution": {
          "iopub.status.busy": "2024-11-26T20:31:47.577929Z",
          "iopub.execute_input": "2024-11-26T20:31:47.578304Z",
          "iopub.status.idle": "2024-11-26T20:31:50.443630Z",
          "shell.execute_reply.started": "2024-11-26T20:31:47.578266Z",
          "shell.execute_reply": "2024-11-26T20:31:50.442666Z"
        },
        "id": "37EQ2o4bNm-v",
        "outputId": "5be70a60-e908-4497-d0ad-a97c05318f83",
        "colab": {
          "base_uri": "https://localhost:8080/"
        }
      },
      "outputs": [
        {
          "output_type": "stream",
          "name": "stdout",
          "text": [
            "33.5 ms ± 651 µs per loop (mean ± std. dev. of 7 runs, 10 loops each)\n"
          ]
        }
      ],
      "execution_count": null
    },
    {
      "cell_type": "markdown",
      "source": [
        "# 4 Задание\n",
        "\n",
        "Создайте датафрейм cdf2 с помощью библиотеки cuDF из имеющегося датафрейма df и замерьте скорость  создания, с помощью «магической» команды  %%TIMEIT."
      ],
      "metadata": {
        "id": "sdvkIijkNm-w"
      }
    },
    {
      "cell_type": "code",
      "source": [
        "cdf2 = cudf.DataFrame(data)"
      ],
      "metadata": {
        "trusted": true,
        "execution": {
          "iopub.status.busy": "2024-11-26T20:31:50.444703Z",
          "iopub.execute_input": "2024-11-26T20:31:50.444995Z",
          "iopub.status.idle": "2024-11-26T20:31:50.722830Z",
          "shell.execute_reply.started": "2024-11-26T20:31:50.444968Z",
          "shell.execute_reply": "2024-11-26T20:31:50.722030Z"
        },
        "id": "htJir1BCNm-w"
      },
      "outputs": [],
      "execution_count": null
    },
    {
      "cell_type": "code",
      "source": [
        "%%timeit\n",
        "\n",
        "cdf2 = cudf.DataFrame(data)"
      ],
      "metadata": {
        "trusted": true,
        "execution": {
          "iopub.status.busy": "2024-11-26T20:31:50.724001Z",
          "iopub.execute_input": "2024-11-26T20:31:50.724799Z",
          "iopub.status.idle": "2024-11-26T20:32:06.197367Z",
          "shell.execute_reply.started": "2024-11-26T20:31:50.724757Z",
          "shell.execute_reply": "2024-11-26T20:32:06.196450Z"
        },
        "id": "6DEHYrkXNm-w",
        "outputId": "d81bb767-cafb-482e-c4ce-31cb930d9495",
        "colab": {
          "base_uri": "https://localhost:8080/"
        }
      },
      "outputs": [
        {
          "output_type": "stream",
          "name": "stdout",
          "text": [
            "194 ms ± 23.8 ms per loop (mean ± std. dev. of 7 runs, 10 loops each)\n"
          ]
        }
      ],
      "execution_count": null
    },
    {
      "cell_type": "markdown",
      "source": [
        "# 5 Задание\n",
        "\n",
        "Создайте 100 пропущенных значений в столбцах df и cdf2. Замените эти пропущенные значения средними, по двум соседним известным значения (предыдущим известным, и следующим известным). Замерьте скорость выполнения операций с помощью «магической» команды  %%TIMEIT."
      ],
      "metadata": {
        "id": "DjZyq2vFNm-x"
      }
    },
    {
      "cell_type": "code",
      "source": [
        "missing_indices = np.random.choice(data.index, size=100, replace=False)\n",
        "\n",
        "data.loc[missing_indices, 'income'] = np.nan\n",
        "\n",
        "def fill_missing(df):\n",
        "    df['income'] = df['income'].interpolate(method='linear', limit_direction='both')\n",
        "\n",
        "%timeit fill_missing(data)\n",
        "%timeit fill_missing(cdf2)"
      ],
      "metadata": {
        "trusted": true,
        "execution": {
          "iopub.status.busy": "2024-11-26T20:32:06.200990Z",
          "iopub.execute_input": "2024-11-26T20:32:06.201344Z",
          "iopub.status.idle": "2024-11-26T20:32:11.647155Z",
          "shell.execute_reply.started": "2024-11-26T20:32:06.201315Z",
          "shell.execute_reply": "2024-11-26T20:32:11.646248Z"
        },
        "id": "a6w1cd1rNm-x",
        "outputId": "25f0358d-43bc-4358-fd35-be8de0ec4561",
        "colab": {
          "base_uri": "https://localhost:8080/"
        }
      },
      "outputs": [
        {
          "output_type": "stream",
          "name": "stdout",
          "text": [
            "3.92 ms ± 275 µs per loop (mean ± std. dev. of 7 runs, 100 loops each)\n",
            "899 µs ± 131 µs per loop (mean ± std. dev. of 7 runs, 1 loop each)\n"
          ]
        }
      ],
      "execution_count": null
    },
    {
      "cell_type": "code",
      "source": [
        "fill_missing(data)\n",
        "fill_missing(cdf2)"
      ],
      "metadata": {
        "trusted": true,
        "execution": {
          "iopub.status.busy": "2024-11-26T20:32:11.648284Z",
          "iopub.execute_input": "2024-11-26T20:32:11.648573Z",
          "iopub.status.idle": "2024-11-26T20:32:11.661033Z",
          "shell.execute_reply.started": "2024-11-26T20:32:11.648536Z",
          "shell.execute_reply": "2024-11-26T20:32:11.660341Z"
        },
        "id": "Zu6mwx_RNm-x"
      },
      "outputs": [],
      "execution_count": null
    },
    {
      "cell_type": "markdown",
      "source": [
        "# 6 Задание\n",
        "\n",
        "В качестве агрегации надо рассчитать средний возраст, максимальный доход, самый частый пол, самый редкий тип профессии. Замерьте время выполнения этих операций с помощью «магической» команды  %%TIMEIT для датафрейма df, и cdf2."
      ],
      "metadata": {
        "id": "wFF8zko8Nm-x"
      }
    },
    {
      "cell_type": "code",
      "source": [
        "%%timeit\n",
        "\n",
        "avg_age = data['age'].mean()\n",
        "max_income = data['income'].max()\n",
        "most_common_sex = data['sex'].mode().iloc[0]\n",
        "rarest_profession = data['profession'].value_counts().idxmin()"
      ],
      "metadata": {
        "trusted": true,
        "execution": {
          "iopub.status.busy": "2024-11-26T20:32:11.661943Z",
          "iopub.execute_input": "2024-11-26T20:32:11.662220Z",
          "iopub.status.idle": "2024-11-26T20:32:23.101580Z",
          "shell.execute_reply.started": "2024-11-26T20:32:11.662186Z",
          "shell.execute_reply": "2024-11-26T20:32:23.100528Z"
        },
        "id": "WSloqHTMNm-x",
        "outputId": "6af7fd67-1aaf-48e5-c33e-0874e20d97d5",
        "colab": {
          "base_uri": "https://localhost:8080/"
        }
      },
      "outputs": [
        {
          "output_type": "stream",
          "name": "stdout",
          "text": [
            "151 ms ± 38.3 ms per loop (mean ± std. dev. of 7 runs, 10 loops each)\n"
          ]
        }
      ],
      "execution_count": null
    },
    {
      "cell_type": "code",
      "source": [
        "%%timeit\n",
        "\n",
        "avg_age = cdf2['age'].mean().item()\n",
        "max_income = cdf2['income'].max().item()\n",
        "most_common_gender = cdf2['sex'].mode().iloc[0]\n",
        "rarest_profession = cdf2['profession'].value_counts().index[-1]"
      ],
      "metadata": {
        "trusted": true,
        "execution": {
          "iopub.status.busy": "2024-11-26T20:32:23.102783Z",
          "iopub.execute_input": "2024-11-26T20:32:23.103086Z",
          "iopub.status.idle": "2024-11-26T20:32:38.061813Z",
          "shell.execute_reply.started": "2024-11-26T20:32:23.103057Z",
          "shell.execute_reply": "2024-11-26T20:32:38.060943Z"
        },
        "id": "P-AsxqPONm-y",
        "outputId": "3828fdc8-e0f0-43fc-bc64-6aded62936d9",
        "colab": {
          "base_uri": "https://localhost:8080/"
        }
      },
      "outputs": [
        {
          "output_type": "stream",
          "name": "stdout",
          "text": [
            "15.7 ms ± 1.49 ms per loop (mean ± std. dev. of 7 runs, 100 loops each)\n"
          ]
        }
      ],
      "execution_count": null
    },
    {
      "cell_type": "markdown",
      "source": [
        "# 7 Задание\n",
        "\n",
        "Создайте сводные таблицы"
      ],
      "metadata": {
        "id": "8ZBl_hB0Nm-y"
      }
    },
    {
      "cell_type": "markdown",
      "source": [
        "![image.png](data:image/png;base64,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)"
      ],
      "metadata": {
        "id": "3zByBeR4Nm-y"
      }
    },
    {
      "cell_type": "markdown",
      "source": [
        "# 8 Задание\n",
        "\n",
        "Кластеризуйте df и cdf2 на 3 кластера, с помощью метода KMeans из sklearn cuML. Эксперимент должен проводиться в виде модель-структура данных, т.е. для 4-х вариантов комбинации библиотеки(обычной и на основе cuML) и датафрейма (обычного или на основе cuDF). . Замерьте время выполнения этих операций с помощью «магической» команды  %%TIMEIT"
      ],
      "metadata": {
        "id": "lPhYpqOWNm-y"
      }
    },
    {
      "cell_type": "code",
      "source": [
        "from sklearn.cluster import KMeans as skKMeans\n",
        "from cuml.cluster import KMeans as cuKMeans"
      ],
      "metadata": {
        "trusted": true,
        "execution": {
          "iopub.status.busy": "2024-11-26T20:32:38.062734Z",
          "iopub.execute_input": "2024-11-26T20:32:38.063003Z",
          "iopub.status.idle": "2024-11-26T20:32:38.067102Z",
          "shell.execute_reply.started": "2024-11-26T20:32:38.062979Z",
          "shell.execute_reply": "2024-11-26T20:32:38.066213Z"
        },
        "id": "Wdecx6mjNm-y"
      },
      "outputs": [],
      "execution_count": null
    },
    {
      "cell_type": "code",
      "source": [
        "sex_mapping = {'Муж': 0, 'Жен': 1}\n",
        "profession_mapping = {'уборщик': 0, 'дворник': 1, 'кассир': 2, 'няня': 3}\n",
        "\n",
        "data['sex'] = data['sex'].map(sex_mapping)\n",
        "data['profession'] = data['profession'].map(profession_mapping)\n",
        "\n",
        "cdf2['sex'] = cdf2['sex'].map(sex_mapping)\n",
        "cdf2['profession'] = cdf2['profession'].map(profession_mapping)"
      ],
      "metadata": {
        "trusted": true,
        "execution": {
          "iopub.status.busy": "2024-11-26T20:32:38.068244Z",
          "iopub.execute_input": "2024-11-26T20:32:38.068854Z",
          "iopub.status.idle": "2024-11-26T20:32:38.324654Z",
          "shell.execute_reply.started": "2024-11-26T20:32:38.068800Z",
          "shell.execute_reply": "2024-11-26T20:32:38.323714Z"
        },
        "id": "dlcc6ejPNm-y"
      },
      "outputs": [],
      "execution_count": null
    },
    {
      "cell_type": "code",
      "source": [
        "# data + sklearn\n",
        "model_sk_data = skKMeans(n_clusters=3, random_state=1234)\n",
        "clusters = model_sk_data.fit_predict(data)\n",
        "data['cluster'] = clusters\n",
        "data_sk = data.copy()\n",
        "\n",
        "# cdf2 + sklearn\n",
        "model_sk_cdf2 = skKMeans(n_clusters=3, random_state=1234)\n",
        "clusters = model_sk_cdf2.fit_predict(cdf2.to_pandas())\n",
        "cdf2['cluster'] = cudf.Series(clusters)\n",
        "cdf2_sk = cdf2.copy()\n",
        "\n",
        "# data + cuml\n",
        "model_cu_data = cuKMeans(n_clusters=3, random_state=1234)\n",
        "clusters = model_cu_data.fit_predict(cudf.DataFrame.from_pandas(data))\n",
        "data['cluster'] = clusters.to_pandas()\n",
        "data_cu = data.copy()\n",
        "\n",
        "# cdf2 + cuml\n",
        "model_cu_cdf2 = cuKMeans(n_clusters=3, random_state=1234)\n",
        "clusters = model_cu_cdf2.fit_predict(cdf2)\n",
        "cdf2['cluster'] = clusters\n",
        "cdf2_cu = cdf2.copy()"
      ],
      "metadata": {
        "trusted": true,
        "execution": {
          "iopub.status.busy": "2024-11-26T20:32:38.325687Z",
          "iopub.execute_input": "2024-11-26T20:32:38.325951Z",
          "iopub.status.idle": "2024-11-26T20:32:48.160290Z",
          "shell.execute_reply.started": "2024-11-26T20:32:38.325925Z",
          "shell.execute_reply": "2024-11-26T20:32:48.159199Z"
        },
        "id": "0HwOp_SFNm-y"
      },
      "outputs": [],
      "execution_count": null
    },
    {
      "cell_type": "code",
      "source": [
        "%%timeit\n",
        "\n",
        "model_sk_data = skKMeans(n_clusters=3, random_state=1234)\n",
        "clusters = model_sk_data.fit_predict(data)\n",
        "data['cluster'] = clusters\n",
        "data_sk = data.copy()"
      ],
      "metadata": {
        "trusted": true,
        "execution": {
          "iopub.status.busy": "2024-11-26T20:32:48.161612Z",
          "iopub.execute_input": "2024-11-26T20:32:48.161905Z",
          "iopub.status.idle": "2024-11-26T20:33:24.438776Z",
          "shell.execute_reply.started": "2024-11-26T20:32:48.161876Z",
          "shell.execute_reply": "2024-11-26T20:33:24.437904Z"
        },
        "id": "sq2FMuMbNm-z",
        "outputId": "a7af7279-1460-4d15-bfd0-b8be74597225",
        "colab": {
          "base_uri": "https://localhost:8080/"
        }
      },
      "outputs": [
        {
          "output_type": "stream",
          "name": "stdout",
          "text": [
            "862 ms ± 174 ms per loop (mean ± std. dev. of 7 runs, 1 loop each)\n"
          ]
        }
      ],
      "execution_count": null
    },
    {
      "cell_type": "code",
      "source": [
        "%%timeit\n",
        "\n",
        "model_sk_cdf2 = skKMeans(n_clusters=3, random_state=1234)\n",
        "clusters = model_sk_cdf2.fit_predict(cdf2.to_pandas())\n",
        "cdf2['cluster'] = cudf.Series(clusters)\n",
        "cdf2_sk = cdf2.copy()"
      ],
      "metadata": {
        "trusted": true,
        "execution": {
          "iopub.status.busy": "2024-11-26T20:33:24.440708Z",
          "iopub.execute_input": "2024-11-26T20:33:24.440998Z",
          "iopub.status.idle": "2024-11-26T20:34:00.169565Z",
          "shell.execute_reply.started": "2024-11-26T20:33:24.440966Z",
          "shell.execute_reply": "2024-11-26T20:34:00.168374Z"
        },
        "id": "_AtFzPqnNm-0",
        "outputId": "c018a81d-0c63-4dc8-8a14-3f7c9b460a08",
        "colab": {
          "base_uri": "https://localhost:8080/"
        }
      },
      "outputs": [
        {
          "output_type": "stream",
          "name": "stdout",
          "text": [
            "715 ms ± 18.1 ms per loop (mean ± std. dev. of 7 runs, 1 loop each)\n"
          ]
        }
      ],
      "execution_count": null
    },
    {
      "cell_type": "code",
      "source": [
        "%%timeit\n",
        "\n",
        "model_cu_data = cuKMeans(n_clusters=3, random_state=1234)\n",
        "clusters = model_cu_data.fit_predict(data)\n",
        "data['cluster'] = clusters\n",
        "data_cu = data.copy()"
      ],
      "metadata": {
        "trusted": true,
        "execution": {
          "iopub.status.busy": "2024-11-26T20:34:00.170774Z",
          "iopub.execute_input": "2024-11-26T20:34:00.172009Z",
          "iopub.status.idle": "2024-11-26T20:34:05.204987Z",
          "shell.execute_reply.started": "2024-11-26T20:34:00.171975Z",
          "shell.execute_reply": "2024-11-26T20:34:05.204092Z"
        },
        "id": "SG7o14g0Nm-0",
        "outputId": "002f9026-6aef-4d90-988f-c5c3c6ce7e2d",
        "colab": {
          "base_uri": "https://localhost:8080/"
        }
      },
      "outputs": [
        {
          "output_type": "stream",
          "name": "stdout",
          "text": [
            "602 ms ± 4.53 ms per loop (mean ± std. dev. of 7 runs, 1 loop each)\n"
          ]
        }
      ],
      "execution_count": null
    },
    {
      "cell_type": "code",
      "source": [
        "%%timeit\n",
        "\n",
        "model_cu_cdf2 = cuKMeans(n_clusters=3, random_state=1234)\n",
        "clusters = model_cu_cdf2.fit_predict(cdf2)\n",
        "cdf2['cluster'] = clusters\n",
        "cdf2_cu = cdf2.copy()"
      ],
      "metadata": {
        "trusted": true,
        "execution": {
          "iopub.status.busy": "2024-11-26T20:34:05.206029Z",
          "iopub.execute_input": "2024-11-26T20:34:05.206297Z",
          "iopub.status.idle": "2024-11-26T20:34:09.946978Z",
          "shell.execute_reply.started": "2024-11-26T20:34:05.206271Z",
          "shell.execute_reply": "2024-11-26T20:34:09.946041Z"
        },
        "id": "r1Ir51dVNm-1",
        "outputId": "29c63112-23b3-4898-8320-c255702575eb",
        "colab": {
          "base_uri": "https://localhost:8080/"
        }
      },
      "outputs": [
        {
          "output_type": "stream",
          "name": "stdout",
          "text": [
            "585 ms ± 1.6 ms per loop (mean ± std. dev. of 7 runs, 1 loop each)\n"
          ]
        }
      ],
      "execution_count": null
    },
    {
      "cell_type": "markdown",
      "source": [
        "# 9 Задание\n",
        "\n",
        "Преобразуйте признаки, кроме дохода, включая номер кластера из п.8 в нормализованные от 0 до 1. Используйте минимаксное шкалирование и даммикодирование (one hot encoding). Эксперимент должен проводиться в виде модельструктура данных, т.е. для 4-х вариантов комбинации библиотеки(обычной и на основе cuML) и датафрейма (обычного или на основе cuDF). . Замерьте время выполнения этих операций с помощью «магической» команды  %%TIMEIT."
      ],
      "metadata": {
        "id": "PuPAFzkHNm-1"
      }
    },
    {
      "cell_type": "code",
      "source": [
        "from sklearn.preprocessing import OneHotEncoder as skOHE\n",
        "from cuml.preprocessing import OneHotEncoder as cuOHE\n",
        "from sklearn.preprocessing import MinMaxScaler as skMMS\n",
        "from cuml.preprocessing import MinMaxScaler as cuMMS"
      ],
      "metadata": {
        "trusted": true,
        "execution": {
          "iopub.status.busy": "2024-11-26T20:34:09.948301Z",
          "iopub.execute_input": "2024-11-26T20:34:09.948659Z",
          "iopub.status.idle": "2024-11-26T20:34:09.953762Z",
          "shell.execute_reply.started": "2024-11-26T20:34:09.948621Z",
          "shell.execute_reply": "2024-11-26T20:34:09.952789Z"
        },
        "id": "Rkl4nBRuNm-2"
      },
      "outputs": [],
      "execution_count": null
    },
    {
      "cell_type": "code",
      "source": [
        "%%timeit\n",
        "# data + sklearn\n",
        "data_sk = data.copy()\n",
        "\n",
        "scaler = skMMS()\n",
        "one_hot_encoder = skOHE()\n",
        "\n",
        "one_hot_columns = one_hot_encoder.fit_transform(data_sk[['sex','profession','cluster']]).toarray()\n",
        "one_hot = pd.DataFrame(one_hot_columns,columns=one_hot_encoder.get_feature_names_out(['sex','profession','cluster']), index=data_sk.index)\n",
        "data_sk = pd.concat([data_sk, one_hot], axis=1)\n",
        "\n",
        "minmax = pd.DataFrame(scaler.fit_transform(data_sk[['age']]) ,columns=['age_m'], index=data_sk.index)\n",
        "data_sk['age'] = minmax['age_m']\n",
        "\n",
        "data_sk.drop(columns=['sex','profession','cluster'], inplace = True)"
      ],
      "metadata": {
        "trusted": true,
        "execution": {
          "iopub.status.busy": "2024-11-26T20:34:09.954871Z",
          "iopub.execute_input": "2024-11-26T20:34:09.955195Z",
          "iopub.status.idle": "2024-11-26T20:34:13.240609Z",
          "shell.execute_reply.started": "2024-11-26T20:34:09.955147Z",
          "shell.execute_reply": "2024-11-26T20:34:13.239560Z"
        },
        "id": "JLMN2rGANm-2",
        "outputId": "01d983ce-db14-4b80-f41c-1a66a0018a57",
        "colab": {
          "base_uri": "https://localhost:8080/"
        }
      },
      "outputs": [
        {
          "output_type": "stream",
          "name": "stdout",
          "text": [
            "359 ms ± 20.8 ms per loop (mean ± std. dev. of 7 runs, 1 loop each)\n"
          ]
        }
      ],
      "execution_count": null
    },
    {
      "cell_type": "code",
      "source": [
        "%%timeit\n",
        "# cdf2 + sklearn\n",
        "cdf2_sk = cdf2.copy()\n",
        "\n",
        "scaler = skMMS()\n",
        "one_hot_encoder = skOHE()\n",
        "\n",
        "one_hot_columns = one_hot_encoder.fit_transform(cdf2_sk[['sex', 'profession', 'cluster']].to_pandas()).toarray()\n",
        "one_hot = pd.DataFrame(one_hot_columns, columns=one_hot_encoder.get_feature_names_out(['sex', 'profession', 'cluster']),index=cdf2_sk.index.to_pandas())\n",
        "cdf2_sk = cudf.concat([cdf2_sk, cudf.from_pandas(one_hot)], axis=1)\n",
        "minmax = pd.DataFrame(scaler.fit_transform(cdf2_sk[['age']].to_pandas()),columns=['age_m'],index=cdf2_sk.index.to_pandas())\n",
        "cdf2_sk['age'] = cudf.Series(minmax['age_m'])\n",
        "\n",
        "cdf2_sk.drop(columns=['sex', 'profession', 'cluster'], inplace=True)"
      ],
      "metadata": {
        "trusted": true,
        "execution": {
          "iopub.status.busy": "2024-11-26T20:34:13.241713Z",
          "iopub.execute_input": "2024-11-26T20:34:13.241998Z",
          "iopub.status.idle": "2024-11-26T20:34:16.367961Z",
          "shell.execute_reply.started": "2024-11-26T20:34:13.241970Z",
          "shell.execute_reply": "2024-11-26T20:34:16.367050Z"
        },
        "id": "URjxpreANm-2",
        "outputId": "9cb2ac83-b3a9-4492-b5eb-8118fc7ad431",
        "colab": {
          "base_uri": "https://localhost:8080/"
        }
      },
      "outputs": [
        {
          "output_type": "stream",
          "name": "stdout",
          "text": [
            "320 ms ± 5.75 ms per loop (mean ± std. dev. of 7 runs, 1 loop each)\n"
          ]
        }
      ],
      "execution_count": null
    },
    {
      "cell_type": "code",
      "source": [
        "%%timeit\n",
        "# data + cuml\n",
        "data_cu = data.copy()\n",
        "scaler = cuMMS()\n",
        "one_hot_encoder = cuOHE()\n",
        "\n",
        "one_hot_columns = one_hot_encoder.fit_transform(data_cu[['sex', 'profession', 'cluster']]).toarray()\n",
        "one_hot_col_names = ['sex_1', 'sex_0','profession_3','profession_0','profession_1','profession_2','cluster_1','cluster_0','cluster_2']\n",
        "one_hot = pd.DataFrame(data=one_hot_columns.get(), columns=one_hot_col_names)\n",
        "data_cu = pd.concat([data_cu, one_hot], axis=1)\n",
        "age_scaled = scaler.fit_transform(data_cu[['age']])\n",
        "data_cu['age'] = pd.Series(age_scaled, index=data_cu.index)\n",
        "\n",
        "data_cu.drop(columns=['sex', 'profession', 'cluster'], inplace=True)"
      ],
      "metadata": {
        "trusted": true,
        "execution": {
          "iopub.status.busy": "2024-11-26T20:34:16.369227Z",
          "iopub.execute_input": "2024-11-26T20:34:16.370045Z",
          "iopub.status.idle": "2024-11-26T20:34:19.071032Z",
          "shell.execute_reply.started": "2024-11-26T20:34:16.369998Z",
          "shell.execute_reply": "2024-11-26T20:34:19.070005Z"
        },
        "id": "rddp-ndpNm-3",
        "outputId": "cd3112a4-375c-411a-8d6c-0eea7a0538d4",
        "colab": {
          "base_uri": "https://localhost:8080/"
        }
      },
      "outputs": [
        {
          "output_type": "stream",
          "name": "stdout",
          "text": [
            "380 ms ± 78.7 ms per loop (mean ± std. dev. of 7 runs, 1 loop each)\n"
          ]
        }
      ],
      "execution_count": null
    },
    {
      "cell_type": "code",
      "source": [
        "%%timeit\n",
        "# cdf2 + cuml\n",
        "\n",
        "cdf2_cu = cdf2.copy()\n",
        "scaler = cuMMS()\n",
        "one_hot_encoder = cuOHE()\n",
        "\n",
        "one_hot_columns = one_hot_encoder.fit_transform(cdf2_cu[['sex', 'profession', 'cluster']]).toarray()\n",
        "one_hot_col_names = ['sex_1', 'sex_0','profession_3','profession_0','profession_1','profession_2','cluster_1','cluster_0','cluster_2']\n",
        "one_hot = cudf.DataFrame(one_hot_columns,columns=one_hot_col_names)\n",
        "cdf2_cu = cudf.concat([cdf2_cu, one_hot], axis=1)\n",
        "cdf2_cu['age'] = cudf.Series(scaler.fit_transform(cdf2_cu[['age']]))\n",
        "\n",
        "cdf2_cu.drop(columns=['sex', 'profession', 'cluster'], inplace=True)"
      ],
      "metadata": {
        "trusted": true,
        "execution": {
          "iopub.status.busy": "2024-11-26T20:34:19.072224Z",
          "iopub.execute_input": "2024-11-26T20:34:19.072539Z",
          "iopub.status.idle": "2024-11-26T20:34:20.706561Z",
          "shell.execute_reply.started": "2024-11-26T20:34:19.072510Z",
          "shell.execute_reply": "2024-11-26T20:34:20.705655Z"
        },
        "id": "Nj4aZuy3Nm-3",
        "outputId": "ac06d94d-b5d6-4f67-a34a-96dcea9394d8",
        "colab": {
          "base_uri": "https://localhost:8080/"
        }
      },
      "outputs": [
        {
          "output_type": "stream",
          "name": "stdout",
          "text": [
            "229 ms ± 7.79 ms per loop (mean ± std. dev. of 7 runs, 1 loop each)\n"
          ]
        }
      ],
      "execution_count": null
    },
    {
      "cell_type": "code",
      "source": [
        "# data + sklearn\n",
        "data_sk = data.copy()\n",
        "\n",
        "scaler = skMMS()\n",
        "one_hot_encoder = skOHE()\n",
        "\n",
        "one_hot_columns = one_hot_encoder.fit_transform(data_sk[['sex','profession','cluster']]).toarray()\n",
        "one_hot = pd.DataFrame(one_hot_columns,columns=one_hot_encoder.get_feature_names_out(['sex','profession','cluster']), index=data_sk.index)\n",
        "data_sk = pd.concat([data_sk, one_hot], axis=1)\n",
        "\n",
        "minmax = pd.DataFrame(scaler.fit_transform(data_sk[['age']]) ,columns=['age_m'], index=data_sk.index)\n",
        "data_sk['age'] = minmax['age_m']\n",
        "\n",
        "data_sk.drop(columns=['sex','profession','cluster'], inplace = True)\n",
        "\n",
        "# cdf2 + sklearn\n",
        "cdf2_sk = cdf2.copy()\n",
        "\n",
        "scaler = skMMS()\n",
        "one_hot_encoder = skOHE()\n",
        "\n",
        "one_hot_columns = one_hot_encoder.fit_transform(cdf2_sk[['sex', 'profession', 'cluster']].to_pandas()).toarray()\n",
        "one_hot = pd.DataFrame(one_hot_columns, columns=one_hot_encoder.get_feature_names_out(['sex', 'profession', 'cluster']),index=cdf2_sk.index.to_pandas())\n",
        "cdf2_sk = cudf.concat([cdf2_sk, cudf.from_pandas(one_hot)], axis=1)\n",
        "minmax = pd.DataFrame(scaler.fit_transform(cdf2_sk[['age']].to_pandas()),columns=['age_m'],index=cdf2_sk.index.to_pandas())\n",
        "cdf2_sk['age'] = cudf.Series(minmax['age_m'])\n",
        "\n",
        "cdf2_sk.drop(columns=['sex', 'profession', 'cluster'], inplace=True)\n",
        "\n",
        "# data + cuml\n",
        "data_cu = data.copy()\n",
        "scaler = cuMMS()\n",
        "one_hot_encoder = cuOHE()\n",
        "\n",
        "one_hot_columns = one_hot_encoder.fit_transform(data_cu[['sex', 'profession', 'cluster']]).toarray()\n",
        "one_hot_col_names = ['sex_1', 'sex_0','profession_3','profession_0','profession_1','profession_2','cluster_1','cluster_0','cluster_2']\n",
        "one_hot = pd.DataFrame(data=one_hot_columns.get(), columns=one_hot_col_names)\n",
        "data_cu = pd.concat([data_cu, one_hot], axis=1)\n",
        "age_scaled = scaler.fit_transform(data_cu[['age']])\n",
        "data_cu['age'] = pd.Series(age_scaled, index=data_cu.index)\n",
        "\n",
        "data_cu.drop(columns=['sex', 'profession', 'cluster'], inplace=True)\n",
        "\n",
        "# cdf2 + cuml\n",
        "\n",
        "cdf2_cu = cdf2.copy()\n",
        "scaler = cuMMS()\n",
        "one_hot_encoder = cuOHE()\n",
        "\n",
        "one_hot_columns = one_hot_encoder.fit_transform(cdf2_cu[['sex', 'profession', 'cluster']]).toarray()\n",
        "one_hot_col_names = ['sex_1', 'sex_0','profession_3','profession_0','profession_1','profession_2','cluster_1','cluster_0','cluster_2']\n",
        "one_hot = cudf.DataFrame(one_hot_columns,columns=one_hot_col_names)\n",
        "cdf2_cu = cudf.concat([cdf2_cu, one_hot], axis=1)\n",
        "cdf2_cu['age'] = cudf.Series(scaler.fit_transform(cdf2_cu[['age']]))\n",
        "\n",
        "cdf2_cu.drop(columns=['sex', 'profession', 'cluster'], inplace=True)"
      ],
      "metadata": {
        "trusted": true,
        "execution": {
          "iopub.status.busy": "2024-11-26T20:34:20.707851Z",
          "iopub.execute_input": "2024-11-26T20:34:20.708479Z",
          "iopub.status.idle": "2024-11-26T20:34:22.016451Z",
          "shell.execute_reply.started": "2024-11-26T20:34:20.708431Z",
          "shell.execute_reply": "2024-11-26T20:34:22.015737Z"
        },
        "id": "Cy0MxmtnNm-3"
      },
      "outputs": [],
      "execution_count": null
    },
    {
      "cell_type": "markdown",
      "source": [
        "# 10 Задание\n",
        "\n",
        "На основании признаков из п.9 постройте линейную регрессионную модель, предсказывающую доход, используя библиотеки sklearn и cuML. Эксперимент должен проводиться в виде модель-структура данных, т.е. для 4-х вариантов комбинации библиотеки(обычной и на основе cuML) и датафрейма (обычного или на основе cuDF). . Замерьте время выполнения этих операций с помощью «магической» команды  %%TIMEIT"
      ],
      "metadata": {
        "id": "fa_ViX8cNm-4"
      }
    },
    {
      "cell_type": "code",
      "source": [
        "from sklearn.linear_model import LinearRegression as sklr\n",
        "from cuml.linear_model import LinearRegression as culr\n",
        "from sklearn.model_selection import train_test_split as sktt\n",
        "from cuml.model_selection import train_test_split as cutt"
      ],
      "metadata": {
        "trusted": true,
        "execution": {
          "iopub.status.busy": "2024-11-26T20:34:22.017549Z",
          "iopub.execute_input": "2024-11-26T20:34:22.017891Z",
          "iopub.status.idle": "2024-11-26T20:34:22.022889Z",
          "shell.execute_reply.started": "2024-11-26T20:34:22.017848Z",
          "shell.execute_reply": "2024-11-26T20:34:22.021984Z"
        },
        "id": "OvDl5lBINm-9"
      },
      "outputs": [],
      "execution_count": null
    },
    {
      "cell_type": "code",
      "source": [
        "%%timeit\n",
        "# data + sklearn\n",
        "X = data_sk.drop(columns=['income']).values\n",
        "y = data_sk['income'].values\n",
        "\n",
        "X_train, X_test, y_train, y_test = sktt(X, y, test_size=0.2, shuffle=True)\n",
        "\n",
        "model = sklr()\n",
        "model.fit(X_train, y_train)"
      ],
      "metadata": {
        "trusted": true,
        "execution": {
          "iopub.status.busy": "2024-11-26T20:34:22.026368Z",
          "iopub.execute_input": "2024-11-26T20:34:22.026654Z",
          "iopub.status.idle": "2024-11-26T20:34:27.060380Z",
          "shell.execute_reply.started": "2024-11-26T20:34:22.026619Z",
          "shell.execute_reply": "2024-11-26T20:34:27.059101Z"
        },
        "id": "5oyf3em2Nm-9",
        "outputId": "f5e72b70-2c30-4f10-c5cc-84d38163a5d9",
        "colab": {
          "base_uri": "https://localhost:8080/"
        }
      },
      "outputs": [
        {
          "output_type": "stream",
          "name": "stdout",
          "text": [
            "764 ms ± 169 ms per loop (mean ± std. dev. of 7 runs, 1 loop each)\n"
          ]
        }
      ],
      "execution_count": null
    },
    {
      "cell_type": "code",
      "source": [
        "%%timeit\n",
        "# cdf2 + sklearn\n",
        "X = cdf2_sk.drop(columns=['income']).values\n",
        "y = cdf2_sk['income'].values\n",
        "\n",
        "X_train, X_test, y_train, y_test = sktt(X, y, test_size=0.2, shuffle=True)\n",
        "\n",
        "model = sklr()\n",
        "model.fit(X_train.get(), y_train.get())"
      ],
      "metadata": {
        "trusted": true,
        "execution": {
          "iopub.status.busy": "2024-11-26T20:34:27.061830Z",
          "iopub.execute_input": "2024-11-26T20:34:27.062262Z",
          "iopub.status.idle": "2024-11-26T20:34:30.980607Z",
          "shell.execute_reply.started": "2024-11-26T20:34:27.062216Z",
          "shell.execute_reply": "2024-11-26T20:34:30.979549Z"
        },
        "id": "gHzx8q9NNm--",
        "outputId": "63ab4b11-b632-493c-d0c9-d9df3bad949c",
        "colab": {
          "base_uri": "https://localhost:8080/"
        }
      },
      "outputs": [
        {
          "output_type": "stream",
          "name": "stdout",
          "text": [
            "358 ms ± 21.9 ms per loop (mean ± std. dev. of 7 runs, 1 loop each)\n"
          ]
        }
      ],
      "execution_count": null
    },
    {
      "cell_type": "code",
      "source": [
        "%%timeit\n",
        "# data + cuml\n",
        "X = data_cu.drop(columns=['income']).values\n",
        "y = data_cu['income'].values\n",
        "\n",
        "X_train, X_test, y_train, y_test = sktt(X, y, test_size=0.2, shuffle=True)\n",
        "\n",
        "model = culr()\n",
        "model.fit(X_train, y_train)"
      ],
      "metadata": {
        "trusted": true,
        "execution": {
          "iopub.status.busy": "2024-11-26T20:34:30.982324Z",
          "iopub.execute_input": "2024-11-26T20:34:30.982754Z",
          "iopub.status.idle": "2024-11-26T20:34:40.511855Z",
          "shell.execute_reply.started": "2024-11-26T20:34:30.982675Z",
          "shell.execute_reply": "2024-11-26T20:34:40.511079Z"
        },
        "id": "8AtWilgONm--",
        "outputId": "1d86c697-1f74-4943-bdc6-28802491e553",
        "colab": {
          "base_uri": "https://localhost:8080/"
        }
      },
      "outputs": [
        {
          "output_type": "stream",
          "name": "stderr",
          "text": [
            "/usr/local/lib/python3.10/dist-packages/cuml/internals/api_decorators.py:382: UserWarning: Starting from version 23.08, the new 'copy_X' parameter defaults to 'True', ensuring a copy of X is created after passing it to fit(), preventing any changes to the input, but with increased memory usage. This represents a change in behavior from previous versions. With `copy_X=False` a copy might still be created if necessary. Explicitly set 'copy_X' to either True or False to suppress this warning.\n",
            "  return init_func(self, *args, **filtered_kwargs)\n",
            "/usr/local/lib/python3.10/dist-packages/cuml/internals/api_decorators.py:382: UserWarning: Starting from version 23.08, the new 'copy_X' parameter defaults to 'True', ensuring a copy of X is created after passing it to fit(), preventing any changes to the input, but with increased memory usage. This represents a change in behavior from previous versions. With `copy_X=False` a copy might still be created if necessary. Explicitly set 'copy_X' to either True or False to suppress this warning.\n",
            "  return init_func(self, *args, **filtered_kwargs)\n",
            "/usr/local/lib/python3.10/dist-packages/cuml/internals/api_decorators.py:382: UserWarning: Starting from version 23.08, the new 'copy_X' parameter defaults to 'True', ensuring a copy of X is created after passing it to fit(), preventing any changes to the input, but with increased memory usage. This represents a change in behavior from previous versions. With `copy_X=False` a copy might still be created if necessary. Explicitly set 'copy_X' to either True or False to suppress this warning.\n",
            "  return init_func(self, *args, **filtered_kwargs)\n",
            "/usr/local/lib/python3.10/dist-packages/cuml/internals/api_decorators.py:382: UserWarning: Starting from version 23.08, the new 'copy_X' parameter defaults to 'True', ensuring a copy of X is created after passing it to fit(), preventing any changes to the input, but with increased memory usage. This represents a change in behavior from previous versions. With `copy_X=False` a copy might still be created if necessary. Explicitly set 'copy_X' to either True or False to suppress this warning.\n",
            "  return init_func(self, *args, **filtered_kwargs)\n",
            "/usr/local/lib/python3.10/dist-packages/cuml/internals/api_decorators.py:382: UserWarning: Starting from version 23.08, the new 'copy_X' parameter defaults to 'True', ensuring a copy of X is created after passing it to fit(), preventing any changes to the input, but with increased memory usage. This represents a change in behavior from previous versions. With `copy_X=False` a copy might still be created if necessary. Explicitly set 'copy_X' to either True or False to suppress this warning.\n",
            "  return init_func(self, *args, **filtered_kwargs)\n",
            "/usr/local/lib/python3.10/dist-packages/cuml/internals/api_decorators.py:382: UserWarning: Starting from version 23.08, the new 'copy_X' parameter defaults to 'True', ensuring a copy of X is created after passing it to fit(), preventing any changes to the input, but with increased memory usage. This represents a change in behavior from previous versions. With `copy_X=False` a copy might still be created if necessary. Explicitly set 'copy_X' to either True or False to suppress this warning.\n",
            "  return init_func(self, *args, **filtered_kwargs)\n",
            "/usr/local/lib/python3.10/dist-packages/cuml/internals/api_decorators.py:382: UserWarning: Starting from version 23.08, the new 'copy_X' parameter defaults to 'True', ensuring a copy of X is created after passing it to fit(), preventing any changes to the input, but with increased memory usage. This represents a change in behavior from previous versions. With `copy_X=False` a copy might still be created if necessary. Explicitly set 'copy_X' to either True or False to suppress this warning.\n",
            "  return init_func(self, *args, **filtered_kwargs)\n",
            "/usr/local/lib/python3.10/dist-packages/cuml/internals/api_decorators.py:382: UserWarning: Starting from version 23.08, the new 'copy_X' parameter defaults to 'True', ensuring a copy of X is created after passing it to fit(), preventing any changes to the input, but with increased memory usage. This represents a change in behavior from previous versions. With `copy_X=False` a copy might still be created if necessary. Explicitly set 'copy_X' to either True or False to suppress this warning.\n",
            "  return init_func(self, *args, **filtered_kwargs)\n"
          ]
        },
        {
          "output_type": "stream",
          "name": "stdout",
          "text": [
            "1.63 s ± 376 ms per loop (mean ± std. dev. of 7 runs, 1 loop each)\n"
          ]
        }
      ],
      "execution_count": null
    },
    {
      "cell_type": "code",
      "source": [
        "%%timeit\n",
        "# cdf2 + cuml\n",
        "X = cdf2_cu.drop(columns=['income']).values\n",
        "y = cdf2_cu['income'].values\n",
        "\n",
        "X_train, X_test, y_train, y_test = cutt(X, y, test_size=0.2, shuffle=True)\n",
        "\n",
        "model = culr()\n",
        "model.fit(X_train, y_train)"
      ],
      "metadata": {
        "trusted": true,
        "execution": {
          "iopub.status.busy": "2024-11-26T20:34:40.513014Z",
          "iopub.execute_input": "2024-11-26T20:34:40.513603Z",
          "iopub.status.idle": "2024-11-26T20:34:49.048937Z",
          "shell.execute_reply.started": "2024-11-26T20:34:40.513541Z",
          "shell.execute_reply": "2024-11-26T20:34:49.048050Z"
        },
        "id": "Bdnr_2qQNm--",
        "outputId": "87c746ed-f643-4a23-d749-8036e2cce1ab",
        "colab": {
          "base_uri": "https://localhost:8080/"
        }
      },
      "outputs": [
        {
          "output_type": "stream",
          "name": "stderr",
          "text": [
            "/usr/local/lib/python3.10/dist-packages/cuml/internals/api_decorators.py:382: UserWarning: Starting from version 23.08, the new 'copy_X' parameter defaults to 'True', ensuring a copy of X is created after passing it to fit(), preventing any changes to the input, but with increased memory usage. This represents a change in behavior from previous versions. With `copy_X=False` a copy might still be created if necessary. Explicitly set 'copy_X' to either True or False to suppress this warning.\n",
            "  return init_func(self, *args, **filtered_kwargs)\n"
          ]
        },
        {
          "output_type": "stream",
          "name": "stdout",
          "text": [
            "1.07 s ± 2.64 ms per loop (mean ± std. dev. of 7 runs, 1 loop each)\n"
          ]
        }
      ],
      "execution_count": null
    }
  ]
}