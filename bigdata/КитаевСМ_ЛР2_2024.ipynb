{
  "cells": [
    {
      "cell_type": "markdown",
      "metadata": {
        "id": "AazRDM0XJQcg"
      },
      "source": [
        "# 1 Задание\n",
        "C помощью PANDAS создайте датафрейм из 10 млн. строк, содержащий 5 столбцов –\n",
        "пол,\n",
        "возраст,\n",
        "доход,\n",
        "образование,\n",
        "профессия.\n",
        "В\n",
        "категориальных\n",
        "образование и профессия сделайте 3-4 категории, в переменной пол – 2, возраст и доход\n",
        "сделайте количественными, с типом INT. Для генерации этих столбцов используйте\n",
        "методы NP.RANDOM.NORMAL, NP.RANDOM.CHOICE."
      ]
    },
    {
      "cell_type": "code",
      "source": [
        "import pandas as pd\n",
        "import numpy as np\n",
        "import os"
      ],
      "metadata": {
        "id": "COcQs73aXuk1"
      },
      "execution_count": null,
      "outputs": []
    },
    {
      "cell_type": "code",
      "execution_count": null,
      "metadata": {
        "id": "eQr6qc0xI_n6"
      },
      "outputs": [],
      "source": [
        "n = 10_000_000\n",
        "\n",
        "decode_sex = pd.Series(data=np.array([0, 1], dtype=np.int8), index=['муж', 'жен'], name='sex_code')\n",
        "decode_prof = pd.Series(data=np.array([0, 1, 2], dtype=np.int8), index=['уборщик', 'кассир', 'дворник'], name='prof_code')\n",
        "decode_edu = pd.Series(data=np.array([0, 1, 2], dtype=np.int8), index=['школа','ПТУ','колледж'], name='edu_code')\n",
        "\n",
        "df = pd.DataFrame({\n",
        "    'sex': np.random.choice(decode_sex.to_numpy(), size = n),\n",
        "    'age': np.random.normal(loc=35, scale=10, size = n).astype(int),\n",
        "    'income': np.random.normal(loc=20000, scale=1500, size = n).astype(int),\n",
        "    'education': np.random.choice(decode_edu.to_numpy(), size = n),\n",
        "    'work': np.random.choice(decode_prof.to_numpy(), size = n)\n",
        "})"
      ]
    },
    {
      "cell_type": "markdown",
      "metadata": {
        "id": "rd2snokDJWB4"
      },
      "source": [
        "# 2 Задание\n",
        "Сохраните датафрейм в формате CSV, загрузите его в новый датафрейм и замерьте\n",
        "скорость записи и чтения, с помощью библиотеки TIME."
      ]
    },
    {
      "cell_type": "code",
      "execution_count": null,
      "metadata": {
        "colab": {
          "base_uri": "https://localhost:8080/"
        },
        "id": "tLVI_89Ph-X0",
        "outputId": "5de45e94-2d0d-4b12-a8fc-a3b84f1d292d"
      },
      "outputs": [
        {
          "output_type": "stream",
          "name": "stdout",
          "text": [
            "15.3 s ± 382 ms per loop (mean ± std. dev. of 7 runs, 1 loop each)\n"
          ]
        }
      ],
      "source": [
        "%%timeit\n",
        "df.to_csv('data.csv', index=False)"
      ]
    },
    {
      "cell_type": "code",
      "execution_count": null,
      "metadata": {
        "colab": {
          "base_uri": "https://localhost:8080/"
        },
        "id": "kcUSTgb9iJXk",
        "outputId": "228719e4-ce8f-4f56-c517-adb5f60d87db"
      },
      "outputs": [
        {
          "output_type": "stream",
          "name": "stdout",
          "text": [
            "3.21 s ± 523 ms per loop (mean ± std. dev. of 7 runs, 1 loop each)\n"
          ]
        }
      ],
      "source": [
        "%%timeit\n",
        "new_df = pd.read_csv('data.csv')"
      ]
    },
    {
      "cell_type": "code",
      "source": [
        "df.to_csv('data.csv')\n",
        "new_df = pd.read_csv('data.csv')\n",
        "new_df.info()\n",
        "\n",
        "print()\n",
        "file_size = os.path.getsize('data.csv')\n",
        "print(f'Размер файла: {round(file_size/(1024**2),1)} МБ')"
      ],
      "metadata": {
        "colab": {
          "base_uri": "https://localhost:8080/"
        },
        "id": "tTA3M9Lv9x0j",
        "outputId": "4b1840d4-50de-42d7-8b72-a8698ecbab53"
      },
      "execution_count": null,
      "outputs": [
        {
          "output_type": "stream",
          "name": "stdout",
          "text": [
            "<class 'pandas.core.frame.DataFrame'>\n",
            "RangeIndex: 10000000 entries, 0 to 9999999\n",
            "Data columns (total 6 columns):\n",
            " #   Column      Dtype\n",
            "---  ------      -----\n",
            " 0   Unnamed: 0  int64\n",
            " 1   sex         int64\n",
            " 2   age         int64\n",
            " 3   income      int64\n",
            " 4   education   int64\n",
            " 5   work        int64\n",
            "dtypes: int64(6)\n",
            "memory usage: 457.8 MB\n",
            "\n",
            "Размер файла: 218.2 МБ\n"
          ]
        }
      ]
    },
    {
      "cell_type": "markdown",
      "metadata": {
        "id": "AFealfLfJc8Y"
      },
      "source": [
        "# 3 Задание\n",
        "Сохраните датафрейм в формате JSON, загрузите его в новый датафрейм и замерьте\n",
        "скорость записи и чтения, с помощью библиотеки TIME."
      ]
    },
    {
      "cell_type": "code",
      "execution_count": null,
      "metadata": {
        "colab": {
          "base_uri": "https://localhost:8080/"
        },
        "id": "WQZtYWa_jQ_S",
        "outputId": "2ddec0b8-88ac-4290-e4e2-c7bcdb438430"
      },
      "outputs": [
        {
          "output_type": "stream",
          "name": "stdout",
          "text": [
            "15.7 s ± 2.44 s per loop (mean ± std. dev. of 7 runs, 1 loop each)\n"
          ]
        }
      ],
      "source": [
        "%%timeit\n",
        "df.to_json('data.json', index=False)"
      ]
    },
    {
      "cell_type": "code",
      "execution_count": null,
      "metadata": {
        "id": "UvKhc771jQ40",
        "colab": {
          "base_uri": "https://localhost:8080/"
        },
        "outputId": "555cfde3-ca1a-490b-a79c-7913ad0753f0"
      },
      "outputs": [
        {
          "output_type": "stream",
          "name": "stdout",
          "text": [
            "1min 56s ± 6.32 s per loop (mean ± std. dev. of 7 runs, 1 loop each)\n"
          ]
        }
      ],
      "source": [
        "%%timeit\n",
        "new_df = pd.read_json('data.json')"
      ]
    },
    {
      "cell_type": "code",
      "source": [
        "df.to_json('data.json')\n",
        "new_df = pd.read_json('data.json')\n",
        "new_df.info()\n",
        "\n",
        "print()\n",
        "file_size = os.path.getsize('data.json')\n",
        "print(f'Размер файла: {round(file_size/(1024**2),1)} МБ')"
      ],
      "metadata": {
        "colab": {
          "base_uri": "https://localhost:8080/"
        },
        "id": "WUyZ7Zq39z73",
        "outputId": "73bf5320-d2b2-4765-f84c-8e1c97c1f9d8"
      },
      "execution_count": null,
      "outputs": [
        {
          "output_type": "stream",
          "name": "stdout",
          "text": [
            "<class 'pandas.core.frame.DataFrame'>\n",
            "Index: 10000000 entries, 0 to 9999999\n",
            "Data columns (total 5 columns):\n",
            " #   Column     Dtype\n",
            "---  ------     -----\n",
            " 0   sex        int64\n",
            " 1   age        int64\n",
            " 2   income     int64\n",
            " 3   education  int64\n",
            " 4   work       int64\n",
            "dtypes: int64(5)\n",
            "memory usage: 457.8 MB\n",
            "\n",
            "Размер файла: 614.5 МБ\n"
          ]
        }
      ]
    },
    {
      "cell_type": "markdown",
      "metadata": {
        "id": "KMP3Ub-dJlJV"
      },
      "source": [
        "# 4 Задание\n",
        "Сохраните датафрейм в формате PARQUET, загрузите его в новый датафрейм и\n",
        "замерьте скорость записи и чтения, с помощью библиотеки TIME."
      ]
    },
    {
      "cell_type": "code",
      "source": [
        "%%timeit\n",
        "df.to_parquet('data.parquet')"
      ],
      "metadata": {
        "colab": {
          "base_uri": "https://localhost:8080/"
        },
        "id": "c9fBDLQJ9IPh",
        "outputId": "dec86160-7b19-4482-e8b7-deec027be428"
      },
      "execution_count": null,
      "outputs": [
        {
          "output_type": "stream",
          "name": "stdout",
          "text": [
            "2.16 s ± 22.5 ms per loop (mean ± std. dev. of 7 runs, 1 loop each)\n"
          ]
        }
      ]
    },
    {
      "cell_type": "code",
      "source": [
        "%%timeit\n",
        "new_df = pd.read_parquet('data.parquet')"
      ],
      "metadata": {
        "colab": {
          "base_uri": "https://localhost:8080/"
        },
        "id": "yvnYGVQ_9KKr",
        "outputId": "94021def-fa8f-4791-9c35-15129c3e69b4"
      },
      "execution_count": null,
      "outputs": [
        {
          "output_type": "stream",
          "name": "stdout",
          "text": [
            "446 ms ± 120 ms per loop (mean ± std. dev. of 7 runs, 1 loop each)\n"
          ]
        }
      ]
    },
    {
      "cell_type": "code",
      "source": [
        "df.to_parquet('data.parquet')\n",
        "new_df = pd.read_parquet('data.parquet')\n",
        "new_df.info()\n",
        "\n",
        "print()\n",
        "file_size = os.path.getsize('data.parquet')\n",
        "print(f'Размер файла: {round(file_size/(1024**2),1)} МБ')"
      ],
      "metadata": {
        "colab": {
          "base_uri": "https://localhost:8080/"
        },
        "id": "yZXQue_o91bX",
        "outputId": "6e433555-18cb-4eb1-f4fd-686b52c4ec93"
      },
      "execution_count": null,
      "outputs": [
        {
          "output_type": "stream",
          "name": "stdout",
          "text": [
            "<class 'pandas.core.frame.DataFrame'>\n",
            "RangeIndex: 10000000 entries, 0 to 9999999\n",
            "Data columns (total 5 columns):\n",
            " #   Column     Dtype\n",
            "---  ------     -----\n",
            " 0   sex        int8 \n",
            " 1   age        int64\n",
            " 2   income     int64\n",
            " 3   education  int8 \n",
            " 4   work       int8 \n",
            "dtypes: int64(2), int8(3)\n",
            "memory usage: 181.2 MB\n",
            "\n",
            "Размер файла: 31.5 МБ\n"
          ]
        }
      ]
    },
    {
      "cell_type": "markdown",
      "metadata": {
        "id": "_J4Ern69JsAY"
      },
      "source": [
        "# 5 Задание\n",
        "Сохраните датафрейм в формате ORC, загрузите его в новый датафрейм и замерьте\n",
        "скорость записи и чтения, с помощью библиотеки TIME."
      ]
    },
    {
      "cell_type": "code",
      "source": [
        "%%timeit\n",
        "df.to_orc('data.orc',index='records')"
      ],
      "metadata": {
        "id": "F9bB3ucd9fGM",
        "colab": {
          "base_uri": "https://localhost:8080/"
        },
        "outputId": "7a2d0add-ca0c-4ecf-f15b-07dc793cea56"
      },
      "execution_count": null,
      "outputs": [
        {
          "output_type": "stream",
          "name": "stdout",
          "text": [
            "2.71 s ± 557 ms per loop (mean ± std. dev. of 7 runs, 1 loop each)\n"
          ]
        }
      ]
    },
    {
      "cell_type": "code",
      "source": [
        "%%timeit\n",
        "new_df = pd.read_orc('data.orc')"
      ],
      "metadata": {
        "id": "J10Avz0y9fDc",
        "colab": {
          "base_uri": "https://localhost:8080/"
        },
        "outputId": "3902213c-64ee-44a6-912a-c4fccabaa0f4"
      },
      "execution_count": null,
      "outputs": [
        {
          "output_type": "stream",
          "name": "stdout",
          "text": [
            "972 ms ± 47.6 ms per loop (mean ± std. dev. of 7 runs, 1 loop each)\n"
          ]
        }
      ]
    },
    {
      "cell_type": "code",
      "source": [
        "records = df.to_orc('data.orc',index='records')\n",
        "new_df = pd.read_orc('data.orc')\n",
        "new_df.info()\n",
        "\n",
        "print()\n",
        "file_size = os.path.getsize('data.orc')\n",
        "print(f'Размер файла: {round(file_size/(1024**2),1)} МБ')"
      ],
      "metadata": {
        "id": "HeRQmbHnIxDR",
        "colab": {
          "base_uri": "https://localhost:8080/"
        },
        "outputId": "2c266830-aff0-4e6b-91ec-43020df53a8d"
      },
      "execution_count": null,
      "outputs": [
        {
          "output_type": "stream",
          "name": "stdout",
          "text": [
            "<class 'pandas.core.frame.DataFrame'>\n",
            "RangeIndex: 10000000 entries, 0 to 9999999\n",
            "Data columns (total 6 columns):\n",
            " #   Column             Dtype\n",
            "---  ------             -----\n",
            " 0   sex                int8 \n",
            " 1   age                int64\n",
            " 2   income             int64\n",
            " 3   education          int8 \n",
            " 4   work               int8 \n",
            " 5   __index_level_0__  int64\n",
            "dtypes: int64(3), int8(3)\n",
            "memory usage: 257.5 MB\n",
            "\n",
            "Размер файла: 55.2 МБ\n"
          ]
        }
      ]
    },
    {
      "cell_type": "markdown",
      "metadata": {
        "id": "HM3gchI6JyAz"
      },
      "source": [
        "# 6 Задание\n",
        "Сохраните датафрейм в формате FEATHER, загрузите его в новый датафрейм и\n",
        "замерьте скорость записи и чтения, с помощью библиотеки time."
      ]
    },
    {
      "cell_type": "code",
      "source": [
        "import pyarrow.feather as feather"
      ],
      "metadata": {
        "id": "pXoLybB9AcU9"
      },
      "execution_count": null,
      "outputs": []
    },
    {
      "cell_type": "code",
      "source": [
        "%%timeit\n",
        "feather.write_feather(df, 'data.feather')"
      ],
      "metadata": {
        "colab": {
          "base_uri": "https://localhost:8080/"
        },
        "id": "cXTc75T99fkC",
        "outputId": "605c82d2-ba52-4cef-ceab-dd1b145b197a"
      },
      "execution_count": null,
      "outputs": [
        {
          "output_type": "stream",
          "name": "stdout",
          "text": [
            "The slowest run took 4.90 times longer than the fastest. This could mean that an intermediate result is being cached.\n",
            "1.26 s ± 994 ms per loop (mean ± std. dev. of 7 runs, 1 loop each)\n"
          ]
        }
      ]
    },
    {
      "cell_type": "code",
      "source": [
        "%%timeit\n",
        "new_df = feather.read_feather('data.feather')"
      ],
      "metadata": {
        "id": "BDLGMkKB9fhz",
        "colab": {
          "base_uri": "https://localhost:8080/"
        },
        "outputId": "eaf1780e-e4a3-440c-c048-e9f40a97e2cf"
      },
      "execution_count": null,
      "outputs": [
        {
          "output_type": "stream",
          "name": "stdout",
          "text": [
            "386 ms ± 77.2 ms per loop (mean ± std. dev. of 7 runs, 1 loop each)\n"
          ]
        }
      ]
    },
    {
      "cell_type": "code",
      "source": [
        "feather.write_feather(df, 'data.feather')\n",
        "new_df = feather.read_feather('data.feather')\n",
        "new_df.info()\n",
        "\n",
        "print()\n",
        "file_size = os.path.getsize('data.feather')\n",
        "print(f'Размер файла: {round(file_size/(1024**2),1)} МБ')"
      ],
      "metadata": {
        "id": "esXSkqEfIvnF",
        "colab": {
          "base_uri": "https://localhost:8080/"
        },
        "outputId": "a8b6d4e7-4e05-4cbc-8edd-942719d0d911"
      },
      "execution_count": null,
      "outputs": [
        {
          "output_type": "stream",
          "name": "stdout",
          "text": [
            "<class 'pandas.core.frame.DataFrame'>\n",
            "RangeIndex: 10000000 entries, 0 to 9999999\n",
            "Data columns (total 5 columns):\n",
            " #   Column     Dtype\n",
            "---  ------     -----\n",
            " 0   sex        int8 \n",
            " 1   age        int64\n",
            " 2   income     int64\n",
            " 3   education  int8 \n",
            " 4   work       int8 \n",
            "dtypes: int64(2), int8(3)\n",
            "memory usage: 181.2 MB\n",
            "\n",
            "Размер файла: 81.5 МБ\n"
          ]
        }
      ]
    },
    {
      "cell_type": "markdown",
      "metadata": {
        "id": "7hHoJBZjJ3VD"
      },
      "source": [
        "# 7 Задание\n",
        "Сохраните датафрейм в формате AVRO, загрузите его в новый датафрейм и замерьте\n",
        "скорость записи и чтения, с помощью библиотеки time."
      ]
    },
    {
      "cell_type": "code",
      "source": [
        "!pip install fastavro\n",
        "from fastavro import writer, parse_schema, reader"
      ],
      "metadata": {
        "colab": {
          "base_uri": "https://localhost:8080/"
        },
        "id": "p1r-PHyGQyul",
        "outputId": "47b09e15-762c-4a8b-8dc8-05573b555be9"
      },
      "execution_count": null,
      "outputs": [
        {
          "output_type": "stream",
          "name": "stdout",
          "text": [
            "Collecting fastavro\n",
            "  Downloading fastavro-1.9.7-cp310-cp310-manylinux_2_17_x86_64.manylinux2014_x86_64.whl.metadata (5.5 kB)\n",
            "Downloading fastavro-1.9.7-cp310-cp310-manylinux_2_17_x86_64.manylinux2014_x86_64.whl (3.1 MB)\n",
            "\u001b[2K   \u001b[90m━━━━━━━━━━━━━━━━━━━━━━━━━━━━━━━━━━━━━━━━\u001b[0m \u001b[32m3.1/3.1 MB\u001b[0m \u001b[31m12.6 MB/s\u001b[0m eta \u001b[36m0:00:00\u001b[0m\n",
            "\u001b[?25hInstalling collected packages: fastavro\n",
            "Successfully installed fastavro-1.9.7\n"
          ]
        }
      ]
    },
    {
      "cell_type": "code",
      "source": [
        "schema = {'name': 'df',\n",
        "          'type': 'record',\n",
        "          'fields': [{'name': 'sex', 'type': 'int'},\n",
        "                     {'name': 'age', 'type': 'int'},\n",
        "                     {'name': 'income', 'type': 'int'},\n",
        "                     {'name': 'education', 'type': 'int'},\n",
        "                     {'name': 'work', 'type': 'int'}]}\n",
        "\n",
        "records = df.to_dict(orient='records')"
      ],
      "metadata": {
        "id": "i1nEQ6xyTaWF"
      },
      "execution_count": null,
      "outputs": []
    },
    {
      "cell_type": "code",
      "source": [
        "%%timeit\n",
        "with open('data.avro', 'wb') as out_file:\n",
        "    writer(out_file, schema, records)"
      ],
      "metadata": {
        "id": "g-BJ5GWl9gBf",
        "colab": {
          "base_uri": "https://localhost:8080/"
        },
        "outputId": "8bb6a277-cbaf-4606-f427-86780c5bd684"
      },
      "execution_count": null,
      "outputs": [
        {
          "output_type": "stream",
          "name": "stdout",
          "text": [
            "44.3 s ± 5.24 s per loop (mean ± std. dev. of 7 runs, 1 loop each)\n"
          ]
        }
      ]
    },
    {
      "cell_type": "code",
      "source": [
        "%%timeit\n",
        "avro_records = []\n",
        "\n",
        "with open('data.avro', 'rb') as fo:\n",
        "  avro_reader = reader(fo)\n",
        "  for record in avro_reader:\n",
        "    avro_records.append(record)"
      ],
      "metadata": {
        "id": "dZsN7xhf9f_g",
        "colab": {
          "base_uri": "https://localhost:8080/"
        },
        "outputId": "0098e50f-3e7d-49d2-9009-57c6480b06f8"
      },
      "execution_count": null,
      "outputs": [
        {
          "output_type": "stream",
          "name": "stdout",
          "text": [
            "33.1 s ± 5.82 s per loop (mean ± std. dev. of 7 runs, 1 loop each)\n"
          ]
        }
      ]
    },
    {
      "cell_type": "code",
      "source": [
        "with open('data.avro', 'wb') as out_file:\n",
        "    writer(out_file, schema, records)\n",
        "\n",
        "avro_records = []\n",
        "\n",
        "with open('data.avro', 'rb') as fo:\n",
        "  avro_reader = reader(fo)\n",
        "  for record in avro_reader:\n",
        "    avro_records.append(record)"
      ],
      "metadata": {
        "id": "LT6a4e0_dKzp"
      },
      "execution_count": null,
      "outputs": []
    },
    {
      "cell_type": "code",
      "source": [
        "new_df = pd.DataFrame(data = avro_records)"
      ],
      "metadata": {
        "id": "uYGGw0tgdbl3"
      },
      "execution_count": null,
      "outputs": []
    },
    {
      "cell_type": "code",
      "source": [
        "new_df.info()\n",
        "\n",
        "print()\n",
        "file_size = os.path.getsize('data.avro')\n",
        "print(f'Размер файла: {round(file_size/(1024**2),1)} МБ')"
      ],
      "metadata": {
        "id": "lt803ReYIwil",
        "colab": {
          "base_uri": "https://localhost:8080/"
        },
        "outputId": "6c2b4820-370d-4471-a9e7-b61fa07ef919"
      },
      "execution_count": null,
      "outputs": [
        {
          "output_type": "stream",
          "name": "stdout",
          "text": [
            "<class 'pandas.core.frame.DataFrame'>\n",
            "RangeIndex: 10000000 entries, 0 to 9999999\n",
            "Data columns (total 5 columns):\n",
            " #   Column     Dtype\n",
            "---  ------     -----\n",
            " 0   sex        int64\n",
            " 1   age        int64\n",
            " 2   income     int64\n",
            " 3   education  int64\n",
            " 4   work       int64\n",
            "dtypes: int64(5)\n",
            "memory usage: 381.5 MB\n",
            "\n",
            "Размер файла: 66.9 МБ\n"
          ]
        }
      ]
    },
    {
      "cell_type": "markdown",
      "metadata": {
        "id": "6AbbhLkTKDgn"
      },
      "source": [
        "#8 Задание\n",
        "Замерьте объем памяти файлов на диске c помощью библиотеки OS, объем датафреймов\n",
        "в памяти с помощью методов SYS,GETSIZEOF() или DF.INFO(), и заполните таблицу\n",
        "(можно создать в excel, и скопировать в текстовую ячейку ноутбука, либо создать html\n",
        "код, с таблицей) этими значениями, а также значениями скоростей для каждого формата."
      ]
    },
    {
      "cell_type": "markdown",
      "source": [
        "![image.png](data:image/png;base64,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)"
      ],
      "metadata": {
        "id": "ptdFImE5UuMp"
      }
    },
    {
      "cell_type": "markdown",
      "source": [
        "Для выполнения следующих заданий на основании таблицы выбраны форматы parquet и feather"
      ],
      "metadata": {
        "id": "9Ov9kbzwVIVw"
      }
    },
    {
      "cell_type": "markdown",
      "metadata": {
        "id": "Eyn8mEeZKMrh"
      },
      "source": [
        "# 9 Задание\n",
        "На основании таблицы выберите способ для максимально быстрого сохранения на диск\n",
        "для датафрейма, той же структуры, что и в п.1, но из 100 млн. строк. Здесь необходимо\n",
        "сохранить датафрейм и замерить время выполнения этой операции."
      ]
    },
    {
      "cell_type": "code",
      "source": [
        "import pandas as pd\n",
        "import numpy as np\n",
        "import os\n",
        "\n",
        "n = 100_000_000\n",
        "\n",
        "decode_sex = pd.Series(data=np.array([1, 2], dtype=np.int8), index=['муж', 'жен'], name='sex_code')\n",
        "decode_prof = pd.Series(data=np.array([1, 2, 3], dtype=np.int8), index=['уборщик', 'кассир', 'дворник'], name='prof_code')\n",
        "decode_edu = pd.Series(data=np.array([1, 2, 3], dtype=np.int8), index=['школа','ПТУ','колледж'], name='edu_code')\n",
        "\n",
        "dfB = pd.DataFrame({\n",
        "    'sex': np.random.choice(decode_sex.to_numpy(), size = n),\n",
        "    'age': np.random.normal(loc=35, scale=10, size = n).astype(int),\n",
        "    'income': np.random.normal(loc=20000, scale=1500, size = n).astype(int),\n",
        "    'education': np.random.choice(decode_edu.to_numpy(), size = n),\n",
        "    'work': np.random.choice(decode_prof.to_numpy(), size = n)\n",
        "})"
      ],
      "metadata": {
        "id": "EX0VPG85V440"
      },
      "execution_count": null,
      "outputs": []
    },
    {
      "cell_type": "code",
      "source": [
        "%%timeit\n",
        "dfB.to_parquet('dataBIG.parquet')"
      ],
      "metadata": {
        "colab": {
          "base_uri": "https://localhost:8080/"
        },
        "id": "8b-UjYJAWApk",
        "outputId": "f618ad0e-4458-4317-f9f8-c70f7c82a856"
      },
      "execution_count": null,
      "outputs": [
        {
          "output_type": "stream",
          "name": "stdout",
          "text": [
            "19.5 s ± 2.67 s per loop (mean ± std. dev. of 7 runs, 1 loop each)\n"
          ]
        }
      ]
    },
    {
      "cell_type": "code",
      "source": [
        "%%timeit\n",
        "new_dfB = pd.read_parquet('dataBIG.parquet')"
      ],
      "metadata": {
        "colab": {
          "base_uri": "https://localhost:8080/"
        },
        "id": "Jortl5SqWEow",
        "outputId": "64a5e57a-29ea-4180-d9eb-bcb5df48e4ec"
      },
      "execution_count": null,
      "outputs": [
        {
          "output_type": "stream",
          "name": "stdout",
          "text": [
            "5.19 s ± 1.84 s per loop (mean ± std. dev. of 7 runs, 1 loop each)\n"
          ]
        }
      ]
    },
    {
      "cell_type": "code",
      "source": [
        "dfB.to_parquet('dataBIG.parquet')\n",
        "new_dfB = pd.read_parquet('dataBIG.parquet')\n",
        "new_dfB.info()\n",
        "\n",
        "print()\n",
        "file_size = os.path.getsize('dataBIG.parquet')\n",
        "print(f'Размер файла: {round(file_size/(1024**2),1)} МБ')"
      ],
      "metadata": {
        "colab": {
          "base_uri": "https://localhost:8080/"
        },
        "id": "ZCTNo026WJUp",
        "outputId": "207ed524-7517-40b5-d506-f92ad78a7517"
      },
      "execution_count": null,
      "outputs": [
        {
          "output_type": "stream",
          "name": "stdout",
          "text": [
            "<class 'pandas.core.frame.DataFrame'>\n",
            "RangeIndex: 100000000 entries, 0 to 99999999\n",
            "Data columns (total 5 columns):\n",
            " #   Column     Dtype\n",
            "---  ------     -----\n",
            " 0   sex        int8 \n",
            " 1   age        int64\n",
            " 2   income     int64\n",
            " 3   education  int8 \n",
            " 4   work       int8 \n",
            "dtypes: int64(2), int8(3)\n",
            "memory usage: 1.8 GB\n",
            "\n",
            "Размер файла: 315.1 МБ\n"
          ]
        }
      ]
    },
    {
      "cell_type": "code",
      "source": [
        "import pyarrow.feather as feather"
      ],
      "metadata": {
        "id": "0S3e4QVbTNP6"
      },
      "execution_count": null,
      "outputs": []
    },
    {
      "cell_type": "code",
      "source": [
        "%%timeit\n",
        "feather.write_feather(dfB, 'dataBIG.feather')"
      ],
      "metadata": {
        "colab": {
          "base_uri": "https://localhost:8080/"
        },
        "id": "pqxa_pgIN4Xg",
        "outputId": "36773deb-3c07-4cd8-d929-cb28b732931d"
      },
      "execution_count": null,
      "outputs": [
        {
          "output_type": "stream",
          "name": "stdout",
          "text": [
            "13.1 s ± 1.71 s per loop (mean ± std. dev. of 7 runs, 1 loop each)\n"
          ]
        }
      ]
    },
    {
      "cell_type": "code",
      "source": [
        "%%timeit\n",
        "new_dfB = feather.read_feather('dataBIG.feather')"
      ],
      "metadata": {
        "colab": {
          "base_uri": "https://localhost:8080/"
        },
        "id": "o8b4MXw5OJo5",
        "outputId": "34a92ab6-43c6-441c-cd12-d7be23a0c2dc"
      },
      "execution_count": null,
      "outputs": [
        {
          "output_type": "stream",
          "name": "stdout",
          "text": [
            "7.89 s ± 3.21 s per loop (mean ± std. dev. of 7 runs, 1 loop each)\n"
          ]
        }
      ]
    },
    {
      "cell_type": "code",
      "source": [
        "feather.write_feather(dfB, 'dataBIG.feather')\n",
        "new_dfB = feather.read_feather('dataBIG.feather')\n",
        "new_dfB.info()\n",
        "\n",
        "print()\n",
        "file_size = os.path.getsize('dataBIG.feather')\n",
        "print(f'Размер файла: {round(file_size/(1024**2),1)} МБ')"
      ],
      "metadata": {
        "colab": {
          "base_uri": "https://localhost:8080/"
        },
        "id": "yO0nDI_kOJ6f",
        "outputId": "ba5fc452-93e2-4135-800f-bb5828739c97"
      },
      "execution_count": null,
      "outputs": [
        {
          "output_type": "stream",
          "name": "stdout",
          "text": [
            "<class 'pandas.core.frame.DataFrame'>\n",
            "RangeIndex: 100000000 entries, 0 to 99999999\n",
            "Data columns (total 5 columns):\n",
            " #   Column     Dtype\n",
            "---  ------     -----\n",
            " 0   sex        int8 \n",
            " 1   age        int64\n",
            " 2   income     int64\n",
            " 3   education  int8 \n",
            " 4   work       int8 \n",
            "dtypes: int64(2), int8(3)\n",
            "memory usage: 1.8 GB\n",
            "\n",
            "Размер файла: 815.4 МБ\n"
          ]
        }
      ]
    },
    {
      "cell_type": "markdown",
      "source": [
        "Формат для самого быстрого сохранения данных да диск из исследуемых это feather"
      ],
      "metadata": {
        "id": "WA6u7WkNVMy5"
      }
    },
    {
      "cell_type": "markdown",
      "metadata": {
        "id": "4GgtGbt-KVFg"
      },
      "source": [
        "# 10 Задание\n",
        "На основании таблицы выберите способ для максимально быстрой агрегации данных из\n",
        "датафрейма на диске, той же структуры, что и в п.1, но из 100 млн. строк. В качестве\n",
        "агреграции надо рассчитать средний возраст, медианный доход, самый частый пол,\n",
        "самый редкий тип образования, профессию, с максимальной зп. Здесь необходимо и\n",
        "сохранить, и считать и обработать этот датафрейм, и замерить время выполнения этих\n",
        "операций."
      ]
    },
    {
      "cell_type": "code",
      "source": [
        "import pandas as pd\n",
        "import numpy as np\n",
        "import os\n",
        "import time\n",
        "\n",
        "start_time = time.time()\n",
        "\n",
        "n = 100_000_000\n",
        "\n",
        "decode_sex = pd.Series(data=np.array([1, 2], dtype=np.int8), index=['муж', 'жен'], name='sex_code')\n",
        "decode_prof = pd.Series(data=np.array([1, 2, 3], dtype=np.int8), index=['уборщик', 'кассир', 'дворник'], name='prof_code')\n",
        "decode_edu = pd.Series(data=np.array([1, 2, 3], dtype=np.int8), index=['школа','ПТУ','колледж'], name='edu_code')\n",
        "\n",
        "df = pd.DataFrame({\n",
        "    'gender': np.random.choice(decode_sex.to_numpy(), size = n),\n",
        "    'age': np.random.normal(loc=35, scale=10, size = n).astype(int),\n",
        "    'salary': np.random.normal(loc=20000, scale=1500, size = n).astype(int),\n",
        "    'education': np.random.choice(decode_edu.to_numpy(), size = n),\n",
        "    'profession': np.random.choice(decode_prof.to_numpy(), size = n)\n",
        "})\n",
        "\n",
        "df.to_parquet('dataBIG.parquet')\n",
        "curr_time = time.time()"
      ],
      "metadata": {
        "id": "2AkKUN3RgQ0j"
      },
      "execution_count": null,
      "outputs": []
    },
    {
      "cell_type": "code",
      "source": [
        "start_time1 = time.time()\n",
        "\n",
        "def decode(column, mapping):\n",
        "    return column.map(mapping)\n",
        "\n",
        "new_df = pd.read_parquet('dataBIG.parquet')\n",
        "\n",
        "gender_mapping = {0: 'муж', 1: 'жен'}\n",
        "education_mapping = {0: 'школа', 1: 'колледж', 2: 'ПТУ'}\n",
        "profession_mapping = {0: 'кассир', 1: 'дворник', 2: 'няня'}\n",
        "\n",
        "new_df['gender_decoded'] = decode(new_df['gender'], gender_mapping)\n",
        "new_df['education_decoded'] = decode(new_df['education'], education_mapping)\n",
        "new_df['profession_decoded'] = decode(new_df['profession'], profession_mapping)\n",
        "\n",
        "average_age = new_df['age'].mean()\n",
        "median_salary = new_df['salary'].median()\n",
        "most_common_gender = new_df['gender_decoded'].mode()[0]\n",
        "rarest_education = new_df['education_decoded'].value_counts().idxmin()\n",
        "profession_max_salary = new_df.loc[new_df['salary'].idxmax(), 'profession_decoded']\n",
        "\n",
        "print(f\"Средний возраст: {average_age}\")\n",
        "print(f\"Медианный доход: {median_salary}\")\n",
        "print(f\"Самый частый пол: {most_common_gender}\")\n",
        "print(f\"Самый редкий тип образования: {rarest_education}\")\n",
        "print(f\"Профессия с максимальной зарплатой: {profession_max_salary}\")\n",
        "\n",
        "curr_time1 = time.time()\n",
        "print(\"Время выполнения\", round((curr_time - start_time) + (curr_time1 - start_time1),1), 'секунд')"
      ],
      "metadata": {
        "colab": {
          "base_uri": "https://localhost:8080/"
        },
        "id": "Dbc53allUawW",
        "outputId": "f9eda6ce-d1b2-40af-9c99-9ab2c9b886fb"
      },
      "execution_count": null,
      "outputs": [
        {
          "output_type": "stream",
          "name": "stdout",
          "text": [
            "Средний возраст: 34.49964717\n",
            "Медианный доход: 20000.0\n",
            "Самый частый пол: жен\n",
            "Самый редкий тип образования: колледж\n",
            "Профессия с максимальной зарплатой: няня\n",
            "Время выполнения 84.7 секунд\n"
          ]
        }
      ]
    }
  ],
  "metadata": {
    "colab": {
      "provenance": []
    },
    "kernelspec": {
      "display_name": "Python 3",
      "name": "python3"
    },
    "language_info": {
      "name": "python"
    }
  },
  "nbformat": 4,
  "nbformat_minor": 0
}