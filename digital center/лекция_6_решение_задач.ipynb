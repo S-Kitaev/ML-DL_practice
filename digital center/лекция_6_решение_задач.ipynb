{
  "nbformat": 4,
  "nbformat_minor": 0,
  "metadata": {
    "colab": {
      "provenance": []
    },
    "kernelspec": {
      "name": "python3",
      "display_name": "Python 3"
    },
    "language_info": {
      "name": "python"
    }
  },
  "cells": [
    {
      "cell_type": "markdown",
      "source": [
        "создать серию из 6 случайных чисел с индексами a,b,c,d...\n",
        "\n",
        "сделать 2 дф и объединить их\n",
        "{'продукт': ['картошка','морковь','яблоко'], 'категория': ['овощ','овощ','фрукт']}\n",
        "\n",
        "{'продукт': ['картошка','морковь','яблоко'], 'цена': [50,60,120]}"
      ],
      "metadata": {
        "id": "liskwDeGF-LO"
      }
    },
    {
      "cell_type": "code",
      "execution_count": null,
      "metadata": {
        "colab": {
          "base_uri": "https://localhost:8080/"
        },
        "id": "SOQAvN68FKJe",
        "outputId": "0623c6ab-b2cc-4d09-b983-68748cfcd961"
      },
      "outputs": [
        {
          "output_type": "stream",
          "name": "stdout",
          "text": [
            "a    0.594132\n",
            "b    0.675658\n",
            "c    0.425867\n",
            "d    0.622990\n",
            "e    0.522384\n",
            "f    0.568184\n",
            "dtype: float64\n",
            "\n",
            "    продукт категория  цена\n",
            "0  картошка     овощи    50\n",
            "1   морковь     овощи    60\n",
            "2    яблоко    фрукты   120\n"
          ]
        }
      ],
      "source": [
        "import pandas as pd\n",
        "import numpy as np\n",
        "import random as rd\n",
        "\n",
        "c = []\n",
        "for i in range (6):\n",
        "  a = rd.random()\n",
        "  c.append(a)\n",
        "\n",
        "ser = pd.Series(c,index = ['a','b','c','d','e','f'])\n",
        "print(ser)\n",
        "print()\n",
        "\n",
        "data1 = {'продукт': ['картошка','морковь','яблоко'], 'категория': ['овощи','овощи','фрукты']}\n",
        "data2 = {'продукт': ['картошка','морковь','яблоко'], 'цена': [50,60,120]}\n",
        "\n",
        "df1 = pd.DataFrame(data1)\n",
        "df2 = pd.DataFrame(data2)\n",
        "\n",
        "df3 = pd.merge(df1,df2,on='продукт')\n",
        "\n",
        "print(df3)"
      ]
    },
    {
      "cell_type": "code",
      "source": [],
      "metadata": {
        "id": "ci6d-Sy_O0Ux"
      },
      "execution_count": null,
      "outputs": []
    }
  ]
}