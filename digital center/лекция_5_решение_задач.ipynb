{
  "nbformat": 4,
  "nbformat_minor": 0,
  "metadata": {
    "colab": {
      "provenance": []
    },
    "kernelspec": {
      "name": "python3",
      "display_name": "Python 3"
    },
    "language_info": {
      "name": "python"
    }
  },
  "cells": [
    {
      "cell_type": "markdown",
      "source": [
        "Создать 2 матрицы 4х3 и сложить их\n",
        "Создать 2 матрицы 4х3 и 6х4 и перемножить их"
      ],
      "metadata": {
        "id": "qtA-eRJlzMBW"
      }
    },
    {
      "cell_type": "code",
      "execution_count": null,
      "metadata": {
        "colab": {
          "base_uri": "https://localhost:8080/"
        },
        "id": "ZkyL5dmYyRMV",
        "outputId": "6d7c141e-9c5b-4976-c77f-cb87c27054fb"
      },
      "outputs": [
        {
          "output_type": "stream",
          "name": "stdout",
          "text": [
            "[[14 16 18]\n",
            " [20 22 24]\n",
            " [26 28 30]\n",
            " [32 34 36]]\n",
            "[[ 38  44  50  56]\n",
            " [ 83  98 113 128]\n",
            " [128 152 176 200]\n",
            " [173 206 239 272]]\n"
          ]
        }
      ],
      "source": [
        "import numpy as np\n",
        "\n",
        "a = np.arange(1,13).reshape(4,3)\n",
        "b = np.arange(13,25).reshape(4,3)\n",
        "\n",
        "c = np.arange(1,13).reshape(3,4)\n",
        "d = np.dot(a,c)\n",
        "\n",
        "a = a + b\n",
        "\n",
        "\n",
        "print(a,d,sep='\\n')"
      ]
    },
    {
      "cell_type": "markdown",
      "source": [
        "Создать матрицу 3 на 3 и найти ее определитель"
      ],
      "metadata": {
        "id": "00O-GMd930oh"
      }
    },
    {
      "cell_type": "code",
      "source": [
        "a = np.random.rand(3,3)\n",
        "\n",
        "print(np.linalg.det(a))"
      ],
      "metadata": {
        "colab": {
          "base_uri": "https://localhost:8080/"
        },
        "id": "mlPh9fKf36jS",
        "outputId": "beadf0ca-2672-4320-8490-81e391ab5ca0"
      },
      "execution_count": null,
      "outputs": [
        {
          "output_type": "stream",
          "name": "stdout",
          "text": [
            "-0.05508081381089797\n"
          ]
        }
      ]
    },
    {
      "cell_type": "markdown",
      "source": [
        "Решить систему уравнений\n",
        "\n",
        "3х + 2у = 5\n",
        "\n",
        "2х - 1у = 3"
      ],
      "metadata": {
        "id": "yMqBQy3J9KG9"
      }
    },
    {
      "cell_type": "code",
      "source": [
        "a1 = np.array([[3., 2.],[2.,-1.]])\n",
        "a2 = np.array([[5.],[3.]])\n",
        "\n",
        "print(np.linalg.solve(a1,a2))"
      ],
      "metadata": {
        "colab": {
          "base_uri": "https://localhost:8080/"
        },
        "id": "Oz6dU8dt9JwR",
        "outputId": "717dfae7-5eff-4526-a918-e407cc57f80b"
      },
      "execution_count": null,
      "outputs": [
        {
          "output_type": "stream",
          "name": "stdout",
          "text": [
            "[[1.57142857]\n",
            " [0.14285714]]\n"
          ]
        }
      ]
    },
    {
      "cell_type": "markdown",
      "source": [
        "Выкачать 1000 вакансий с https://api.hh.ru/vacancies?text=Программист&per_page=100&area=1&area=2&{}\n",
        "Найти зп по удаленной работе, полному дню и гибкому графику программистов Python\n",
        "использовать Numpy"
      ],
      "metadata": {
        "id": "kzFXt6BC_9zJ"
      }
    },
    {
      "cell_type": "code",
      "source": [
        "import requests\n",
        "import numpy as np\n",
        "\n",
        "salary = lambda x: [x['salary']['from'], x['salary']['to'], x['salary']['currency'], x['salary']['gross']] if x['salary'] is not None else [None]*4\n",
        "schedule = lambda x: [x['schedule']['name']] if ['schedule'] is not None else [None]\n",
        "\n",
        "vac = []\n",
        "\n",
        "for i in range(10):\n",
        "  url = 'https://api.hh.ru/vacancies?text=Программист&per_page=100&area=1&area=2&{}'.format(str(i))\n",
        "  vac += [[x['id'], x['name']] + salary(x) + schedule(x) for x in requests.get(url).json()['items']]"
      ],
      "metadata": {
        "id": "gIHiBoCt_9VJ"
      },
      "execution_count": null,
      "outputs": []
    },
    {
      "cell_type": "code",
      "source": [
        "len(vac)"
      ],
      "metadata": {
        "colab": {
          "base_uri": "https://localhost:8080/"
        },
        "id": "leUUTIkJFzwe",
        "outputId": "d820fbe4-079f-41b7-a140-58775c03d4d3"
      },
      "execution_count": null,
      "outputs": [
        {
          "output_type": "execute_result",
          "data": {
            "text/plain": [
              "1000"
            ]
          },
          "metadata": {},
          "execution_count": 21
        }
      ]
    },
    {
      "cell_type": "code",
      "source": [
        "full = np.array([],float)\n",
        "remote = np.array([],float)\n",
        "flexible = np.array([],float)\n",
        "\n",
        "for i in vac:\n",
        "  if i[1] is not None and 'Python' in i[1] and i[4] is not None and 'RUR' in i[4] and i[2] is not None:\n",
        "    if i[-1] == 'Полный день':\n",
        "      full = np.append(full,i[2])\n",
        "    elif i[-1] == 'Гибкий график':\n",
        "      flexible = np.append(flexible,i[2])\n",
        "    elif i[-1] == 'Удаленная работа':\n",
        "      remote = np.append(remote,i[2])\n",
        "\n",
        "print('Полная занятость',np.mean(full),'Гибкий график',np.mean(flexible),'Удаленная работа',np.mean(remote))\n",
        "\n",
        "print(len(full))\n",
        "print(len(flexible))\n",
        "print(len(remote))"
      ],
      "metadata": {
        "colab": {
          "base_uri": "https://localhost:8080/"
        },
        "id": "9UY8yqjYF4r6",
        "outputId": "e5e486f3-780f-49cd-9948-69099e16d39b"
      },
      "execution_count": null,
      "outputs": [
        {
          "output_type": "stream",
          "name": "stdout",
          "text": [
            "Полная занятость 65000.0 Гибкий график nan Удаленная работа 65000.0\n",
            "20\n",
            "0\n",
            "20\n"
          ]
        },
        {
          "output_type": "stream",
          "name": "stderr",
          "text": [
            "/usr/local/lib/python3.10/dist-packages/numpy/core/fromnumeric.py:3504: RuntimeWarning: Mean of empty slice.\n",
            "  return _methods._mean(a, axis=axis, dtype=dtype,\n",
            "/usr/local/lib/python3.10/dist-packages/numpy/core/_methods.py:129: RuntimeWarning: invalid value encountered in scalar divide\n",
            "  ret = ret.dtype.type(ret / rcount)\n"
          ]
        }
      ]
    }
  ]
}