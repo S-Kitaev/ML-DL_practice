{
  "cells": [
    {
      "cell_type": "markdown",
      "metadata": {
        "id": "mREyWN-2M2yL"
      },
      "source": [
        "# Запуск NGROK туннеля с 1м коллабом, соединение с телеграммом и общение с ним"
      ]
    },
    {
      "cell_type": "code",
      "execution_count": null,
      "metadata": {
        "colab": {
          "base_uri": "https://localhost:8080/"
        },
        "id": "3gIJRhUJiNWc",
        "outputId": "fcf330bf-16af-4e18-82f7-86ab2291ce29"
      },
      "outputs": [
        {
          "output_type": "stream",
          "name": "stdout",
          "text": [
            "Collecting python-telegram-bot\n",
            "  Downloading python_telegram_bot-21.9-py3-none-any.whl.metadata (17 kB)\n",
            "Requirement already satisfied: matplotlib in /usr/local/lib/python3.10/dist-packages (3.8.0)\n",
            "Requirement already satisfied: httpx~=0.27 in /usr/local/lib/python3.10/dist-packages (from python-telegram-bot) (0.28.1)\n",
            "Requirement already satisfied: contourpy>=1.0.1 in /usr/local/lib/python3.10/dist-packages (from matplotlib) (1.3.1)\n",
            "Requirement already satisfied: cycler>=0.10 in /usr/local/lib/python3.10/dist-packages (from matplotlib) (0.12.1)\n",
            "Requirement already satisfied: fonttools>=4.22.0 in /usr/local/lib/python3.10/dist-packages (from matplotlib) (4.55.3)\n",
            "Requirement already satisfied: kiwisolver>=1.0.1 in /usr/local/lib/python3.10/dist-packages (from matplotlib) (1.4.7)\n",
            "Requirement already satisfied: numpy<2,>=1.21 in /usr/local/lib/python3.10/dist-packages (from matplotlib) (1.26.4)\n",
            "Requirement already satisfied: packaging>=20.0 in /usr/local/lib/python3.10/dist-packages (from matplotlib) (24.2)\n",
            "Requirement already satisfied: pillow>=6.2.0 in /usr/local/lib/python3.10/dist-packages (from matplotlib) (11.0.0)\n",
            "Requirement already satisfied: pyparsing>=2.3.1 in /usr/local/lib/python3.10/dist-packages (from matplotlib) (3.2.0)\n",
            "Requirement already satisfied: python-dateutil>=2.7 in /usr/local/lib/python3.10/dist-packages (from matplotlib) (2.8.2)\n",
            "Requirement already satisfied: anyio in /usr/local/lib/python3.10/dist-packages (from httpx~=0.27->python-telegram-bot) (3.7.1)\n",
            "Requirement already satisfied: certifi in /usr/local/lib/python3.10/dist-packages (from httpx~=0.27->python-telegram-bot) (2024.12.14)\n",
            "Requirement already satisfied: httpcore==1.* in /usr/local/lib/python3.10/dist-packages (from httpx~=0.27->python-telegram-bot) (1.0.7)\n",
            "Requirement already satisfied: idna in /usr/local/lib/python3.10/dist-packages (from httpx~=0.27->python-telegram-bot) (3.10)\n",
            "Requirement already satisfied: h11<0.15,>=0.13 in /usr/local/lib/python3.10/dist-packages (from httpcore==1.*->httpx~=0.27->python-telegram-bot) (0.14.0)\n",
            "Requirement already satisfied: six>=1.5 in /usr/local/lib/python3.10/dist-packages (from python-dateutil>=2.7->matplotlib) (1.17.0)\n",
            "Requirement already satisfied: sniffio>=1.1 in /usr/local/lib/python3.10/dist-packages (from anyio->httpx~=0.27->python-telegram-bot) (1.3.1)\n",
            "Requirement already satisfied: exceptiongroup in /usr/local/lib/python3.10/dist-packages (from anyio->httpx~=0.27->python-telegram-bot) (1.2.2)\n",
            "Downloading python_telegram_bot-21.9-py3-none-any.whl (662 kB)\n",
            "\u001b[2K   \u001b[90m━━━━━━━━━━━━━━━━━━━━━━━━━━━━━━━━━━━━━━━━\u001b[0m \u001b[32m662.7/662.7 kB\u001b[0m \u001b[31m10.5 MB/s\u001b[0m eta \u001b[36m0:00:00\u001b[0m\n",
            "\u001b[?25hInstalling collected packages: python-telegram-bot\n",
            "Successfully installed python-telegram-bot-21.9\n",
            "Requirement already satisfied: python-telegram-bot in /usr/local/lib/python3.10/dist-packages (21.9)\n",
            "Requirement already satisfied: httpx~=0.27 in /usr/local/lib/python3.10/dist-packages (from python-telegram-bot) (0.28.1)\n",
            "Requirement already satisfied: anyio in /usr/local/lib/python3.10/dist-packages (from httpx~=0.27->python-telegram-bot) (3.7.1)\n",
            "Requirement already satisfied: certifi in /usr/local/lib/python3.10/dist-packages (from httpx~=0.27->python-telegram-bot) (2024.12.14)\n",
            "Requirement already satisfied: httpcore==1.* in /usr/local/lib/python3.10/dist-packages (from httpx~=0.27->python-telegram-bot) (1.0.7)\n",
            "Requirement already satisfied: idna in /usr/local/lib/python3.10/dist-packages (from httpx~=0.27->python-telegram-bot) (3.10)\n",
            "Requirement already satisfied: h11<0.15,>=0.13 in /usr/local/lib/python3.10/dist-packages (from httpcore==1.*->httpx~=0.27->python-telegram-bot) (0.14.0)\n",
            "Requirement already satisfied: sniffio>=1.1 in /usr/local/lib/python3.10/dist-packages (from anyio->httpx~=0.27->python-telegram-bot) (1.3.1)\n",
            "Requirement already satisfied: exceptiongroup in /usr/local/lib/python3.10/dist-packages (from anyio->httpx~=0.27->python-telegram-bot) (1.2.2)\n"
          ]
        }
      ],
      "source": [
        "!pip install python-telegram-bot matplotlib\n",
        "!pip install python-telegram-bot --upgrade"
      ]
    },
    {
      "cell_type": "code",
      "execution_count": null,
      "metadata": {
        "id": "I3pPoI43cA3Z"
      },
      "outputs": [],
      "source": [
        "import requests\n",
        "import pandas as pd\n",
        "import json\n",
        "import matplotlib.pyplot as plt\n",
        "import seaborn as sns\n",
        "import logging\n",
        "from telegram import Update, InputFile\n",
        "from telegram.ext import Application, CommandHandler, MessageHandler, ContextTypes, filters\n",
        "import nest_asyncio\n",
        "import asyncio\n",
        "\n",
        "nest_asyncio.apply()"
      ]
    },
    {
      "cell_type": "code",
      "execution_count": null,
      "metadata": {
        "id": "mTPo3h4fcDjx"
      },
      "outputs": [],
      "source": [
        "def convert_strings_to_datetime(df):\n",
        "\n",
        "    if 'date' in df.columns:\n",
        "        df['date'] = pd.to_datetime(df['date'])\n",
        "    return df\n",
        "\n",
        "def plot_combined_stock_prices(stock_data, prediction_df):\n",
        "\n",
        "    try:\n",
        "\n",
        "        if \"date\" in stock_data.columns and \"value\" in stock_data.columns \\\n",
        "           and \"date\" in prediction_df.columns and \"predicted_value\" in prediction_df.columns:\n",
        "\n",
        "\n",
        "            stock_data[\"date\"] = pd.to_datetime(stock_data[\"date\"])\n",
        "            prediction_df[\"date\"] = pd.to_datetime(prediction_df[\"date\"])\n",
        "\n",
        "\n",
        "            recent_stock_data = stock_data.tail(60)\n",
        "\n",
        "\n",
        "            plt.figure(figsize=(18, 7))\n",
        "            plt.plot(recent_stock_data[\"date\"], recent_stock_data[\"value\"], label=\"Исторические данные\", color=\"blue\")\n",
        "            plt.plot(prediction_df[\"date\"], prediction_df[\"predicted_value\"], label=\"Предсказания\", color=\"green\", linestyle=\"--\")\n",
        "\n",
        "\n",
        "            plt.title(\"График курса акций\", fontsize=16)\n",
        "            plt.xlabel(\"Дата\", fontsize=12)\n",
        "            plt.ylabel(\"Цена акций (в рублях)\", fontsize=12)\n",
        "            plt.grid(True, linestyle=\"--\", alpha=0.5)\n",
        "            plt.legend(fontsize=12)\n",
        "            plt.tight_layout()\n",
        "            plt.show()\n",
        "        else:\n",
        "            print(\"Ошибка: В одном из датафреймов отсутствуют необходимые колонки 'date' и 'value/predicted_value'.\")\n",
        "    except Exception as e:\n",
        "        print(f\"Ошибка при построении графика: {e}\")\n",
        "\n",
        "def plot_stock_prices(dataframe):\n",
        "\n",
        "    try:\n",
        "\n",
        "        if \"date\" in dataframe.columns and \"value\" in dataframe.columns:\n",
        "\n",
        "            dataframe[\"date\"] = pd.to_datetime(dataframe[\"date\"])\n",
        "\n",
        "\n",
        "            plt.figure(figsize=(14, 7))\n",
        "            plt.plot(dataframe[\"date\"], dataframe[\"value\"], label=\"Цена акций\", color=\"blue\")\n",
        "            plt.title(\"График цены акций\", fontsize=16)\n",
        "            plt.xlabel(\"Дата\", fontsize=12)\n",
        "            plt.ylabel(\"Цена акций (в рублях)\", fontsize=12)\n",
        "            plt.grid(True, linestyle=\"--\", alpha=0.5)\n",
        "            plt.legend(fontsize=12)\n",
        "            plt.show()\n",
        "        else:\n",
        "            print(\"Ошибка: В датафрейме отсутствуют необходимые колонки 'date' и 'value'.\")\n",
        "    except Exception as e:\n",
        "        print(f\"Ошибка при построении графика: {e}\")"
      ]
    },
    {
      "cell_type": "code",
      "execution_count": null,
      "metadata": {
        "colab": {
          "background_save": true,
          "base_uri": "https://localhost:8080/"
        },
        "id": "hfQmDpooksKW",
        "outputId": "e2e3903b-d164-48ce-c6e2-582b5aa95ed9"
      },
      "outputs": [
        {
          "output_type": "stream",
          "name": "stdout",
          "text": [
            "Бот запущен. Ожидаю сообщения...\n"
          ]
        }
      ],
      "source": [
        "TELEGRAM_TOKEN = \"7390352078:AAGa1MYBic_-tXNUrqRLEKmSZPm5X1ojZEM\"\n",
        "\n",
        "\n",
        "SERVER_URL = \"https://3cc7-34-56-131-214.ngrok-free.app\"\n",
        "\n",
        "logging.basicConfig(\n",
        "    format=\"%(asctime)s - %(name)s - %(levelname)s - %(message)s\",\n",
        "    level=logging.INFO,\n",
        ")\n",
        "logger = logging.getLogger(__name__)\n",
        "\n",
        "def plot_combined_stock_prices(stock_data, prediction_df):\n",
        "    try:\n",
        "        if \"date\" in stock_data.columns and \"value\" in stock_data.columns \\\n",
        "           and \"date\" in prediction_df.columns and \"predicted_value\" in prediction_df.columns:\n",
        "            stock_data[\"date\"] = pd.to_datetime(stock_data[\"date\"])\n",
        "            prediction_df[\"date\"] = pd.to_datetime(prediction_df[\"date\"])\n",
        "\n",
        "            recent_stock_data = stock_data.tail(60)\n",
        "\n",
        "            plt.figure(figsize=(18, 7))\n",
        "            plt.plot(recent_stock_data[\"date\"], recent_stock_data[\"value\"], label=\"Исторические данные\", color=\"blue\")\n",
        "            plt.plot(prediction_df[\"date\"], prediction_df[\"predicted_value\"], label=\"Предсказания\", color=\"green\", linestyle=\"--\")\n",
        "\n",
        "            plt.title(\"График курса акций\", fontsize=16)\n",
        "            plt.xlabel(\"Дата\", fontsize=12)\n",
        "            plt.ylabel(\"Цена акций (в рублях)\", fontsize=12)\n",
        "            plt.grid(True, linestyle=\"--\", alpha=0.5)\n",
        "            plt.legend(fontsize=12)\n",
        "            plt.tight_layout()\n",
        "\n",
        "            plot_path = \"forecast_plot.png\"\n",
        "            plt.savefig(plot_path)\n",
        "            plt.close()\n",
        "            return plot_path\n",
        "        else:\n",
        "            raise ValueError(\"Отсутствуют необходимые колонки 'date' и 'value/predicted_value'.\")\n",
        "    except Exception as e:\n",
        "        raise RuntimeError(f\"Ошибка построения графика: {e}\")\n",
        "\n",
        "\n",
        "async def handle_ticker(update: Update, context: ContextTypes.DEFAULT_TYPE):\n",
        "    try:\n",
        "        ticker = update.message.text.strip().upper()\n",
        "        await update.message.reply_text(f\"Получен тикер: {ticker}. Выполняется прогноз...\")\n",
        "\n",
        "        response = requests.get(f\"{SERVER_URL}/{ticker}\")\n",
        "        if response.status_code != 200:\n",
        "            await update.message.reply_text(f\"Ошибка сервера: {response.status_code}\")\n",
        "            return\n",
        "\n",
        "        data = response.json()\n",
        "        stock_data = pd.DataFrame(data['df1'])\n",
        "        prediction_df = pd.DataFrame(data['df2'])\n",
        "        prediction_df.rename(columns={\"value\": \"predicted_value\"}, inplace=True)\n",
        "\n",
        "        plot_path = plot_combined_stock_prices(stock_data, prediction_df)\n",
        "\n",
        "        with open(plot_path, \"rb\") as plot_file:\n",
        "            await update.message.reply_photo(photo=InputFile(plot_file), caption=f\"Прогноз цены для {ticker}\")\n",
        "\n",
        "    except Exception as e:\n",
        "        logger.error(f\"Ошибка: {e}\")\n",
        "        await update.message.reply_text(f\"Произошла ошибка: {str(e)}\")\n",
        "\n",
        "# Обработчик команды /start\n",
        "async def start(update: Update, context: ContextTypes.DEFAULT_TYPE):\n",
        "    await update.message.reply_text(\"Добро пожаловать! Отправьте мне тикер акции, чтобы получить прогноз её цены.\")\n",
        "\n",
        "\n",
        "if __name__ == \"__main__\":\n",
        "\n",
        "    application = Application.builder().token(TELEGRAM_TOKEN).build()\n",
        "\n",
        "\n",
        "    application.add_handler(CommandHandler(\"start\", start))\n",
        "    application.add_handler(MessageHandler(filters.TEXT & ~filters.COMMAND, handle_ticker))\n",
        "\n",
        "\n",
        "    print(\"Бот запущен. Ожидаю сообщения...\")\n",
        "    asyncio.get_event_loop().run_until_complete(application.run_polling())"
      ]
    }
  ],
  "metadata": {
    "colab": {
      "provenance": []
    },
    "kernelspec": {
      "display_name": "Python 3",
      "name": "python3"
    },
    "language_info": {
      "name": "python"
    }
  },
  "nbformat": 4,
  "nbformat_minor": 0
}